{
 "cells": [
  {
   "cell_type": "markdown",
   "metadata": {},
   "source": [
    "# 1. Find the Missing Element"
   ]
  },
  {
   "cell_type": "code",
   "execution_count": 66,
   "metadata": {
    "collapsed": true
   },
   "outputs": [],
   "source": [
    "def finder(arr1, arr2):\n",
    "    arr1.sort()\n",
    "    arr2.sort()\n",
    "    \n",
    "    for num1, num2 in zip(arr1, arr2):\n",
    "        if num1 != num2:\n",
    "            return num1\n",
    "        \n",
    "    return arr1[-1]"
   ]
  },
  {
   "cell_type": "code",
   "execution_count": 67,
   "metadata": {},
   "outputs": [
    {
     "data": {
      "text/plain": [
       "5"
      ]
     },
     "execution_count": 67,
     "metadata": {},
     "output_type": "execute_result"
    }
   ],
   "source": [
    "arr1 = [1,2,3,4,5,6,7]\n",
    "arr2 = [3,7,2,1,4,6]\n",
    "finder(arr1, arr2)"
   ]
  },
  {
   "cell_type": "code",
   "execution_count": 68,
   "metadata": {
    "collapsed": true
   },
   "outputs": [],
   "source": [
    "import collections"
   ]
  },
  {
   "cell_type": "code",
   "execution_count": 69,
   "metadata": {
    "collapsed": true
   },
   "outputs": [],
   "source": [
    "def finder2(arr1, arr2):\n",
    "    d = collections.defaultdict(int)\n",
    "    for num in arr2:\n",
    "        d[num] += 1\n",
    "    \n",
    "    for num in arr1:\n",
    "        if d[num] == 0:\n",
    "            return num\n",
    "        else:\n",
    "            d[num] -= 1"
   ]
  },
  {
   "cell_type": "code",
   "execution_count": 70,
   "metadata": {},
   "outputs": [
    {
     "data": {
      "text/plain": [
       "5"
      ]
     },
     "execution_count": 70,
     "metadata": {},
     "output_type": "execute_result"
    }
   ],
   "source": [
    "arr1 = [5,5,7,7]\n",
    "arr2 = [5,7,7]\n",
    "\n",
    "finder2(arr1, arr2)"
   ]
  },
  {
   "cell_type": "markdown",
   "metadata": {},
   "source": [
    "# 2. Largest Continuous Sum"
   ]
  },
  {
   "cell_type": "code",
   "execution_count": 71,
   "metadata": {
    "collapsed": true
   },
   "outputs": [],
   "source": [
    "def larg_count_sum(arr):\n",
    "    if len(arr) == 0:\n",
    "        return 0\n",
    "    \n",
    "    max_sum = current_sum = arr[0]\n",
    "    for num in arr[1:]:\n",
    "        current_sum = max(current_sum+num, num)\n",
    "        max_sum = max(current_sum, max_sum)\n",
    "    \n",
    "    return max_sum"
   ]
  },
  {
   "cell_type": "code",
   "execution_count": 72,
   "metadata": {},
   "outputs": [
    {
     "data": {
      "text/plain": [
       "29"
      ]
     },
     "execution_count": 72,
     "metadata": {},
     "output_type": "execute_result"
    }
   ],
   "source": [
    "larg_count_sum([1,2,-1,3,4,10,10,-10,-1])"
   ]
  },
  {
   "cell_type": "markdown",
   "metadata": {},
   "source": [
    "# 3. Sentence Reversal"
   ]
  },
  {
   "cell_type": "code",
   "execution_count": 73,
   "metadata": {
    "collapsed": true
   },
   "outputs": [],
   "source": [
    "def rev_word(s):\n",
    "    \n",
    "    words = []\n",
    "    length = len(s)\n",
    "    spaces = [' ']\n",
    "    \n",
    "    i = 0\n",
    "    while i < length:\n",
    "        if s[i] not in spaces:\n",
    "            word_start = i\n",
    "            while i < length and s[i] not in spaces:\n",
    "                i += 1\n",
    "            words.append(s[word_start:i])\n",
    "        i += 1\n",
    "    return \" \".join(reversed(words))"
   ]
  },
  {
   "cell_type": "code",
   "execution_count": 74,
   "metadata": {},
   "outputs": [
    {
     "data": {
      "text/plain": [
       "'World and John Hello'"
      ]
     },
     "execution_count": 74,
     "metadata": {},
     "output_type": "execute_result"
    }
   ],
   "source": [
    "rev_word('  Hello John and World')"
   ]
  },
  {
   "cell_type": "markdown",
   "metadata": {},
   "source": [
    "# 4. String Compression"
   ]
  },
  {
   "cell_type": "code",
   "execution_count": 75,
   "metadata": {
    "collapsed": true
   },
   "outputs": [],
   "source": [
    "def compress(s):\n",
    "    s_new = ''\n",
    "    length = len(s)\n",
    "    if length == 0:\n",
    "        return ''\n",
    "    if length == 1:\n",
    "        return s + '1'\n",
    "    \n",
    "    i = 0\n",
    "    while i < length:\n",
    "        sym = s[i]\n",
    "        count = 1\n",
    "        while i+1 != length and sym == s[i+1]:\n",
    "            count += 1\n",
    "            i += 1\n",
    "        i += 1\n",
    "        s_new = s_new + sym + str(count)\n",
    "    return s_new"
   ]
  },
  {
   "cell_type": "code",
   "execution_count": 76,
   "metadata": {},
   "outputs": [
    {
     "data": {
      "text/plain": [
       "'A3B4C5D2E4e3'"
      ]
     },
     "execution_count": 76,
     "metadata": {},
     "output_type": "execute_result"
    }
   ],
   "source": [
    "compress('AAABBBBCCCCCDDEEEEeee')"
   ]
  },
  {
   "cell_type": "markdown",
   "metadata": {
    "collapsed": true
   },
   "source": [
    "# 5. Unique Characters in a String"
   ]
  },
  {
   "cell_type": "code",
   "execution_count": 77,
   "metadata": {
    "collapsed": true
   },
   "outputs": [],
   "source": [
    "def uni_char(s):\n",
    "    return len(set(s)) == len(s)"
   ]
  },
  {
   "cell_type": "code",
   "execution_count": 78,
   "metadata": {
    "collapsed": true
   },
   "outputs": [],
   "source": [
    "def uni_char2(s):\n",
    "    chars = set()\n",
    "    for let in s:\n",
    "        if let in chars:\n",
    "            return False\n",
    "        else:\n",
    "            chars.add(let)\n",
    "    return True"
   ]
  },
  {
   "cell_type": "code",
   "execution_count": 79,
   "metadata": {},
   "outputs": [
    {
     "data": {
      "text/plain": [
       "True"
      ]
     },
     "execution_count": 79,
     "metadata": {},
     "output_type": "execute_result"
    }
   ],
   "source": [
    "uni_char2('dwse')"
   ]
  },
  {
   "cell_type": "markdown",
   "metadata": {
    "collapsed": true
   },
   "source": [
    "# 6. Balanced Parantheses Check"
   ]
  },
  {
   "cell_type": "code",
   "execution_count": 80,
   "metadata": {
    "collapsed": true
   },
   "outputs": [],
   "source": [
    "def balance_check(s):\n",
    "    if len(s) % 2 != 0:\n",
    "        return False\n",
    "    \n",
    "    opening = set('([{')\n",
    "    maches = set([('(', ')'), ('[', ']'), ('{', '}')])\n",
    "    \n",
    "    stack = []\n",
    "    for paren in s:\n",
    "        if paren in opening:\n",
    "            stack.append(paren)\n",
    "        else:\n",
    "            if len(stack) == 0:\n",
    "                return False\n",
    "            last_open = stack.pop()\n",
    "            if (last_open, paren) not in maches:\n",
    "                return False\n",
    "    return len(stack) == 0"
   ]
  },
  {
   "cell_type": "code",
   "execution_count": 81,
   "metadata": {},
   "outputs": [
    {
     "data": {
      "text/plain": [
       "True"
      ]
     },
     "execution_count": 81,
     "metadata": {},
     "output_type": "execute_result"
    }
   ],
   "source": [
    "balance_check('[{}]()')"
   ]
  },
  {
   "cell_type": "markdown",
   "metadata": {},
   "source": [
    "# 7. Queue2Stacks"
   ]
  },
  {
   "cell_type": "code",
   "execution_count": 82,
   "metadata": {
    "collapsed": true
   },
   "outputs": [],
   "source": [
    "class Queue2Stacks(object):\n",
    "    def __init__(self):\n",
    "        self.stack1 = []\n",
    "        self.stack2 = []\n",
    "\n",
    "    def enqueue(self, element):\n",
    "        self.stack1.append(element)\n",
    "\n",
    "    def dequeue(self):\n",
    "        if not self.stack2:\n",
    "            return self.stack2.pop()\n",
    "        else:\n",
    "            if len(self.stack1) == 0:\n",
    "                print('Error: stack is empty')\n",
    "                exit(1)\n",
    "            while self.stack1:\n",
    "                self.stack2.append(self.stack1.pop())\n",
    "            return self.stack2.pop()"
   ]
  },
  {
   "cell_type": "markdown",
   "metadata": {},
   "source": [
    "# 8. Linked List Reversal"
   ]
  },
  {
   "cell_type": "code",
   "execution_count": 83,
   "metadata": {
    "collapsed": true
   },
   "outputs": [],
   "source": [
    "class Node(object):\n",
    "    def __init__(self, value):\n",
    "        self.value = value\n",
    "        self.nextnode = None"
   ]
  },
  {
   "cell_type": "code",
   "execution_count": 84,
   "metadata": {
    "collapsed": true
   },
   "outputs": [],
   "source": [
    "def reverse(node):\n",
    "    prev = None\n",
    "    current = node\n",
    "    while current:\n",
    "        next = current.nextnode\n",
    "        current.nextnode = prev\n",
    "        prev = current\n",
    "        current = next\n",
    "    return prev"
   ]
  },
  {
   "cell_type": "code",
   "execution_count": 85,
   "metadata": {
    "collapsed": true
   },
   "outputs": [],
   "source": [
    "a = Node(1)\n",
    "b = Node(2)\n",
    "c = Node(3)\n",
    "d = Node(4)\n",
    "a.nextnode = b\n",
    "b.nextnode = c\n",
    "c.nextnode = d"
   ]
  },
  {
   "cell_type": "code",
   "execution_count": 86,
   "metadata": {},
   "outputs": [
    {
     "data": {
      "text/plain": [
       "<__main__.Node at 0x10f6e2cf8>"
      ]
     },
     "execution_count": 86,
     "metadata": {},
     "output_type": "execute_result"
    }
   ],
   "source": [
    "reverse(a)"
   ]
  },
  {
   "cell_type": "code",
   "execution_count": 87,
   "metadata": {},
   "outputs": [
    {
     "name": "stdout",
     "output_type": "stream",
     "text": [
      "3\n",
      "2\n",
      "1\n"
     ]
    }
   ],
   "source": [
    "print(d.nextnode.value)\n",
    "print(c.nextnode.value)\n",
    "print(b.nextnode.value)"
   ]
  },
  {
   "cell_type": "markdown",
   "metadata": {},
   "source": [
    "# 9. Nth to last node"
   ]
  },
  {
   "cell_type": "code",
   "execution_count": 88,
   "metadata": {
    "collapsed": true
   },
   "outputs": [],
   "source": [
    "def nth_to_last_node(n, head):\n",
    "    node = head\n",
    "    last = head\n",
    "    for _ in range(n-1):\n",
    "        if not last.nextnode:\n",
    "            raise LookupError('Error: wrang n')\n",
    "        last = last.nextnode\n",
    "    while last.nextnode:\n",
    "        node = node.nextnode\n",
    "        last = last.nextnode\n",
    "    return node"
   ]
  },
  {
   "cell_type": "code",
   "execution_count": 89,
   "metadata": {
    "collapsed": true
   },
   "outputs": [],
   "source": [
    "a = Node(1)\n",
    "b = Node(2)\n",
    "c = Node(3)\n",
    "d = Node(4)\n",
    "e = Node(5)\n",
    "a.nextnode = b\n",
    "b.nextnode = c\n",
    "c.nextnode = d\n",
    "d.nextnode = e"
   ]
  },
  {
   "cell_type": "code",
   "execution_count": 90,
   "metadata": {},
   "outputs": [
    {
     "data": {
      "text/plain": [
       "3"
      ]
     },
     "execution_count": 90,
     "metadata": {},
     "output_type": "execute_result"
    }
   ],
   "source": [
    "target_node = nth_to_last_node(3, a)\n",
    "target_node.value"
   ]
  },
  {
   "cell_type": "markdown",
   "metadata": {},
   "source": [
    "# RECURSION"
   ]
  },
  {
   "cell_type": "markdown",
   "metadata": {},
   "source": [
    "## 10. Word split"
   ]
  },
  {
   "cell_type": "code",
   "execution_count": 2,
   "metadata": {
    "collapsed": true
   },
   "outputs": [],
   "source": [
    "def word_split(phrase, words):\n",
    "    if not phrase:\n",
    "        return []\n",
    "    len_phrase = len(phrase)\n",
    "    for word in words:\n",
    "        l = len(word)\n",
    "        if l <= len_phrase:\n",
    "            if word == phrase[:l]:\n",
    "                return [word] + word_split(phrase[l:], words)\n",
    "                break\n",
    "    return []"
   ]
  },
  {
   "cell_type": "code",
   "execution_count": 5,
   "metadata": {},
   "outputs": [
    {
     "name": "stdout",
     "output_type": "stream",
     "text": [
      "['the', 'man', 'ran']\n",
      "['i', 'love', 'dogs', 'John']\n",
      "[]\n"
     ]
    }
   ],
   "source": [
    "print(word_split('themanran', ['the', 'ran', 'man']))\n",
    "print(word_split('ilovedogsJohn', ['i', 'am', 'a', 'dogs', 'lover', 'love', 'John']))\n",
    "print(word_split('themanran', ['clown', 'ran', 'man']))"
   ]
  },
  {
   "cell_type": "markdown",
   "metadata": {},
   "source": [
    "## 11. Reverse a String"
   ]
  },
  {
   "cell_type": "code",
   "execution_count": null,
   "metadata": {
    "collapsed": true
   },
   "outputs": [],
   "source": [
    "def reverse(s):\n",
    "    if len(s) <= 1:\n",
    "        return s\n",
    "    return s[-1] + reverse(s[:-1])"
   ]
  },
  {
   "cell_type": "code",
   "execution_count": null,
   "metadata": {
    "collapsed": true
   },
   "outputs": [],
   "source": [
    "reverse('I like ice-cream')\n",
    "reverse('abc')"
   ]
  },
  {
   "cell_type": "markdown",
   "metadata": {},
   "source": [
    "## 12. All possible permutations"
   ]
  },
  {
   "cell_type": "code",
   "execution_count": null,
   "metadata": {
    "collapsed": true
   },
   "outputs": [],
   "source": [
    "def permute(s):\n",
    "    out = []\n",
    "    if len(s) == 1:\n",
    "        return [s]\n",
    "    else:\n",
    "        for i, let in enumerate(s):\n",
    "            for perm in permute(s[:i] + s[i+1:]):\n",
    "                out.append(let + perm)\n",
    "    return out"
   ]
  },
  {
   "cell_type": "code",
   "execution_count": null,
   "metadata": {
    "collapsed": true
   },
   "outputs": [],
   "source": [
    "permute('abc')"
   ]
  },
  {
   "cell_type": "markdown",
   "metadata": {},
   "source": [
    "## 13. Nth Fibonacci number"
   ]
  },
  {
   "cell_type": "code",
   "execution_count": null,
   "metadata": {
    "collapsed": true
   },
   "outputs": [],
   "source": [
    "mem = {}\n",
    "\n",
    "def fib(n):\n",
    "    if n == 0:\n",
    "        return 0\n",
    "    if n == 1 or n == 2:\n",
    "        return 1\n",
    "    \n",
    "    if n in mem:\n",
    "        return mem[n]\n",
    "    else:\n",
    "        n_fib = fib(n-1) + fib(n-2)\n",
    "        mem[n] = n_fib\n",
    "        return n_fib"
   ]
  },
  {
   "cell_type": "code",
   "execution_count": null,
   "metadata": {
    "collapsed": true
   },
   "outputs": [],
   "source": [
    "fib(5)"
   ]
  },
  {
   "cell_type": "code",
   "execution_count": null,
   "metadata": {
    "collapsed": true
   },
   "outputs": [],
   "source": [
    "class Memoize(object):\n",
    "    def __init__(self, f):\n",
    "        self.f = f\n",
    "        self.memo = {}\n",
    "        \n",
    "    def __call__(self, arg):\n",
    "        if arg not in self.memo:\n",
    "            self.memo[arg] = self.f(arg)\n",
    "        return self.memo[arg]"
   ]
  },
  {
   "cell_type": "code",
   "execution_count": null,
   "metadata": {
    "collapsed": true
   },
   "outputs": [],
   "source": [
    "@Memoize\n",
    "def fib(n):\n",
    " a,b = 1,1\n",
    " for i in range(n-1):\n",
    "  a,b = b,a+b\n",
    " return a\n",
    "\n",
    "\n",
    "@Memoize\n",
    "def fib2(n):\n",
    "    if n == 0:\n",
    "        return 0\n",
    "    if n == 1 or n == 2:\n",
    "        return 1\n",
    "\n",
    "    else:\n",
    "        return fib(n-1) + fib(n-2)"
   ]
  },
  {
   "cell_type": "code",
   "execution_count": null,
   "metadata": {
    "collapsed": true
   },
   "outputs": [],
   "source": [
    "print(fib2(5))\n",
    "# print fib(10)"
   ]
  },
  {
   "cell_type": "markdown",
   "metadata": {},
   "source": [
    "## 14. Coins change problem"
   ]
  },
  {
   "cell_type": "code",
   "execution_count": null,
   "metadata": {
    "collapsed": true
   },
   "outputs": [],
   "source": [
    "class Memoize(object):\n",
    "    def __init__(self, f):\n",
    "        self.f = f\n",
    "        self.mem = {}\n",
    "\n",
    "    def __call__(self, *args):\n",
    "        arg = args[1]\n",
    "        if arg not in self.mem:\n",
    "            self.mem[arg] = self.f(args)\n",
    "        return self.mem[arg]\n",
    "\n",
    "@Memoize\n",
    "def rec_mc(arg):\n",
    "    coins, change = arg\n",
    "    if change in coins:\n",
    "        return 1\n",
    "\n",
    "    min_coins = change\n",
    "    for c in [c for c in coins if c <= change]:\n",
    "        num_coins = 1 + rec_mc(coins, change - c)\n",
    "        if num_coins < min_coins:\n",
    "            min_coins = num_coins\n",
    "    return min_coins"
   ]
  },
  {
   "cell_type": "code",
   "execution_count": null,
   "metadata": {
    "collapsed": true
   },
   "outputs": [],
   "source": [
    "print(rec_mc([1,5,10,25], 63))"
   ]
  },
  {
   "cell_type": "markdown",
   "metadata": {},
   "source": [
    "# 15. Depth-First Search"
   ]
  },
  {
   "cell_type": "code",
   "execution_count": null,
   "metadata": {
    "collapsed": true
   },
   "outputs": [],
   "source": [
    "graph = {'A': set(['B', 'C']),\n",
    "         'B': set(['A', 'D', 'E']),\n",
    "         'C': set(['A', 'F']),\n",
    "         'D': set(['B']),\n",
    "         'E': set(['B', 'F']),\n",
    "         'F': set(['C', 'E'])}"
   ]
  },
  {
   "cell_type": "code",
   "execution_count": null,
   "metadata": {
    "collapsed": true
   },
   "outputs": [],
   "source": [
    "def dfs(graph, start):\n",
    "    visited, stack = set(), [start]\n",
    "    while stack:\n",
    "        vertex = stack.pop()\n",
    "        if vertex not in visited:\n",
    "            visited.add(vertex)\n",
    "            stack.extend(graph[vertex] - visited)\n",
    "    return visited\n",
    "\n",
    "dfs(graph, 'A')"
   ]
  },
  {
   "cell_type": "markdown",
   "metadata": {},
   "source": [
    "# 16. Breadth-First Search"
   ]
  },
  {
   "cell_type": "code",
   "execution_count": null,
   "metadata": {
    "collapsed": true
   },
   "outputs": [],
   "source": [
    "def bfs(graph,  start):\n",
    "    visited, queue = set(), [start]\n",
    "    while queue:\n",
    "        vertex = queue.pop(0)\n",
    "        if vertex not in visited:\n",
    "            queue.extend(graph[vertex] - visited)\n",
    "            visited.add(vertex)\n",
    "    return visited  \n",
    "\n",
    "bfs(graph, 'A')"
   ]
  },
  {
   "cell_type": "markdown",
   "metadata": {},
   "source": [
    "# 17. Print all valid parenthes(CrackingTheCodinglnterview)"
   ]
  },
  {
   "cell_type": "raw",
   "metadata": {},
   "source": [
    "Implement an algorithm to print all valid (e.g., properly opened and closed) combinations of n-pairs of parentheses.\n",
    "EXAMPLE\n",
    "Input: 3\n",
    "Output:((())), (()()), (())(), ()(()), ()()()"
   ]
  },
  {
   "cell_type": "code",
   "execution_count": 3,
   "metadata": {
    "collapsed": true
   },
   "outputs": [],
   "source": [
    "class Solution:\n",
    "    def generateParenthesis(self, n):\n",
    "        \"\"\"\n",
    "        :type n: int\n",
    "        :rtype: List[str]\n",
    "        \"\"\"\n",
    "        if not isinstance(n, int):\n",
    "          raise ValueError()\n",
    "        else:\n",
    "          return self._valid_parent(0, 0, n, '')\n",
    "\n",
    "    def _valid_parent(self, left, right, n, s):\n",
    "        if left > right and left == n:\n",
    "          return [s +')'*(n-right)]\n",
    "        if left == right and left < n:\n",
    "          return self._valid_parent(left+1, right, n, s+'(')\n",
    "        if left > right and left < n:\n",
    "          return self._valid_parent(left+1, right, n, s+'(') + self._valid_parent(left, right+1, n, s+')')\n",
    "        return []"
   ]
  },
  {
   "cell_type": "code",
   "execution_count": 5,
   "metadata": {},
   "outputs": [
    {
     "name": "stdout",
     "output_type": "stream",
     "text": [
      "['((()))', '(()())', '(())()', '()(())', '()()()']\n"
     ]
    }
   ],
   "source": [
    "print(Solution().generateParenthesis(n=3))"
   ]
  },
  {
   "cell_type": "markdown",
   "metadata": {},
   "source": [
    "# 18. Valid Parentheses (leetcode.com)"
   ]
  },
  {
   "cell_type": "raw",
   "metadata": {},
   "source": [
    "Given a string containing just the characters '(', ')', '{', '}', '[' and ']', determine if the input string is valid.\n",
    "\n",
    "An input string is valid if:\n",
    "\n",
    "Open brackets must be closed by the same type of brackets.\n",
    "Open brackets must be closed in the correct order.\n",
    "Note that an empty string is also considered valid."
   ]
  },
  {
   "cell_type": "code",
   "execution_count": 2,
   "metadata": {
    "collapsed": true
   },
   "outputs": [],
   "source": [
    "class Solution(object):\n",
    "    def isValid(self, s):\n",
    "      if not isinstance(s, str):\n",
    "        raise TypeError\n",
    "      if s == '':\n",
    "        return True\n",
    "      counts = {\n",
    "      '[': 0,\n",
    "      '(': 0,\n",
    "      '{': 0,\n",
    "        }\n",
    "      open_set =set( ['(', '{', '['])\n",
    "      close_set = set([')', '}', ']'])\n",
    "      p_dict = {\n",
    "        '[': ']',\n",
    "        ']': '[',\n",
    "        '{': '}',\n",
    "        '}': '{',\n",
    "        '(': ')',\n",
    "         ')':'('\n",
    "        }\n",
    "      \n",
    "      open_parent_hist = []\n",
    "      for ch in s:\n",
    "        if ch in open_set:\n",
    "          counts[ch] += 1\n",
    "          open_parent_hist.append(ch)\n",
    "        elif ch in close_set:\n",
    "          if not open_parent_hist:\n",
    "            return False\n",
    "          pair = p_dict[ch]\n",
    "          if pair != open_parent_hist.pop():\n",
    "            return False\n",
    "          counts[pair] -= 1\n",
    "          if counts[pair] < 0:\n",
    "            return False\n",
    "        else:\n",
    "          return False\n",
    "      if sum(counts.values()) > 0:\n",
    "        return False\n",
    "      else:\n",
    "        return True    \n",
    "\n"
   ]
  },
  {
   "cell_type": "code",
   "execution_count": 3,
   "metadata": {},
   "outputs": [
    {
     "data": {
      "text/plain": [
       "True"
      ]
     },
     "execution_count": 3,
     "metadata": {},
     "output_type": "execute_result"
    }
   ],
   "source": [
    "Solution().isValid(\"()[]{}\")"
   ]
  },
  {
   "cell_type": "markdown",
   "metadata": {},
   "source": [
    "# 19. Maximum Depth of N-ary Tree"
   ]
  },
  {
   "cell_type": "raw",
   "metadata": {},
   "source": [
    "Given a n-ary tree, find its maximum depth.\n",
    "\n",
    "The maximum depth is the number of nodes along the longest path from the root node down to the farthest leaf node."
   ]
  },
  {
   "cell_type": "code",
   "execution_count": 7,
   "metadata": {
    "collapsed": true
   },
   "outputs": [],
   "source": [
    "\"\"\"\n",
    "# Definition for a Node.\n",
    "class Node(object):\n",
    "    def __init__(self, val, children):\n",
    "        self.val = val\n",
    "        self.children = children\n",
    "\"\"\"\n",
    "class Solution(object):\n",
    "    def maxDepthRec(self, root):\n",
    "        \"\"\"\n",
    "        :type root: Node\n",
    "        :rtype: int\n",
    "        \"\"\"\n",
    "        if not root:\n",
    "          return 0\n",
    "        \n",
    "        def _maxDepth(root, max_d , cur_d):\n",
    "          if not root.children:\n",
    "            if cur_d + 1 > max_d:\n",
    "              max_d = cur_d +1\n",
    "            return max_d\n",
    "          cur_d += 1\n",
    "          for root in root.children:\n",
    "            max_d = _maxDepth(root, max_d , cur_d)\n",
    "          return max_d\n",
    "        \n",
    "        max_d , cur_d = 0, 0\n",
    "        max_d = _maxDepth(root, max_d , cur_d)\n",
    "        return max_d\n",
    "    \n",
    "    def maxDepthIter(self, root):\n",
    "        if not root:\n",
    "          return 0\n",
    "        if not root.children:\n",
    "          return 1\n",
    "        max_d= 0\n",
    "        stack = [(1, root)]\n",
    "        while stack:\n",
    "          cur_d, node = stack.pop(0)\n",
    "          if node.children:\n",
    "            for childe in node.children:\n",
    "              stack.append((cur_d+1, childe))\n",
    "              max_d = max(max_d, cur_d+1)\n",
    "        return max_d\n"
   ]
  },
  {
   "cell_type": "markdown",
   "metadata": {
    "collapsed": true
   },
   "source": [
    "# 20. Coin Change 2 (CrackingTheCodinglnterview)"
   ]
  },
  {
   "cell_type": "markdown",
   "metadata": {},
   "source": [
    "You are given coins of different denominations and a total amount of money. Write a function to compute the number of combinations that make up that amount. You may assume that you have infinite number of each kind of coin.\n",
    "\n",
    "Note: You can assume that\n",
    "\n",
    "0 <= amount <= 5000\n",
    "1 <= coin <= 5000\n",
    "the number of coins is less than 500\n",
    "the answer is guaranteed to fit into signed 32-bit integer"
   ]
  },
  {
   "cell_type": "code",
   "execution_count": 4,
   "metadata": {
    "collapsed": true
   },
   "outputs": [],
   "source": [
    "class Solution(object):\n",
    "    def change(self, n, coins):\n",
    "      amount = [0] * (n + 1)\n",
    "      amount[0] = 1\n",
    "      for c in coins:\n",
    "          for am in range(c, n + 1):\n",
    "              amount[am] += amount[am - c]\n",
    "      return amount[-1]"
   ]
  },
  {
   "cell_type": "code",
   "execution_count": 5,
   "metadata": {},
   "outputs": [
    {
     "data": {
      "text/plain": [
       "4"
      ]
     },
     "execution_count": 5,
     "metadata": {},
     "output_type": "execute_result"
    }
   ],
   "source": [
    "Solution().change(5, [1, 2, 5])"
   ]
  },
  {
   "cell_type": "markdown",
   "metadata": {},
   "source": [
    "# 21. Subsets (CrackingTheCodinglnterview, leetcode.com)"
   ]
  },
  {
   "cell_type": "raw",
   "metadata": {},
   "source": [
    "Given a set of distinct integers, nums, return all possible subsets (the power set).\n",
    "\n",
    "Note: The solution set must not contain duplicate subsets."
   ]
  },
  {
   "cell_type": "code",
   "execution_count": 6,
   "metadata": {
    "collapsed": true
   },
   "outputs": [],
   "source": [
    "from collections import Iterable\n",
    "\n",
    "\n",
    "class Solution(object):\n",
    "    def subsets(self, nums):\n",
    "        \"\"\"\n",
    "        :type nums: List[int]\n",
    "        :rtype: List[List[int]]\n",
    "        \"\"\"\n",
    "        if not isinstance(nums, Iterable):\n",
    "          raise TypeError()\n",
    "        res = [[]]\n",
    "        for num in nums:\n",
    "          res += [st + [num] for st in res]\n",
    "        return res"
   ]
  },
  {
   "cell_type": "code",
   "execution_count": 8,
   "metadata": {},
   "outputs": [
    {
     "data": {
      "text/plain": [
       "[[], [1], [2], [1, 2], [3], [1, 3], [2, 3], [1, 2, 3]]"
      ]
     },
     "execution_count": 8,
     "metadata": {},
     "output_type": "execute_result"
    }
   ],
   "source": [
    "Solution().subsets([1, 2, 3])"
   ]
  },
  {
   "cell_type": "markdown",
   "metadata": {},
   "source": [
    "# 22. Subsets 2 (leetcode.com)"
   ]
  },
  {
   "cell_type": "raw",
   "metadata": {},
   "source": [
    "Given a collection of integers that might contain duplicates, nums, return all possible subsets (the power set).\n",
    "\n",
    "Note: The solution set must not contain duplicate subsets.\n",
    "\n",
    "Example:\n",
    "\n",
    "# Input: [1,2,2]\n",
    "# Output:\n",
    "# [\n",
    "#   [2],\n",
    "#   [1],\n",
    "#   [1,2,2],\n",
    "#   [2,2],\n",
    "#   [1,2],\n",
    "#   []\n",
    "# ]"
   ]
  },
  {
   "cell_type": "code",
   "execution_count": 11,
   "metadata": {
    "collapsed": true
   },
   "outputs": [],
   "source": [
    "class Solution(object):\n",
    "    def subsetsWithDup(self, nums):\n",
    "        \"\"\"\n",
    "        :type nums: List[int]\n",
    "        :rtype: List[List[int]]\n",
    "        \"\"\"\n",
    "        res, temp = [[]], [[]]\n",
    "        nums.sort()\n",
    "        for num_id, num in enumerate(nums):\n",
    "          if num != nums[num_id-1]:\n",
    "            temp = [st + [num] for st in res]\n",
    "            res += temp\n",
    "          else:\n",
    "            temp = [st + [num] for st in temp]\n",
    "            res += temp\n",
    "\n",
    "        return res"
   ]
  },
  {
   "cell_type": "code",
   "execution_count": 13,
   "metadata": {},
   "outputs": [
    {
     "data": {
      "text/plain": [
       "[[], [1], [2], [1, 2], [2, 2], [1, 2, 2]]"
      ]
     },
     "execution_count": 13,
     "metadata": {},
     "output_type": "execute_result"
    }
   ],
   "source": [
    "Solution().subsetsWithDup([1, 2, 2])"
   ]
  },
  {
   "cell_type": "code",
   "execution_count": null,
   "metadata": {
    "collapsed": true
   },
   "outputs": [],
   "source": []
  },
  {
   "cell_type": "code",
   "execution_count": 112,
   "metadata": {
    "collapsed": true
   },
   "outputs": [],
   "source": [
    "class TrieNode(object):\n",
    "  def __init__(self, value=None):\n",
    "    self.value = value\n",
    "    self.children = {}\n",
    "\n",
    "class MapSum(object):\n",
    "  def __init__(self):\n",
    "    self.children = {}\n",
    "\n",
    "  def insert(self, key, value):\n",
    "    current = self\n",
    "    for i in range(1, len(key)+1):\n",
    "      if current.children.get(key[:i], None) == None:\n",
    "        current.children[key[:i]] = TrieNode()\n",
    "      current = current.children[key[:i]]\n",
    "    current.value = value\n",
    "    \n",
    "  def sum(self, prefix):\n",
    "    current = self\n",
    "    for i in range(1, len(prefix)+1):\n",
    "      if current.children.get(prefix[:i], None) == None:\n",
    "        raise ValueError()\n",
    "      current = current.children[prefix[:i]]\n",
    "    sum = self._sum(current, current.value if current.value else 0)\n",
    "    return sum\n",
    "\n",
    "  def _sum(self, current, sum):\n",
    "    queue = list(current.children.values())\n",
    "    while queue:\n",
    "      current = queue.pop()\n",
    "      if current.value:\n",
    "        sum += current.value\n",
    "      if current.children.values():\n",
    "        queue.append(current.children.values())\n",
    "    return sum\n",
    "\n"
   ]
  },
  {
   "cell_type": "code",
   "execution_count": 113,
   "metadata": {
    "collapsed": true
   },
   "outputs": [],
   "source": [
    "m = MapSum()\n",
    "m.insert('abc', 10)"
   ]
  },
  {
   "cell_type": "code",
   "execution_count": 114,
   "metadata": {},
   "outputs": [
    {
     "data": {
      "text/plain": [
       "10"
      ]
     },
     "execution_count": 114,
     "metadata": {},
     "output_type": "execute_result"
    }
   ],
   "source": [
    "m.children['a'].children['ab'].children['abc'].value"
   ]
  },
  {
   "cell_type": "code",
   "execution_count": 115,
   "metadata": {},
   "outputs": [
    {
     "data": {
      "text/plain": [
       "10"
      ]
     },
     "execution_count": 115,
     "metadata": {},
     "output_type": "execute_result"
    }
   ],
   "source": [
    "m.sum('ab')"
   ]
  },
  {
   "cell_type": "markdown",
   "metadata": {},
   "source": [
    "# 23. Climbing Stairs (CrackingTheCodinglnterview, leetcode.com)"
   ]
  },
  {
   "cell_type": "raw",
   "metadata": {},
   "source": [
    "You are climbing a stair case. It takes n steps to reach to the top.\n",
    "\n",
    "Each time you can either climb 1 or 2 steps. In how many distinct ways can you climb to the top?\n",
    "\n",
    "Note: Given n will be a positive integer.\n",
    "\n",
    "Example 1:\n",
    "\n",
    "Input: 2\n",
    "Output: 2\n",
    "Explanation: There are two ways to climb to the top.\n",
    "1. 1 step + 1 step\n",
    "2. 2 steps"
   ]
  },
  {
   "cell_type": "code",
   "execution_count": null,
   "metadata": {
    "collapsed": true
   },
   "outputs": [],
   "source": [
    "class Solution:\n",
    "    def __init__(self):\n",
    "      self.memo = {}\n",
    "      self.step_modes = [1, 2]\n",
    "    def climbStairsMem(self, n):\n",
    "      if n < 0:\n",
    "        return 0\n",
    "      if n == 0:\n",
    "        return 1\n",
    "      curr_sum = 0\n",
    "      for step in self.step_modes:\n",
    "        if n-step in self.memo:\n",
    "          curr_sum += self.memo[n-step]\n",
    "        else:\n",
    "          sum_ = self.climbStairs(n-step)\n",
    "          curr_sum += sum_\n",
    "          self.memo[n-step] = sum_\n",
    "      return curr_sum\n",
    "    \n",
    "    def climbStairs(self, n):\n",
    "      if n < 0:\n",
    "        return 0\n",
    "      if n == 1:\n",
    "        return 1\n",
    "      res = [0, 1, 2]\n",
    "      for _ in range(n-2):\n",
    "        res.append(res[-1] + res[-2])\n",
    "        del res[0]\n",
    "      return res[-1]"
   ]
  },
  {
   "cell_type": "markdown",
   "metadata": {},
   "source": [
    "# 24. Unique Paths (CrackingTheCodinglnterview, leetcode.com)"
   ]
  },
  {
   "cell_type": "raw",
   "metadata": {},
   "source": [
    "A robot is located at the top-left corner of a m x n grid (marked 'Start' in the diagram below).\n",
    "\n",
    "The robot can only move either down or right at any point in time. The robot is trying to reach the bottom-right corner of the grid (marked 'Finish' in the diagram below).\n",
    "\n",
    "How many possible unique paths are there?\n",
    "\n",
    "Input: m = 3, n = 2\n",
    "Output: 3\n",
    "Explanation:\n",
    "From the top-left corner, there are a total of 3 ways to reach the bottom-right corner:\n",
    "1. Right -> Right -> Down\n",
    "2. Right -> Down -> Right\n",
    "3. Down -> Right -> Right"
   ]
  },
  {
   "cell_type": "code",
   "execution_count": null,
   "metadata": {
    "collapsed": true
   },
   "outputs": [],
   "source": [
    "class Solution:\n",
    "  \n",
    "    def uniquePaths(self, x_max, y_max):\n",
    "        \"\"\"\n",
    "        :type m: int\n",
    "        :type n: int\n",
    "        :rtype: int\n",
    "        \"\"\"\n",
    "        # check args\n",
    "        if x_max == y_max == 1:\n",
    "            return 1\n",
    "        res = [[0] * y_max for _ in range(x_max)]\n",
    "        res[0][y_max - 1] = 1\n",
    "        for y in range(y_max - 1, -1, -1):\n",
    "            for x in range(x_max):\n",
    "                if x - 1 >= 0:\n",
    "                    res[x][y] += res[x - 1][y]\n",
    "                if y + 1 <= y_max - 1:\n",
    "                    res[x][y] += res[x][y + 1]\n",
    "        return res[x_max - 1][0]"
   ]
  },
  {
   "cell_type": "markdown",
   "metadata": {
    "collapsed": true
   },
   "source": [
    "# 25. Flood Fill/Paint Fill (CrackingTheCodinglnterview, leetcode.com)\n",
    "An image is represented by a 2-D array of integers, each integer representing the pixel value of the image (from 0 to 65535).\n",
    "\n",
    "Given a coordinate (sr, sc) representing the starting pixel (row and column) of the flood fill, and a pixel value newColor, \"flood fill\" the image.\n",
    "\n",
    "To perform a \"flood fill\", consider the starting pixel, plus any pixels connected 4-directionally to the starting pixel of the same color as the starting pixel, plus any pixels connected 4-directionally to those pixels (also with the same color as the starting pixel), and so on. Replace the color of all of the aforementioned pixels with the newColor.\n",
    "\n",
    "At the end, return the modified image.\n",
    "\n",
    "Example 1:\n",
    "Input: \n",
    "image = [[1,1,1],[1,1,0],[1,0,1]]\n",
    "sr = 1, sc = 1, newColor = 2\n",
    "Output: [[2,2,2],[2,2,0],[2,0,1]]\n",
    "Explanation: \n",
    "From the center of the image (with position (sr, sc) = (1, 1)), all pixels connected \n",
    "by a path of the same color as the starting pixel are colored with the new color.\n",
    "Note the bottom corner is not colored 2, because it is not 4-directionally connected\n",
    "to the starting pixel."
   ]
  },
  {
   "cell_type": "code",
   "execution_count": 1,
   "metadata": {},
   "outputs": [
    {
     "data": {
      "text/plain": [
       "[[0, 0, 0], [0, 2, 2]]"
      ]
     },
     "execution_count": 1,
     "metadata": {},
     "output_type": "execute_result"
    }
   ],
   "source": [
    "class Solution:\n",
    "\n",
    "    def floodFill(self, image, sr, sc, newColor):\n",
    "        if image[sr][sc] == newColor:\n",
    "          return image\n",
    "        border_r = len(image) - 1\n",
    "        border_c = len(image[0]) - 1\n",
    "        s_val = image[sr][sc]\n",
    "        queue = [(sr, sc)]\n",
    "        while queue:\n",
    "            sr, sc = queue.pop()\n",
    "            image[sr][sc] = newColor\n",
    "            if sr + 1 <= border_r and image[sr + 1][sc] == s_val:\n",
    "                queue.append((sr + 1, sc))\n",
    "            if sr - 1 >= 0 and image[sr - 1][sc] == s_val:\n",
    "                queue.append((sr - 1, sc))\n",
    "            if sc + 1 <= border_c and image[sr][sc + 1] == s_val:\n",
    "                queue.append((sr, sc + 1))\n",
    "            if sc - 1 >= 0 and image[sr][sc - 1] == s_val:\n",
    "                queue.append((sr, sc - 1))\n",
    "\n",
    "        return image\n",
    "    \n",
    "Solution().floodFill([[0,0,0],[0,1,1]], 1, 1, 2)\n"
   ]
  },
  {
   "cell_type": "markdown",
   "metadata": {},
   "source": [
    "# 26.String Compression (CrackingTheCodinglnterview, leetcode.com)"
   ]
  },
  {
   "cell_type": "raw",
   "metadata": {},
   "source": [
    "Given an array of characters, compress it in-place.\n",
    "\n",
    "The length after compression must always be smaller than or equal to the original array.\n",
    "\n",
    "Every element of the array should be a character (not int) of length 1.\n",
    "\n",
    "After you are done modifying the input array in-place, return the new length of the array.\n",
    "\n",
    " \n",
    "Follow up:\n",
    "Could you solve it using only O(1) extra space?\n",
    "\n",
    " \n",
    "Example 1:\n",
    "\n",
    "Input:\n",
    "[\"a\",\"a\",\"b\",\"b\",\"c\",\"c\",\"c\"]\n",
    "\n",
    "Output:\n",
    "Return 6, and the first 6 characters of the input array should be: [\"a\",\"2\",\"b\",\"2\",\"c\",\"3\"]\n",
    "\n",
    "Explanation:\n",
    "\"aa\" is replaced by \"a2\". \"bb\" is replaced by \"b2\". \"ccc\" is replaced by \"c3\"."
   ]
  },
  {
   "cell_type": "code",
   "execution_count": 2,
   "metadata": {},
   "outputs": [
    {
     "data": {
      "text/plain": [
       "['a', '2', 'b', '2', 'c', '3']"
      ]
     },
     "execution_count": 2,
     "metadata": {},
     "output_type": "execute_result"
    }
   ],
   "source": [
    "class Solution:\n",
    "    def compress(self, chars):\n",
    "      # if not isinstance(chars, list):\n",
    "      #   raise TypeError()\n",
    "      if len(chars) < 2:\n",
    "        return chars\n",
    "      i = 0\n",
    "      while i < len(chars) - 1:\n",
    "        c = cur = chars[i]\n",
    "        count = 0\n",
    "        while c == cur:\n",
    "          count += 1\n",
    "          i += 1\n",
    "          if i <= len(chars)-1:\n",
    "           c = chars[i]\n",
    "          else:\n",
    "              break\n",
    "\n",
    "        if count > 1:\n",
    "          count_str = str(count)\n",
    "          chars[i-count+1:] = list(count_str) + chars[i:]\n",
    "          i = i - count + 1 +len(count_str)\n",
    "\n",
    "      return chars\n",
    "\n",
    "Solution().compress([\"a\",\"a\",\"b\",\"b\",\"c\",\"c\",\"c\"])"
   ]
  },
  {
   "cell_type": "markdown",
   "metadata": {
    "collapsed": true
   },
   "source": [
    "# 27.Rotate Image (CrackingTheCodinglnterview, leetcode.com)"
   ]
  },
  {
   "cell_type": "raw",
   "metadata": {},
   "source": [
    "You are given an n x n 2D matrix representing an image.\n",
    "\n",
    "Rotate the image by 90 degrees (clockwise).\n",
    "\n",
    "Note:\n",
    "\n",
    "You have to rotate the image in-place, which means you have to modify the input 2D matrix directly. DO NOT allocate another 2D matrix and do the rotation.\n",
    "\n",
    "Example 1:\n",
    "\n",
    "Given input matrix = \n",
    "[\n",
    "  [1,2,3],\n",
    "  [4,5,6],\n",
    "  [7,8,9]\n",
    "],\n",
    "\n",
    "rotate the input matrix in-place such that it becomes:\n",
    "[\n",
    "  [7,4,1],\n",
    "  [8,5,2],\n",
    "  [9,6,3]\n",
    "]"
   ]
  },
  {
   "cell_type": "code",
   "execution_count": 4,
   "metadata": {},
   "outputs": [
    {
     "data": {
      "text/plain": [
       "[[15, 13, 2, 5], [14, 3, 4, 1], [12, 6, 8, 9], [16, 7, 10, 11]]"
      ]
     },
     "execution_count": 4,
     "metadata": {},
     "output_type": "execute_result"
    }
   ],
   "source": [
    "class Solution:\n",
    "    def rotate(self, A):\n",
    "        \"\"\"\n",
    "        :type matrix: List[List[int]]\n",
    "        :rtype: void Do not return anything, modify matrix in-place instead.\n",
    "        \"\"\"\n",
    "        n = len(A)\n",
    "        for i in range(n // 2):\n",
    "          for j in range(n - n // 2):\n",
    "            A[i][j], A[n-j-1][i], A[n-i-1][n-j-1], A[j][n-i-1] = A[n-j-1][i], A[n-i-1][n-j-1], A[j][n-i-1], A[i][j]\n",
    "\n",
    "\n",
    "A = [\n",
    "  [ 5, 1, 9,11],\n",
    "  [ 2, 4, 8,10],\n",
    "  [13, 3, 6, 7],\n",
    "  [15,14,12,16]\n",
    "]        \n",
    "Solution().rotate(A)\n",
    "A"
   ]
  },
  {
   "cell_type": "markdown",
   "metadata": {
    "collapsed": true
   },
   "source": [
    "# 28.Rotate List (leetcode.com)"
   ]
  },
  {
   "cell_type": "raw",
   "metadata": {},
   "source": [
    "Given a linked list, rotate the list to the right by k places, where k is non-negative.\n",
    "\n",
    "Example 1:\n",
    "\n",
    "Input: 1->2->3->4->5->NULL, k = 2\n",
    "Output: 4->5->1->2->3->NULL\n",
    "Explanation:\n",
    "rotate 1 steps to the right: 5->1->2->3->4->NULL\n",
    "rotate 2 steps to the right: 4->5->1->2->3->NULL\n",
    "Example 2:\n",
    "\n",
    "Input: 0->1->2->NULL, k = 4\n",
    "Output: 2->0->1->NULL\n",
    "Explanation:\n",
    "rotate 1 steps to the right: 2->0->1->NULL\n",
    "rotate 2 steps to the right: 1->2->0->NULL\n",
    "rotate 3 steps to the right: 0->1->2->NULL\n",
    "rotate 4 steps to the right: 2->0->1->NULL"
   ]
  },
  {
   "cell_type": "code",
   "execution_count": 8,
   "metadata": {},
   "outputs": [
    {
     "name": "stdout",
     "output_type": "stream",
     "text": [
      "Input:\n",
      "1 2 3 4 5 \n",
      "Output:\n",
      "4 5 1 2 3 "
     ]
    }
   ],
   "source": [
    "class ListNode:\n",
    "    def __init__(self, x):\n",
    "        self.val = x\n",
    "        self.next = None\n",
    "\n",
    "class Solution:\n",
    "    def rotateRight(self, head, k):\n",
    "      \"\"\"\n",
    "      :type head: ListNode\n",
    "      :type k: int\n",
    "      :rtype: ListNode\n",
    "      \"\"\"\n",
    "\n",
    "      if not head or not head.next:\n",
    "          return head\n",
    "\n",
    "      # count length of the list\n",
    "      n = 0\n",
    "      elem = head\n",
    "      while elem != None:\n",
    "          n += 1\n",
    "          if elem.next == None:\n",
    "              elem.next = head\n",
    "              break\n",
    "          elem = elem.next\n",
    "\n",
    "      i = 1\n",
    "      elem = head\n",
    "      while i <= n - k:\n",
    "          if i == n - k:\n",
    "              head = elem.next\n",
    "              elem.next = None\n",
    "              break\n",
    "          elem = elem.next\n",
    "          i += 1\n",
    "\n",
    "      return head\n",
    "\n",
    "\n",
    "l = ListNode(1)\n",
    "head = l\n",
    "for i in range(2, 6):\n",
    "  l.next = ListNode(i)\n",
    "  l = l.next\n",
    "\n",
    "print('Input:')\n",
    "l = head\n",
    "while l != None:\n",
    "  print(l.val, end=' ')\n",
    "  l = l.next\n",
    "\n",
    "head = Solution().rotateRight(head, 2)\n",
    "print()\n",
    "print('Output:')\n",
    "l = head\n",
    "while l != None:\n",
    "  print(l.val, end=' ')\n",
    "  l = l.next"
   ]
  },
  {
   "cell_type": "markdown",
   "metadata": {},
   "source": [
    "# 29.Rotate String (CrackingTheCodinglnterview, leetcode.com)"
   ]
  },
  {
   "cell_type": "raw",
   "metadata": {},
   "source": [
    "We are given two strings, A and B.\n",
    "\n",
    "A shift on A consists of taking string A and moving the leftmost character to the rightmost position. For example, if A = 'abcde', then it will be 'bcdea' after one shift on A. Return True if and only if A can become B after some number of shifts on A.\n",
    "\n",
    "Example 1:\n",
    "Input: A = 'abcde', B = 'cdeab'\n",
    "Output: true\n",
    "\n",
    "Example 2:\n",
    "Input: A = 'abcde', B = 'abced'\n",
    "Output: false"
   ]
  },
  {
   "cell_type": "code",
   "execution_count": 11,
   "metadata": {},
   "outputs": [
    {
     "name": "stdout",
     "output_type": "stream",
     "text": [
      "True\n"
     ]
    }
   ],
   "source": [
    "class Solution:\n",
    "    def rotateString(self, A, B):\n",
    "        \"\"\"\n",
    "        :type A: str\n",
    "        :type B: str\n",
    "        :rtype: bool\n",
    "        \"\"\"\n",
    "        if len(A) != len(B):\n",
    "            return False\n",
    "        return A in B + B\n",
    "        \n",
    "print(Solution().rotateString('waterbottle', 'erbottlewat'))"
   ]
  },
  {
   "cell_type": "markdown",
   "metadata": {},
   "source": [
    "# 30. Hamming Distance (leetcode.com)"
   ]
  },
  {
   "cell_type": "code",
   "execution_count": 15,
   "metadata": {},
   "outputs": [
    {
     "name": "stdout",
     "output_type": "stream",
     "text": [
      "2\n"
     ]
    }
   ],
   "source": [
    "class Solution:\n",
    "    def int2bin(self, a):\n",
    "      if not isinstance(a, int):\n",
    "        raise TypeError()\n",
    "        \n",
    "      if a == 0:\n",
    "        return [0]\n",
    "      b = []\n",
    "      is_converted = False\n",
    "      res = a\n",
    "      while not is_converted:\n",
    "        rem = res % 2\n",
    "        res = res // 2\n",
    "        b.insert(0, rem)\n",
    "        if (res == 0 and rem == 1):\n",
    "          is_converted = True\n",
    "      return b\n",
    "\n",
    "    def hammingDistance(self, x, y):\n",
    "        \"\"\"\n",
    "        :type x: int\n",
    "        :type y: int\n",
    "        :rtype: int\n",
    "        \"\"\"\n",
    "        x_bin, y_bin = self.int2bin(x), self.int2bin(y)\n",
    "        x_len, y_len = len(x_bin), len(y_bin)\n",
    "        dif = 0\n",
    "        if x_len >= y_len:\n",
    "            d = x_len-y_len\n",
    "            dif += sum(x_bin[:d])\n",
    "            for i in range(y_len):\n",
    "                if y_bin[i] != x_bin[d + i]:\n",
    "                    dif += 1\n",
    "        else:\n",
    "            d = y_len - x_len\n",
    "            dif += sum(y_bin[:d])\n",
    "            for i in range(x_len):\n",
    "                if x_bin[i] != y_bin[d + i]:\n",
    "                    dif += 1\n",
    "                    \n",
    "        return dif\n",
    "    \n",
    "    def hammingDistance2(self, x, y):\n",
    "        return bin(x^y).count('1')\n",
    "    \n",
    "print(Solution().hammingDistance(1,4))"
   ]
  },
  {
   "cell_type": "markdown",
   "metadata": {},
   "source": [
    "# 31. Find the Duplicate Number (leetcode.com)"
   ]
  },
  {
   "cell_type": "raw",
   "metadata": {},
   "source": [
    "Given an array nums containing n + 1 integers where each integer is between 1 and n (inclusive), prove that at least one duplicate number must exist. Assume that there is only one duplicate number, find the duplicate one.\n",
    "\n",
    "Example 1:\n",
    "\n",
    "Input: [1,3,4,2,2]\n",
    "Output: 2"
   ]
  },
  {
   "cell_type": "code",
   "execution_count": 1,
   "metadata": {
    "collapsed": true
   },
   "outputs": [],
   "source": [
    "class Solution:\n",
    "    def findDuplicate(self, nums):\n",
    "       \"\"\"\n",
    "        :type nums: List[int]\n",
    "        :rtype: int\n",
    "        \"\"\"\n",
    "       nums = sorted(nums)\n",
    "       for i in range(1, len(nums)):        \n",
    "         if nums[i] == nums[i-1]:\n",
    "           return nums[i]"
   ]
  },
  {
   "cell_type": "markdown",
   "metadata": {},
   "source": [
    "# 32. Remove Duplicates from Sorted List (leetcode.com)"
   ]
  },
  {
   "cell_type": "raw",
   "metadata": {},
   "source": [
    "Given a sorted linked list, delete all duplicates such that each element appear only once.\n",
    "\n",
    "Example 1:\n",
    "\n",
    "Input: 1->1->2\n",
    "Output: 1->2\n",
    "Example 2:\n",
    "\n",
    "Input: 1->1->2->3->3\n",
    "Output: 1->2->3"
   ]
  },
  {
   "cell_type": "code",
   "execution_count": 3,
   "metadata": {},
   "outputs": [
    {
     "name": "stdout",
     "output_type": "stream",
     "text": [
      "<__main__.ListNode object at 0x104dc3240>\n"
     ]
    }
   ],
   "source": [
    "# Definition for singly-linked list.\n",
    "class ListNode:\n",
    "    def __init__(self, x):\n",
    "        self.val = x\n",
    "        self.next = None\n",
    "\n",
    "class Solution:\n",
    "    def deleteDuplicates(self, head):\n",
    "        \"\"\"\n",
    "        :type head: ListNode\n",
    "        :rtype: ListNode\n",
    "        \"\"\"\n",
    "        if head == None or head.next == None:\n",
    "           return head\n",
    "        p1 = p2 = head\n",
    "        while p2 != None:\n",
    "           if p1.val != p2.val:\n",
    "             p1.next, p2 = p2, p2.next\n",
    "             p1 = p1.next\n",
    "           else:\n",
    "             p2 = p2.next\n",
    "        p1.next = None\n",
    "        \n",
    "        return head\n",
    "    \n",
    "    \n",
    "head= ListNode(1)\n",
    "b = head\n",
    "for v in [1,2,3,3]:\n",
    "    b.next = ListNode(v)\n",
    "    b = b.next\n",
    "\n",
    "\n",
    "res = Solution().deleteDuplicates(head)\n",
    "print(res)"
   ]
  },
  {
   "cell_type": "markdown",
   "metadata": {
    "collapsed": true
   },
   "source": [
    "# 33. Binary Tree Level Order Traversal II (CrackingTheCodinglnterview, leetcode.com)"
   ]
  },
  {
   "cell_type": "raw",
   "metadata": {},
   "source": [
    "Given a binary tree, return the bottom-up level order traversal of its nodes' values. (ie, from left to right, level by level from leaf to root).\n",
    "\n",
    "For example:\n",
    "Given binary tree [3,9,20,null,null,15,7],\n",
    "    3\n",
    "   / \\\n",
    "  9  20\n",
    "    /  \\\n",
    "   15   7\n",
    "return its bottom-up level order traversal as:\n",
    "[\n",
    "  [15,7],\n",
    "  [9,20],\n",
    "  [3]\n",
    "]"
   ]
  },
  {
   "cell_type": "code",
   "execution_count": 16,
   "metadata": {},
   "outputs": [
    {
     "name": "stdout",
     "output_type": "stream",
     "text": [
      "[[<__main__.TreeNode object at 0x104e63898>]]\n"
     ]
    }
   ],
   "source": [
    "class TreeNode:\n",
    "    def __init__(self, x):\n",
    "        self.val = x\n",
    "        self.left = None\n",
    "        self.right = None\n",
    "        \n",
    "\n",
    "class Solution:\n",
    "    def levelOrderBottom(self, root):\n",
    "        \"\"\"\n",
    "        :type root: TreeNode\n",
    "        :rtype: List[List[int]]\n",
    "        \"\"\"\n",
    "        if not root:\n",
    "            return []\n",
    "        if root.left == None and root.right == None:\n",
    "            return [[root.val]]\n",
    "\n",
    "        res, temp = [], []\n",
    "        queue = [(root, 0)]\n",
    "        level_num = 0\n",
    "        while queue:\n",
    "            node, level_num_cur = queue.pop(0)\n",
    "            if level_num_cur != level_num:\n",
    "                res.insert(0, temp)\n",
    "                temp = []\n",
    "                level_num = level_num_cur\n",
    "\n",
    "            if node.left:\n",
    "                queue.append((node.left, level_num_cur + 1))\n",
    "            if node.right:\n",
    "                queue.append((node.right, level_num_cur + 1))\n",
    "            temp.append(node.val)\n",
    "        res.insert(0, temp)\n",
    "\n",
    "        return res\n",
    "\n",
    "# class Solution:\n",
    "#   def levelOrderBottom(self, root):\n",
    "#       \"\"\"\n",
    "#       :type root: TreeNode\n",
    "#       :rtype: List[List[int]]\n",
    "#       \"\"\"\n",
    "#       if not root:\n",
    "#         return []\n",
    "\n",
    "#       from collections import deque\n",
    "\n",
    "#       result = []\n",
    "#       queue = deque([root])\n",
    "#       while(queue):\n",
    "#           level=[]\n",
    "#           for i in range(len(queue)):\n",
    "#             front=queue.popleft()\n",
    "#             level.append(front.val)\n",
    "#             print(level)\n",
    "#             if front.left:\n",
    "#               queue.append(front.left)\n",
    "#             if front.right:\n",
    "#               queue.append(front.right)\n",
    "#           result.insert(0,level)\n",
    "#       return result\n",
    "\n",
    "t = TreeNode(3)\n",
    "t.left = TreeNode(9)\n",
    "t.right = TreeNode(10)\n",
    "t.right.left = TreeNode(15)\n",
    "t.right.right = TreeNode(7)\n",
    "\n",
    "print(Solution().levelOrderBottom(TreeNode(t)))"
   ]
  },
  {
   "cell_type": "markdown",
   "metadata": {},
   "source": [
    "# 34.  Implement Stack using Queues (leetcode.com)"
   ]
  },
  {
   "cell_type": "raw",
   "metadata": {},
   "source": [
    "Implement the following operations of a stack using queues.\n",
    "\n",
    "push(x) -- Push element x onto stack.\n",
    "pop() -- Removes the element on top of the stack.\n",
    "top() -- Get the top element.\n",
    "empty() -- Return whether the stack is empty."
   ]
  },
  {
   "cell_type": "code",
   "execution_count": 18,
   "metadata": {
    "collapsed": true
   },
   "outputs": [],
   "source": [
    "class MyStack:\n",
    "    def __init__(self):\n",
    "        \"\"\"\n",
    "        Initialize your data structure here.\n",
    "        \"\"\"\n",
    "        from collections import deque\n",
    "        self.queue = deque()\n",
    "\n",
    "    def push(self, x):\n",
    "        \"\"\"\n",
    "        Push element x onto stack.\n",
    "        :type x: int\n",
    "        :rtype: void\n",
    "        \"\"\"\n",
    "        if not isinstance(x, int):\n",
    "            raise TypeError\n",
    "        self.queue.append(x)\n",
    "\n",
    "    def pop(self):\n",
    "        \"\"\"\n",
    "        Removes the element on top of the stack and returns that element.\n",
    "        :rtype: int\n",
    "        \"\"\"\n",
    "        if not self.empty():\n",
    "            return self.queue.pop()\n",
    "        else:\n",
    "            return None\n",
    "\n",
    "    def top(self):\n",
    "        \"\"\"\n",
    "        Get the top element.\n",
    "        :rtype: int\n",
    "        \"\"\"\n",
    "        if not self.empty():\n",
    "            return self.queue[-1]\n",
    "        else:\n",
    "            return None\n",
    "\n",
    "    def empty(self):\n",
    "        \"\"\"\n",
    "        Returns whether the stack is empty.\n",
    "        :rtype: bool\n",
    "        \"\"\"\n",
    "        if self.queue:\n",
    "            return False\n",
    "        else:\n",
    "            return True"
   ]
  },
  {
   "cell_type": "markdown",
   "metadata": {},
   "source": [
    "# 35. Implement Queue using 2 Stacks(CrackingTheCodinglnterview, leetcode.com)"
   ]
  },
  {
   "cell_type": "raw",
   "metadata": {},
   "source": [
    "Implement the following operations of a queue using stacks.\n",
    "\n",
    "push(x) -- Push element x to the back of queue.\n",
    "pop() -- Removes the element from in front of queue.\n",
    "peek() -- Get the front element.\n",
    "empty() -- Return whether the queue is empty."
   ]
  },
  {
   "cell_type": "code",
   "execution_count": 19,
   "metadata": {
    "collapsed": true
   },
   "outputs": [],
   "source": [
    "class MyQueue:\n",
    "\n",
    "    def __init__(self):\n",
    "        \"\"\"\n",
    "        Initialize your data structure here.\n",
    "        \"\"\"\n",
    "        self.stack_pop = []\n",
    "        self.stack_push = []\n",
    "        \n",
    "\n",
    "    def push(self, x):\n",
    "        \"\"\"\n",
    "        Push element x to the back of queue.\n",
    "        :type x: int\n",
    "        :rtype: void\n",
    "        \"\"\"\n",
    "        if not isinstance(x, int):\n",
    "          raise TypeError()\n",
    "        if self.stack_push:\n",
    "          self.stack_push.append(x)\n",
    "        else:\n",
    "          for _ in range(len(self.stack_pop) - 1, -1):\n",
    "            self.stack_push.append(self.stack_pop.pop())\n",
    "          self.stack_push.append(x) \n",
    "\n",
    "    def pop(self):\n",
    "        \"\"\"\n",
    "        Removes the element from in front of queue and returns that element.\n",
    "        :rtype: int\n",
    "        \"\"\"\n",
    "        if self.stack_pop:\n",
    "          return self.stack_pop.pop()\n",
    "        else:\n",
    "          if len(self.stack_push) == 0:\n",
    "            return None\n",
    "          for _ in range(len(self.stack_push) - 1, -1, -1):\n",
    "             self.stack_pop.append(self.stack_push.pop())\n",
    "          return self.stack_pop.pop()      \n",
    "\n",
    "    def peek(self):\n",
    "        \"\"\"\n",
    "        Get the front element.\n",
    "        :rtype: int\n",
    "        \"\"\"\n",
    "        if self.empty():\n",
    "          return None\n",
    "        if self.stack_pop:\n",
    "          return self.stack_pop[-1]\n",
    "        else:\n",
    "          if len(self.stack_push) == 0:\n",
    "            return None\n",
    "          for _ in range(len(self.stack_push) - 1, -1, -1):\n",
    "             self.stack_pop.append(self.stack_push.pop())\n",
    "          return self.stack_pop[-1] \n",
    "        \n",
    "\n",
    "    def empty(self):\n",
    "        \"\"\"\n",
    "        Returns whether the queue is empty.\n",
    "        :rtype: bool\n",
    "        \"\"\"\n",
    "        if len(self.stack_pop) == 0 and len(self.stack_push) == 0:\n",
    "          return True\n",
    "        else:\n",
    "          return False"
   ]
  },
  {
   "cell_type": "markdown",
   "metadata": {
    "collapsed": true
   },
   "source": [
    "# 36. Search in Rotated Sorted Array(CrackingTheCodinglnterview, leetcode.com)"
   ]
  },
  {
   "cell_type": "raw",
   "metadata": {},
   "source": [
    "Suppose an array sorted in ascending order is rotated at some pivot unknown to you beforehand.\n",
    "\n",
    "(i.e., [0,1,2,4,5,6,7] might become [4,5,6,7,0,1,2]).\n",
    "\n",
    "You are given a target value to search. If found in the array return its index, otherwise return -1.\n",
    "\n",
    "You may assume no duplicate exists in the array.\n",
    "\n",
    "Your algorithm's runtime complexity must be in the order of O(log n).\n",
    "\n",
    "Example 1:\n",
    "\n",
    "Input: nums = [4,5,6,7,0,1,2], target = 0\n",
    "Output: 4"
   ]
  },
  {
   "cell_type": "code",
   "execution_count": 2,
   "metadata": {},
   "outputs": [
    {
     "name": "stdout",
     "output_type": "stream",
     "text": [
      "4\n"
     ]
    }
   ],
   "source": [
    "class Solution:\n",
    "    def search(self, nums, target):\n",
    "        \"\"\"\n",
    "        :type nums: List[int]\n",
    "        :type target: int\n",
    "        :rtype: int\n",
    "        \"\"\"\n",
    "        size = len(nums)\n",
    "        if size == 0:\n",
    "            return -1\n",
    "        left, right = 0, size - 1\n",
    "        while left <= right:\n",
    "            pivot_ind = (left + right) // 2\n",
    "            if nums[pivot_ind] == target:\n",
    "                return pivot_ind\n",
    "            if nums[pivot_ind] < nums[right]:\n",
    "              if target <= nums[right] and target > nums[pivot_ind]:\n",
    "                left = pivot_ind + 1\n",
    "              else:\n",
    "                right = pivot_ind - 1\n",
    "            else:\n",
    "                if target < nums[pivot_ind] and target >= nums[left]:\n",
    "                  right = pivot_ind - 1\n",
    "                else:\n",
    "                  left = pivot_ind + 1\n",
    "        return -1\n",
    "    \n",
    "    \n",
    "print(Solution().search([4,5,6,7,0,1,2], 0))"
   ]
  },
  {
   "cell_type": "markdown",
   "metadata": {},
   "source": [
    "# 37. Search in Rotated Sorted Array II(CrackingTheCodinglnterview, leetcode.com)"
   ]
  },
  {
   "cell_type": "raw",
   "metadata": {},
   "source": [
    "Suppose an array sorted in ascending order is rotated at some pivot unknown to you beforehand.\n",
    "\n",
    "(i.e., [0,0,1,2,2,5,6] might become [2,5,6,0,0,1,2]).\n",
    "\n",
    "You are given a target value to search. If found in the array return true, otherwise return false.\n",
    "\n",
    "Example 1:\n",
    "\n",
    "Input: nums = [2,5,6,0,0,1,2], target = 0\n",
    "Output: true\n",
    "Example 2:\n",
    "\n",
    "Input: nums = [2,5,6,0,0,1,2], target = 3\n",
    "Output: false"
   ]
  },
  {
   "cell_type": "code",
   "execution_count": 4,
   "metadata": {},
   "outputs": [
    {
     "name": "stdout",
     "output_type": "stream",
     "text": [
      "True\n"
     ]
    }
   ],
   "source": [
    "class Solution:\n",
    "    def search(self, nums, target, left=None, right=None):\n",
    "        \"\"\"\n",
    "        :type nums: List[int]\n",
    "        :type target: int\n",
    "        :rtype: int\n",
    "        \"\"\"\n",
    "        size = len(nums)\n",
    "        if size == 0:\n",
    "            return False\n",
    "        if left == right == None:\n",
    "          left, right = 0, size - 1\n",
    "        while left <= right:\n",
    "            pivot_ind = (left + right) // 2\n",
    "            if nums[pivot_ind] == target:\n",
    "                return True\n",
    "            \n",
    "            # # Solve the tricky part via simple iterations\n",
    "            while left < pivot_ind and nums[pivot_ind] == nums[left]:\n",
    "                left += 1\n",
    "            while right > pivot_ind and nums[pivot_ind] == nums[right]:\n",
    "                right -= 1\n",
    "            \n",
    "            # # Solve the tricky part via recursion\n",
    "            # if nums[pivot_ind] == nums[right] and nums[pivot_ind] != nums[left]:\n",
    "            #     right = pivot_ind - 1\n",
    "            #     continue\n",
    "            # elif nums[pivot_ind] == nums[left] and nums[pivot_ind] != nums[right]:\n",
    "            #     left = pivot_ind + 1\n",
    "            #     continue\n",
    "            # elif nums[pivot_ind] == nums[left] == nums[right]:\n",
    "            #     left_res = self.search(nums, target, left, pivot_ind-1)\n",
    "            #     if left_res != False:\n",
    "            #         return True\n",
    "            #     right_res = self.search(nums, target, pivot_ind+1, right)\n",
    "            #     if right_res != False:\n",
    "            #         return right_res\n",
    "            #     if right_res == left_res == False:\n",
    "            #         return False\n",
    "\n",
    "            if nums[pivot_ind] <= nums[right]:\n",
    "              if target <= nums[right] and target > nums[pivot_ind]:\n",
    "                left = pivot_ind + 1\n",
    "              else:\n",
    "                right = pivot_ind - 1\n",
    "            else:\n",
    "                if target < nums[pivot_ind] and target >= nums[left]:\n",
    "                  right = pivot_ind - 1\n",
    "                else:\n",
    "                  left = pivot_ind + 1\n",
    "        return False\n",
    "\n",
    "print(Solution().search([2,5,6,0,0,1,2], 0))"
   ]
  },
  {
   "cell_type": "markdown",
   "metadata": {},
   "source": [
    "# 38. Merge Two Binary Trees(leetcode.com)"
   ]
  },
  {
   "cell_type": "raw",
   "metadata": {},
   "source": [
    "Given two binary trees and imagine that when you put one of them to cover the other, some nodes of the two trees are overlapped while the others are not.\n",
    "\n",
    "You need to merge them into a new binary tree. The merge rule is that if two nodes overlap, then sum node values up as the new value of the merged node. Otherwise, the NOT null node will be used as the node of new tree."
   ]
  },
  {
   "cell_type": "code",
   "execution_count": 6,
   "metadata": {
    "collapsed": true
   },
   "outputs": [],
   "source": [
    "# Definition for a binary tree node.\n",
    "class TreeNode:\n",
    "    def __init__(self, x):\n",
    "        self.val = x\n",
    "        self.left = None\n",
    "        self.right = None\n",
    "        \n",
    "\n",
    "class Solution:\n",
    "    def mergeTrees(self, t1, t2):\n",
    "        \"\"\"\n",
    "        :type t1: TreeNode\n",
    "        :type t2: TreeNode\n",
    "        :rtype: TreeNode\n",
    "        \"\"\"\n",
    "        if t1 == None and t2:\n",
    "            return t2\n",
    "        if t2 == None and t1:\n",
    "            return t1\n",
    "\n",
    "        t3 = self.merge(t1, t2)\n",
    "        return t3\n",
    "\n",
    "    def merge(self,t1, t2):\n",
    "        if t1 and t2:\n",
    "            t3 = TreeNode(t1.val + t2.val)\n",
    "            t3.left = self.merge(t1.left, t2.left)\n",
    "            t3.right = self.merge(t1.right, t2.right)\n",
    "        elif t1:\n",
    "            t3 = TreeNode(t1.val)\n",
    "            t3.left = t1.left\n",
    "            t3.right = t1.right\n",
    "        elif t2:\n",
    "            t3 = TreeNode(t2.val)\n",
    "            t3.left = t2.left\n",
    "            t3.right = t2.right\n",
    "        else:\n",
    "            return None\n",
    "        return t3"
   ]
  },
  {
   "cell_type": "markdown",
   "metadata": {},
   "source": [
    "# 39. Maximum Depth of Binary Tree (leetcode.com)"
   ]
  },
  {
   "cell_type": "raw",
   "metadata": {},
   "source": [
    "Given a binary tree, find its maximum depth.\n",
    "\n",
    "The maximum depth is the number of nodes along the longest path from the root node down to the farthest leaf node.\n",
    "\n",
    "Note: A leaf is a node with no children.\n",
    "\n",
    "Example:\n",
    "\n",
    "Given binary tree [3,9,20,null,null,15,7],"
   ]
  },
  {
   "cell_type": "code",
   "execution_count": 7,
   "metadata": {
    "collapsed": true
   },
   "outputs": [],
   "source": [
    "# Definition for a binary tree node.\n",
    "# class TreeNode:\n",
    "#     def __init__(self, x):\n",
    "#         self.val = x\n",
    "#         self.left = None\n",
    "#         self.right = None\n",
    "\n",
    "class Solution:\n",
    "    def maxDepth(self, root):\n",
    "        \"\"\"\n",
    "        :type root: TreeNode\n",
    "        :rtype: int\n",
    "        \"\"\"\n",
    "        if root == None:\n",
    "          return 0\n",
    "        return max(self.maxDepth(root.left) + 1, self.maxDepth(root.right) + 1)"
   ]
  },
  {
   "cell_type": "markdown",
   "metadata": {},
   "source": [
    "# 40. Shortest Unsorted Continuous Subarray (leetcode.com)"
   ]
  },
  {
   "cell_type": "raw",
   "metadata": {},
   "source": [
    "Given an integer array, you need to find one continuous subarray that if you only sort this subarray in ascending order, then the whole array will be sorted in ascending order, too.\n",
    "\n",
    "You need to find the shortest such subarray and output its length.\n",
    "\n",
    "Example 1:\n",
    "Input: [2, 6, 4, 8, 10, 9, 15]\n",
    "Output: 5\n",
    "Explanation: You need to sort [6, 4, 8, 10, 9] in ascending order to make the whole array sorted in ascending order.\n",
    "Note:\n",
    "Then length of the input array is in range [1, 10,000].\n",
    "The input array may contain duplicates, so ascending order here means <=."
   ]
  },
  {
   "cell_type": "code",
   "execution_count": 8,
   "metadata": {},
   "outputs": [
    {
     "name": "stdout",
     "output_type": "stream",
     "text": [
      "5\n"
     ]
    }
   ],
   "source": [
    "class Solution:\n",
    "    def findUnsortedSubarray(self, nums):\n",
    "        \"\"\"\n",
    "        :type nums: List[int]\n",
    "        :rtype: int\n",
    "        \"\"\"\n",
    "        max_elem_ind = right = 0\n",
    "        for i in range(1, len(nums)):\n",
    "            if nums[i] < nums[max_elem_ind]:\n",
    "                right = i\n",
    "            else:\n",
    "                max_elem_ind = i\n",
    "\n",
    "        min_elem_ind = left = right\n",
    "        for i in range(right-1, -1, -1):\n",
    "            if nums[i] > nums[min_elem_ind]:\n",
    "                left = i\n",
    "            else:\n",
    "                min_elem_ind = i\n",
    "\n",
    "        return right - left + 1 if left != right else 0\n",
    "    \n",
    "    \n",
    "print(Solution().findUnsortedSubarray([2, 6, 4, 8, 10, 9, 15]))"
   ]
  },
  {
   "cell_type": "markdown",
   "metadata": {},
   "source": [
    "# 41. Intersection of Two Linked Lists (leetcode.com)"
   ]
  },
  {
   "cell_type": "raw",
   "metadata": {},
   "source": [
    "Write a program to find the node at which the intersection of two singly linked lists begins."
   ]
  },
  {
   "cell_type": "code",
   "execution_count": 9,
   "metadata": {
    "collapsed": true
   },
   "outputs": [],
   "source": [
    "# Definition for singly-linked list.\n",
    "# class ListNode(object):\n",
    "#     def __init__(self, x):\n",
    "#         self.val = x\n",
    "#         self.next = None\n",
    "\n",
    "class Solution(object):\n",
    "    def getIntersectionNode(self, headA, headB):\n",
    "      if not headA or not headB:\n",
    "        return None\n",
    "      nodeA_ref = set()\n",
    "      node = headA\n",
    "      while node:\n",
    "        nodeA_ref.add(node)\n",
    "        node = node.next\n",
    "      node = headB \n",
    "      while node:\n",
    "        if node in nodeA_ref:\n",
    "          return node\n",
    "        else:\n",
    "          node = node.next\n",
    "      return None\n"
   ]
  },
  {
   "cell_type": "markdown",
   "metadata": {},
   "source": [
    "# 42.  Find All Anagrams in a String (leetcode.com)"
   ]
  },
  {
   "cell_type": "raw",
   "metadata": {},
   "source": [
    "Given a string s and a non-empty string p, find all the start indices of p's anagrams in s.\n",
    "\n",
    "Strings consists of lowercase English letters only and the length of both strings s and p will not be larger than 20,100.\n",
    "\n",
    "The order of output does not matter.\n",
    "\n",
    "Example 1:\n",
    "\n",
    "Input:\n",
    "s: \"cbaebabacd\" p: \"abc\"\n",
    "\n",
    "Output:\n",
    "[0, 6]"
   ]
  },
  {
   "cell_type": "code",
   "execution_count": 11,
   "metadata": {},
   "outputs": [
    {
     "data": {
      "text/plain": [
       "[0, 6]"
      ]
     },
     "execution_count": 11,
     "metadata": {},
     "output_type": "execute_result"
    }
   ],
   "source": [
    "class Solution(object):\n",
    "    def findAnagrams(self, s, p):\n",
    "        \"\"\"\n",
    "        :type s: str\n",
    "        :type p: str\n",
    "        :rtype: List[int]\n",
    "        \"\"\"\n",
    "        from collections import Counter\n",
    "        len_p = len(p)\n",
    "        count_p = Counter(p)\n",
    "        count_s = Counter(s[:len_p-1])\n",
    "        res = []\n",
    "        for i in range(len_p-1, len(s)):\n",
    "            count_s[s[i]] += 1\n",
    "            if count_p == count_s:\n",
    "                res.append(i-len_p+1)\n",
    "            count_s[s[i-len_p+1]] -= 1\n",
    "            if count_s[s[i-len_p+1]] == 0:\n",
    "                del count_s[s[i-len_p+1]]\n",
    "        return res\n",
    "    \n",
    "Solution().findAnagrams('cbaebabacd', 'abc')"
   ]
  },
  {
   "cell_type": "markdown",
   "metadata": {},
   "source": [
    "# 43. Validate Binary Search Tree (CrackingTheCodinglnterview, leetcode.com)"
   ]
  },
  {
   "cell_type": "raw",
   "metadata": {},
   "source": [
    "Given a binary tree, determine if it is a valid binary search tree (BST).\n",
    "\n",
    "Assume a BST is defined as follows:\n",
    "\n",
    "The left subtree of a node contains only nodes with keys less than the node's key.\n",
    "The right subtree of a node contains only nodes with keys greater than the node's key.\n",
    "Both the left and right subtrees must also be binary search trees."
   ]
  },
  {
   "cell_type": "code",
   "execution_count": 20,
   "metadata": {
    "collapsed": true
   },
   "outputs": [],
   "source": [
    "# # Definition for a binary tree node.\n",
    "# class TreeNode:\n",
    "#     def __init__(self, x):\n",
    "#         self.val = x\n",
    "#         self.left = None\n",
    "#         self.right = None\n",
    "\n",
    "class Solution:\n",
    "    def __init__(self):\n",
    "        self.prev = float('-inf')\n",
    "\n",
    "    def isValidBST(self, root):\n",
    "        if root == None:\n",
    "            return True\n",
    "        if self.isValidBST(root.left) == False:\n",
    "            return False\n",
    "        if self.prev < root.val:\n",
    "            self.prev = root.val\n",
    "            if self.isValidBST(root.right) == False:\n",
    "                return False\n",
    "        else:\n",
    "            return False\n",
    "        return True"
   ]
  },
  {
   "cell_type": "markdown",
   "metadata": {},
   "source": [
    "# 44. Sort a stack using a temporary stack (CrackingTheCodinglnterview)"
   ]
  },
  {
   "cell_type": "raw",
   "metadata": {},
   "source": [
    "Given a stack of integers, sort it in ascending order using another temporary stack."
   ]
  },
  {
   "cell_type": "code",
   "execution_count": 21,
   "metadata": {
    "collapsed": true
   },
   "outputs": [],
   "source": [
    "# This function return the sorted stack \n",
    "def sortStack ( stack ): \n",
    "    tmpStack = createStack() \n",
    "    while(isEmpty(stack) == False): \n",
    "          \n",
    "        # pop out the first element \n",
    "        tmp = top(stack) \n",
    "        pop(stack) \n",
    "  \n",
    "        # while temporary stack is not \n",
    "        # empty and top of stack is \n",
    "        # greater than temp \n",
    "        while(isEmpty(tmpStack) == False and\n",
    "             int(top(tmpStack)) > int(tmp)): \n",
    "              \n",
    "            # pop from temporary stack and \n",
    "            # push it to the input stack \n",
    "            push(stack,top(tmpStack)) \n",
    "            pop(tmpStack) \n",
    "  \n",
    "        # push temp in tempory of stack \n",
    "        push(tmpStack,tmp) \n",
    "      \n",
    "    return tmpStack"
   ]
  },
  {
   "cell_type": "markdown",
   "metadata": {},
   "source": [
    "# 45. Search a 2D Matrix (CrackingTheCodinglnterview, leetcode.com)"
   ]
  },
  {
   "cell_type": "raw",
   "metadata": {},
   "source": [
    "Write an efficient algorithm that searches for a value in an m x n matrix. This matrix has the following properties:\n",
    "\n",
    "Integers in each row are sorted from left to right.\n",
    "The first integer of each row is greater than the last integer of the previous row.\n",
    "Example 1:\n",
    "\n",
    "Input:\n",
    "matrix = [\n",
    "  [1,   3,  5,  7],\n",
    "  [10, 11, 16, 20],\n",
    "  [23, 30, 34, 50]\n",
    "]\n",
    "target = 3\n",
    "Output: true"
   ]
  },
  {
   "cell_type": "code",
   "execution_count": 22,
   "metadata": {},
   "outputs": [
    {
     "name": "stdout",
     "output_type": "stream",
     "text": [
      "True\n"
     ]
    }
   ],
   "source": [
    "class BinarySearch:\n",
    "  def binary_search(self, a, s):\n",
    "    left, right = 0, len(a) - 1\n",
    "    while left <= right:\n",
    "      pivot_ind = (left + right) // 2\n",
    "      if a[pivot_ind] == s:\n",
    "        return True\n",
    "      elif s > a[pivot_ind]:\n",
    "        left = pivot_ind + 1\n",
    "      else:\n",
    "        right = pivot_ind - 1\n",
    "    return False\n",
    "\n",
    "\n",
    "class Solution(BinarySearch):\n",
    "  def searchMatrix(self, matrix, s):\n",
    "    # check arg\n",
    "    if  not isinstance(s, int):\n",
    "      raise TypeError()\n",
    "    m = len(matrix)\n",
    "    if m  == 0:\n",
    "      return False\n",
    "    # find the target row - modified bs\n",
    "    row = self.find_row(matrix, m, s)\n",
    "    if row == None:\n",
    "      return False\n",
    "    # find s in the row - bs\n",
    "    return self.binary_search(matrix[row], s)\n",
    "\n",
    "  def find_row(self, matrix, m, s):\n",
    "    left, right = 0, m - 1\n",
    "    while left <= right:\n",
    "      row_ind = (left + right) // 2\n",
    "      row = matrix[row_ind]\n",
    "      if not row:\n",
    "        return None\n",
    "      if s >= row[0] and s <= row[-1]:\n",
    "        return row_ind\n",
    "      elif s > row[-1]:\n",
    "        left = row_ind + 1\n",
    "      else:\n",
    "        right = row_ind - 1\n",
    "    return None\n",
    "\n",
    "print(Solution().searchMatrix([[1,3]], 3))"
   ]
  },
  {
   "cell_type": "markdown",
   "metadata": {},
   "source": [
    "# 46. Longest Continuous Increasing Subsequence (leetcode.com)"
   ]
  },
  {
   "cell_type": "raw",
   "metadata": {},
   "source": [
    "Given an unsorted array of integers, find the length of longest continuous increasing subsequence (subarray).\n",
    "\n",
    "Example 1:\n",
    "Input: [1,3,5,4,7]\n",
    "Output: 3\n",
    "Explanation: The longest continuous increasing subsequence is [1,3,5], its length is 3. \n",
    "Even though [1,3,5,7] is also an increasing subsequence, it's not a continuous one where 5 and 7 are separated by 4. "
   ]
  },
  {
   "cell_type": "code",
   "execution_count": 23,
   "metadata": {},
   "outputs": [
    {
     "name": "stdout",
     "output_type": "stream",
     "text": [
      "3\n"
     ]
    }
   ],
   "source": [
    "class Solution:\n",
    "    def findLengthOfLCIS(self, nums):\n",
    "        # check args\n",
    "        nums_len = len(nums)\n",
    "        if nums_len < 2:\n",
    "            return nums_len\n",
    "\n",
    "        max_len = 1\n",
    "        cur_len = 1\n",
    "        i = 1\n",
    "        while i < nums_len:\n",
    "            if nums[i] > nums[i - 1]:\n",
    "                cur_len += 1\n",
    "            else:\n",
    "                max_len = max(max_len, cur_len)\n",
    "                cur_len = 1\n",
    "            i += 1\n",
    "        max_len = max(max_len, cur_len)\n",
    "        \n",
    "        return max_len\n",
    "    \n",
    "print(Solution().findLengthOfLCIS([1,3,5,4,7]))"
   ]
  },
  {
   "cell_type": "markdown",
   "metadata": {},
   "source": [
    "# 47. Longest Increasing Subsequence 2 (leetcode.com, CrackingTheCodinglnterview)"
   ]
  },
  {
   "cell_type": "raw",
   "metadata": {},
   "source": [
    "Given an unsorted array of integers, find the length of longest increasing subsequence.\n",
    "\n",
    "Example:\n",
    "\n",
    "Input: [10,9,2,5,3,7,101,18]\n",
    "Output: 4 \n",
    "Explanation: The longest increasing subsequence is [2,3,7,101], therefore the length is 4. \n",
    "Note:\n",
    "\n",
    "There may be more than one LIS combination, it is only necessary for you to return the length.\n",
    "Your algorithm should run in O(n2) complexity."
   ]
  },
  {
   "cell_type": "code",
   "execution_count": 24,
   "metadata": {},
   "outputs": [
    {
     "name": "stdout",
     "output_type": "stream",
     "text": [
      "6\n"
     ]
    }
   ],
   "source": [
    "class Solution:\n",
    "    def lengthOfLIS(self, nums):\n",
    "        \"\"\"\n",
    "            :type nums: List[int]\n",
    "            :rtype: int\n",
    "        \"\"\"\n",
    "        nums_len = len(nums)\n",
    "        if nums_len < 2:\n",
    "            return nums_len\n",
    "\n",
    "        res = {0: 1}\n",
    "        for i in range(1, nums_len):\n",
    "            cur_elem = nums[i]\n",
    "            cur_subs_len = 1\n",
    "            for j in range(i):\n",
    "                if nums[j] < cur_elem:\n",
    "                    if res[j] + 1 > cur_subs_len:\n",
    "                        cur_subs_len = res[j] + 1\n",
    "            res[i] = cur_subs_len\n",
    "\n",
    "        return max(res.values())\n",
    "    \n",
    "print(Solution().lengthOfLIS([1,3,6,7,9,4,10,5,6]))"
   ]
  },
  {
   "cell_type": "markdown",
   "metadata": {
    "collapsed": true
   },
   "source": [
    "# 48. Delete Node in a Linked List (leetcode.com, CrackingTheCodinglnterview)"
   ]
  },
  {
   "cell_type": "raw",
   "metadata": {},
   "source": [
    "Write a function to delete a node (except the tail) in a singly linked list, given only access to that node.\n",
    "\n",
    "Given linked list -- head = [4,5,1,9], which looks like following:\n",
    "\n",
    "    4 -> 5 -> 1 -> 9\n",
    "Example 1:\n",
    "\n",
    "Input: head = [4,5,1,9], node = 5\n",
    "Output: [4,1,9]\n",
    "Explanation: You are given the second node with value 5, the linked list\n",
    "             should become 4 -> 1 -> 9 after calling your function."
   ]
  },
  {
   "cell_type": "code",
   "execution_count": 2,
   "metadata": {
    "collapsed": true
   },
   "outputs": [],
   "source": [
    "# Definition for singly-linked list.\n",
    "# class ListNode(object):\n",
    "#     def __init__(self, x):\n",
    "#         self.val = x\n",
    "#         self.next = None\n",
    "\n",
    "class Solution(object):\n",
    "    def deleteNode(self, s):\n",
    "        \"\"\"\n",
    "        :type node: ListNode\n",
    "        :rtype: void Do not return anything, modify node in-place instead.\n",
    "        \"\"\"\n",
    "        if not s or s.next == None:\n",
    "            raise Exception('not possible to solve')\n",
    "        cur = s\n",
    "        cur.val, cur.next = cur.next.val, cur.next.next"
   ]
  },
  {
   "cell_type": "markdown",
   "metadata": {},
   "source": [
    "# 49. Majority Element (leetcode.com)"
   ]
  },
  {
   "cell_type": "raw",
   "metadata": {},
   "source": [
    "Given an array of size n, find the majority element. The majority element is the element that appears more than ⌊ n/2 ⌋ times.\n",
    "\n",
    "You may assume that the array is non-empty and the majority element always exist in the array.\n",
    "\n",
    "Example 1:\n",
    "\n",
    "Input: [3,2,3]\n",
    "Output: 3"
   ]
  },
  {
   "cell_type": "code",
   "execution_count": 7,
   "metadata": {},
   "outputs": [
    {
     "name": "stdout",
     "output_type": "stream",
     "text": [
      "3\n"
     ]
    }
   ],
   "source": [
    "import collections\n",
    "\n",
    "class Solution(object):\n",
    "    def majorityElement(self, nums):\n",
    "        \"\"\"\n",
    "        :type nums: List[int]\n",
    "        :rtype: int\n",
    "        \"\"\"\n",
    "        counts = collections.Counter(nums)\n",
    "        return max(counts.keys(), key=counts.get)\n",
    "    \n",
    "print(Solution().majorityElement([3, 2, 3]))"
   ]
  },
  {
   "cell_type": "markdown",
   "metadata": {},
   "source": [
    "# 50. Add Binary (leetcode.com)"
   ]
  },
  {
   "cell_type": "raw",
   "metadata": {},
   "source": [
    "Given two binary strings, return their sum (also a binary string).\n",
    "\n",
    "The input strings are both non-empty and contains only characters 1 or 0.\n",
    "\n",
    "Example 1:\n",
    "\n",
    "Input: a = \"11\", b = \"1\"\n",
    "Output: \"100\"\n",
    "Example 2:\n",
    "\n",
    "Input: a = \"1010\", b = \"1011\"\n",
    "Output: \"10101\""
   ]
  },
  {
   "cell_type": "code",
   "execution_count": 9,
   "metadata": {},
   "outputs": [
    {
     "name": "stdout",
     "output_type": "stream",
     "text": [
      "10101\n"
     ]
    }
   ],
   "source": [
    "class Solution(object):\n",
    "    def addBinary(self, s1, s2):\n",
    "        \"\"\"\n",
    "        :type a: str\n",
    "        :type b: str\n",
    "        :rtype: str\n",
    "        \"\"\"\n",
    "        len_s1 = len(s1)\n",
    "        len_s2 = len(s2)\n",
    "        if len_s1 == 0 and len_s2 != 0:\n",
    "            return s2\n",
    "        elif len_s1 != 0 and len_s2 == 0:\n",
    "            return s1\n",
    "        elif len_s1 == 0 and len_s2 == 0:\n",
    "            return ''\n",
    "\n",
    "        mem, base = 0, 2\n",
    "        i , j = len_s1 - 1, len_s2 - 1\n",
    "        res = ''\n",
    "        while i >= 0 and j >= 0:\n",
    "            el1, el2 = int(s1[i]), int(s2[j])\n",
    "            sum_ = el1 + el2 + mem\n",
    "            if sum_ >= base:\n",
    "                res = str(sum_ - base) + res\n",
    "                mem = 1\n",
    "            else:\n",
    "                res = str(sum_) + res\n",
    "                mem = 0\n",
    "            i -= 1\n",
    "            j -= 1\n",
    "\n",
    "        if i >= 0 and j < 0:\n",
    "            s = s1\n",
    "            ind = i\n",
    "        elif j >= 0 and i < 0:\n",
    "            s = s2\n",
    "            ind = j\n",
    "        elif i < 0 and j < 0:\n",
    "            if mem != 0:\n",
    "                res = str(mem) + res\n",
    "            return res\n",
    "\n",
    "        while ind >= 0 and mem > 0:\n",
    "            sum_ = int(s[ind]) + mem\n",
    "            if sum_ >= base:\n",
    "                res = str(sum_ - base) + res\n",
    "                mem = 1\n",
    "            else:\n",
    "                res = str(sum_) + res\n",
    "                mem = 0\n",
    "            ind -= 1\n",
    "\n",
    "        if ind < 0 and mem == 1:\n",
    "            res = str(mem) + res\n",
    "        elif ind >= 0:\n",
    "            res = s[:ind+1] + res\n",
    "\n",
    "        return res\n",
    "\n",
    "print(Solution().addBinary(\"1010\", \"1011\"))"
   ]
  },
  {
   "cell_type": "markdown",
   "metadata": {},
   "source": [
    "# 51. Palindrome Linked List (leetcode.com, CrackingTheCodinglnterview)"
   ]
  },
  {
   "cell_type": "raw",
   "metadata": {},
   "source": [
    "Given a singly linked list, determine if it is a palindrome.\n",
    "\n",
    "Example 1:\n",
    "\n",
    "Input: 1->2\n",
    "Output: false\n",
    "Example 2:\n",
    "\n",
    "Input: 1->2->2->1\n",
    "Output: true"
   ]
  },
  {
   "cell_type": "code",
   "execution_count": 10,
   "metadata": {
    "collapsed": true
   },
   "outputs": [],
   "source": [
    "# Definition for singly-linked list.\n",
    "# class ListNode(object):\n",
    "#     def __init__(self, x):\n",
    "#         self.val = x\n",
    "#         self.next = None\n",
    "\n",
    "class Solution(object):\n",
    "    def isPalindrome(self, head):\n",
    "      \"\"\"\n",
    "        :type head: ListNode\n",
    "        :rtype: bool\n",
    "      \"\"\"\n",
    "      # check args\n",
    "      if head == None or head.next == None:\n",
    "        return True\n",
    "      \n",
    "      # compute the size of the list\n",
    "      size = 0\n",
    "      node = head\n",
    "      while node != None:\n",
    "        size += 1\n",
    "        node = node.next\n",
    "      \n",
    "      # create stack\n",
    "      node = head\n",
    "      stack = []\n",
    "      for _ in range(size//2):\n",
    "        stack.append(node)\n",
    "        node = node.next\n",
    "      \n",
    "      # check if size is odd\n",
    "      # check if palindrom\n",
    "      if size % 2 == 1:\n",
    "        node = node.next\n",
    "      while node != None:\n",
    "        if stack.pop().val != node.val:\n",
    "          return False\n",
    "        else:\n",
    "          node = node.next\n",
    "\n",
    "      return True"
   ]
  },
  {
   "cell_type": "markdown",
   "metadata": {},
   "source": [
    "# 52. Reverse Linked List (leetcode.com)"
   ]
  },
  {
   "cell_type": "raw",
   "metadata": {},
   "source": [
    "Reverse a singly linked list.\n",
    "\n",
    "Example:\n",
    "\n",
    "Input: 1->2->3->4->5->NULL\n",
    "Output: 5->4->3->2->1->NULL"
   ]
  },
  {
   "cell_type": "code",
   "execution_count": 12,
   "metadata": {
    "collapsed": true
   },
   "outputs": [],
   "source": [
    "# Definition for singly-linked list.\n",
    "# class ListNode(object):\n",
    "#     def __init__(self, x):\n",
    "#         self.val = x\n",
    "#         self.next = None\n",
    "\n",
    "class Solution(object):\n",
    "    def reverseList(self, head):\n",
    "        \"\"\"\n",
    "        :type head: ListNode\n",
    "        :rtype: ListNode\n",
    "        \"\"\"\n",
    "        # check args\n",
    "        if head == None or head.next == None:\n",
    "          return head\n",
    "\n",
    "        prev = None\n",
    "        cur = head\n",
    "        while cur != None:\n",
    "          cur.next, cur, prev = prev, cur.next, cur\n",
    "\n",
    "        return prev\n",
    "    \n",
    "    def reverseListRec(self, cur, prev=None):\n",
    "      # check args\n",
    "      if cur == None:\n",
    "        return cur\n",
    "      if cur.next == None:\n",
    "        cur.next = prev\n",
    "        return cur\n",
    "\n",
    "      cur.next, cur, prev = prev, cur.next, cur\n",
    "        \n",
    "      return self.reverseList(cur, prev)"
   ]
  },
  {
   "cell_type": "markdown",
   "metadata": {},
   "source": [
    "# 53. Reverse Linked List II (leetcode.com)"
   ]
  },
  {
   "cell_type": "raw",
   "metadata": {},
   "source": [
    "Reverse a linked list from position m to n. Do it in one-pass.\n",
    "\n",
    "Note: 1 ≤ m ≤ n ≤ length of list.\n",
    "\n",
    "Example:\n",
    "\n",
    "Input: 1->2->3->4->5->NULL, m = 2, n = 4\n",
    "Output: 1->4->3->2->5->NULL"
   ]
  },
  {
   "cell_type": "code",
   "execution_count": 14,
   "metadata": {
    "collapsed": true
   },
   "outputs": [],
   "source": [
    "# Definition for singly-linked list.\n",
    "# class ListNode(object):\n",
    "#     def __init__(self, x):\n",
    "#         self.val = x\n",
    "#         self.next = None\n",
    "\n",
    "\n",
    "class Solution(object):\n",
    "    def reverseBetween(self, head, m, n):\n",
    "        \"\"\"\n",
    "        :type head: ListNode\n",
    "        :type m: int\n",
    "        :type n: int\n",
    "        :rtype: ListNode\n",
    "        \"\"\"\n",
    "        # check args\n",
    "        if m > n:\n",
    "            raise ValueError('m > n')\n",
    "        if m == n:\n",
    "            return head\n",
    "        count = 1\n",
    "        node = head\n",
    "        while node != None and count <= n:\n",
    "            if count <= m:\n",
    "                # count <= m\n",
    "                if count == m - 1:\n",
    "                    pre_m_node = node\n",
    "                elif count == m:\n",
    "                    m_node = node\n",
    "                    prev = node\n",
    "                node = node.next\n",
    "                count += 1\n",
    "            # count > m and count < n\n",
    "            elif count > m and count < n:\n",
    "                node.next, node, prev = prev, node.next, node\n",
    "                count += 1\n",
    "            # count == n\n",
    "            elif count == n:\n",
    "                m_node.next = node.next\n",
    "                node.next = prev\n",
    "                if m > 1:\n",
    "                    pre_m_node.next = node\n",
    "                    return head\n",
    "                else:\n",
    "                    return node"
   ]
  },
  {
   "cell_type": "markdown",
   "metadata": {},
   "source": [
    "# 54. Linked List Cycle (leetcode.com, CrackingTheCodinglnterview)"
   ]
  },
  {
   "cell_type": "raw",
   "metadata": {},
   "source": [
    "Given a linked list, determine if it has a cycle in it.\n",
    "\n",
    "To represent a cycle in the given linked list, we use an integer pos which represents the position (0-indexed) in the linked list where tail connects to. If pos is -1, then there is no cycle in the linked list.\n",
    "\n",
    " \n",
    "\n",
    "Example 1:\n",
    "\n",
    "Input: head = [3,2,0,-4], pos = 1\n",
    "Output: true\n",
    "Explanation: There is a cycle in the linked list, where tail connects to the second node."
   ]
  },
  {
   "cell_type": "code",
   "execution_count": 15,
   "metadata": {
    "collapsed": true
   },
   "outputs": [],
   "source": [
    "# Definition for singly-linked list.\n",
    "# class ListNode(object):\n",
    "#     def __init__(self, x):\n",
    "#         self.val = x\n",
    "#         self.next = None\n",
    "\n",
    "class Solution(object):\n",
    "    \n",
    "    # use set\n",
    "    def hasCycleSet(self, head):\n",
    "      # check args\n",
    "      if head == None:\n",
    "        return False # or exception\n",
    "      if head.next == None:\n",
    "        return False\n",
    "\n",
    "      nodes_set = set()\n",
    "      node = head\n",
    "      while node != None:\n",
    "        if node in nodes_set:\n",
    "          return True\n",
    "        nodes_set.add(node)\n",
    "        node = node.next\n",
    "\n",
    "      return False\n",
    "\n",
    "    # 2 pointers\n",
    "    def hasCycle(self, head):\n",
    "          # check args\n",
    "          if head == None:\n",
    "            return False # or exception\n",
    "          if head.next == None:\n",
    "            return False\n",
    "\n",
    "          slow, fast = head, head.next\n",
    "          while fast != None:\n",
    "            if fast == slow:\n",
    "              return True\n",
    "            slow = slow.next\n",
    "            if fast.next != None:\n",
    "              fast = fast.next.next\n",
    "            else:\n",
    "              return False\n",
    "\n",
    "          return False"
   ]
  },
  {
   "cell_type": "markdown",
   "metadata": {},
   "source": [
    "# 55. Linked List Cycle II (leetcode.com, CrackingTheCodinglnterview)"
   ]
  },
  {
   "cell_type": "raw",
   "metadata": {},
   "source": [
    "Given a linked list, return the node where the cycle begins. If there is no cycle, return null."
   ]
  },
  {
   "cell_type": "code",
   "execution_count": 16,
   "metadata": {
    "collapsed": true
   },
   "outputs": [],
   "source": [
    "# Definition for singly-linked list.\n",
    "# class ListNode(object):\n",
    "#     def __init__(self, x):\n",
    "#         self.val = x\n",
    "#         self.next = None\n",
    "\n",
    "class Solution(object):\n",
    "\n",
    "    def detectCycle(self, head):\n",
    "      #  check arg\n",
    "      if head == None:\n",
    "        return None\n",
    "      if head.next == None:\n",
    "        return None\n",
    "\n",
    "      #  check if there is a cycle\n",
    "      node = None\n",
    "      slow, fast = head, head\n",
    "      while slow != None and fast != None and fast.next !=None:\n",
    "        slow = slow.next\n",
    "        fast = fast.next.next\n",
    "        if slow == fast:\n",
    "          node = slow\n",
    "          break\n",
    "      if node == None:\n",
    "        return None\n",
    "\n",
    "      #  find the first node in the loop\n",
    "      # Flyed's algorithm\n",
    "      node0 = head\n",
    "      while node0 != node:\n",
    "        node0, node = node0.next, node.next\n",
    "\n",
    "      return node\n"
   ]
  },
  {
   "cell_type": "markdown",
   "metadata": {},
   "source": [
    "# 56. Inorder Successor in Binary Search Tree (leetcode.com, CrackingTheCodinglnterview)"
   ]
  },
  {
   "cell_type": "raw",
   "metadata": {},
   "source": [
    "In Binary Tree, Inorder successor of a node is the next node in Inorder traversal of the Binary Tree. Inorder Successor is NULL for the last node in Inoorder traversal.\n",
    "In Binary Search Tree, Inorder Successor of an input node can also be defined as the node with the smallest key greater than the key of input node. So, it is sometimes important to find next node in sorted order.\n"
   ]
  },
  {
   "cell_type": "code",
   "execution_count": 2,
   "metadata": {
    "collapsed": true
   },
   "outputs": [],
   "source": [
    "# class Solution:\n",
    "#   def inorder_successor(self, node):\n",
    "#     # check args\n",
    "#     if node == None:\n",
    "#       return None\n",
    "\n",
    "#     # right child exists\n",
    "#     if node.right != None:\n",
    "#       # inorder min val\n",
    "#       return  self.get_min_down(node) \n",
    "\n",
    "#     # left child of the parent\n",
    "#     if node.parent.left == node:\n",
    "#       return node.parent\n",
    "\n",
    "#     # right child of the parent \n",
    "#     return self.get_min_up(node)\n",
    "\n",
    "#   def get_min_up(self, node):\n",
    "#     if node == None:\n",
    "#       return None\n",
    "#     elif node.parent.left == node:\n",
    "#       return node.parent\n",
    "#     else:\n",
    "#       return self.get_min_up(node.parent)\n",
    "\n",
    "#     def get_min_down(self, node):\n",
    "#       if node == None:\n",
    "#         return node.parent.value\n",
    "#       min_elem = self.get_min_down(node.left):\n",
    "#       if min_elem != None:\n",
    "#         return min_elem\n",
    "#       else:\n",
    "#         min_elem = self.get_min_down(node.right)\n",
    "#         return min_elem\n"
   ]
  },
  {
   "cell_type": "markdown",
   "metadata": {},
   "source": [
    "# 57. Kth Smallest Element in a BST (leetcode.com)"
   ]
  },
  {
   "cell_type": "raw",
   "metadata": {},
   "source": [
    "Given a binary search tree, write a function kthSmallest to find the kth smallest element in it.\n",
    "\n",
    "Note: \n",
    "You may assume k is always valid, 1 ≤ k ≤ BST's total elements.\n",
    "\n",
    "Example 1:\n",
    "\n",
    "Input: root = [3,1,4,null,2], k = 1\n",
    "   3\n",
    "  / \\\n",
    " 1   4\n",
    "  \\\n",
    "   2\n",
    "Output: 1"
   ]
  },
  {
   "cell_type": "code",
   "execution_count": 3,
   "metadata": {
    "collapsed": true
   },
   "outputs": [],
   "source": [
    "# Definition for a binary tree node.\n",
    "# class TreeNode(object):\n",
    "#     def __init__(self, x):\n",
    "#         self.val = x\n",
    "#         self.left = None\n",
    "#         self.right = None\n",
    "\n",
    "class Solution:\n",
    "  def __init__(self):\n",
    "    self.m = 1\n",
    "    self.res = None\n",
    "    \n",
    "  def kthSmallest(self, root, k):\n",
    "    if root == None:\n",
    "      return None\n",
    "    \n",
    "    res = self.kthSmallest(root.left, k)\n",
    "    if res != None:\n",
    "        return res\n",
    "    if self.m == k:\n",
    "        return root.val       \n",
    "    self.m += 1\n",
    "    res = self.kthSmallest(root.right, k)\n",
    "    if res != None:\n",
    "        return res\n",
    "    \n",
    "# class Solution:\n",
    "#   def kthSmallest(self, root, k):\n",
    "#     # check args\n",
    "#     if not isinstance(k, int):\n",
    "#       raise TypeError()\n",
    "#     if k < 1:\n",
    "#       raise ValueError() \n",
    "#     if root == None:\n",
    "#       raise TypeError()\n",
    "    \n",
    "#     self.values = []\n",
    "#     self.size = 0\n",
    "\n",
    "#     self.inorder_fill(root)\n",
    "#     if self.size < k:\n",
    "#      raise  Exception()\n",
    "#     return self.values[k-1]\n",
    "\n",
    "#   def inorder_fill(self, root):\n",
    "#     if root == None:\n",
    "#       return None\n",
    "#     self.inorder_fill(root.left)\n",
    "#     self.values.append(root.val)\n",
    "#     self.size += 1\n",
    "#     self.inorder_fill(root.right)"
   ]
  },
  {
   "cell_type": "markdown",
   "metadata": {},
   "source": [
    "# 58. Lowest Common Ancestor of a Binary Tree (leetcode.com, CrackingTheCodinglnterview)"
   ]
  },
  {
   "cell_type": "raw",
   "metadata": {},
   "source": [
    "Given a binary tree, find the lowest common ancestor (LCA) of two given nodes in the tree.\n",
    "\n",
    "According to the definition of LCA on Wikipedia: “The lowest common ancestor is defined between two nodes p and q as the lowest node in T that has both p and q as descendants (where we allow a node to be a descendant of itself).”"
   ]
  },
  {
   "cell_type": "code",
   "execution_count": 2,
   "metadata": {
    "collapsed": true
   },
   "outputs": [],
   "source": [
    "# Definition for a binary tree node.\n",
    "# class TreeNode:\n",
    "#     def __init__(self, x):\n",
    "#         self.val = x\n",
    "#         self.left = None\n",
    "#         self.right = None\n",
    "\n",
    "class Solution:\n",
    "    def lowestCommonAncestor(self, root, p, q):\n",
    "      \"\"\"\n",
    "      :type root: TreeNode\n",
    "      :type p: TreeNode\n",
    "      :type q: TreeNode\n",
    "      :rtype: TreeNode\n",
    "      \"\"\"\n",
    "      if self.isnode(p,q):\n",
    "          return p\n",
    "      if self.isnode(q,p):\n",
    "          return q\n",
    "      while root:\n",
    "          p_left = self.isnode(root.left,p)\n",
    "          q_left = self.isnode(root.left,q)\n",
    "          if p_left and q_left:\n",
    "              root=root.left\n",
    "          if not p_left and not q_left:\n",
    "              root=root.right\n",
    "          else:\n",
    "              return root\n",
    "      return root\n",
    "      \n",
    "    # BFS implementation\n",
    "    def isnode(self, root, s):\n",
    "        if root == None:\n",
    "          return False\n",
    "        queue  = [root]\n",
    "        while queue:\n",
    "          node = queue.pop(0)\n",
    "          if node == s:\n",
    "            return True\n",
    "          if node.left:\n",
    "            queue.append(node.left)\n",
    "          if node.right:\n",
    "            queue.append(node.right)\n",
    "        return False"
   ]
  },
  {
   "cell_type": "markdown",
   "metadata": {},
   "source": [
    "# 59. Subtree of Another Tree (leetcode.com, CrackingTheCodinglnterview)"
   ]
  },
  {
   "cell_type": "raw",
   "metadata": {},
   "source": [
    "BFGiven two non-empty binary trees s and t, check whether tree t has exactly the same structure and node values with a subtree of s. A subtree of s is a tree consists of a node in s and all of this node's descendants. The tree s could also be considered as a subtree of itself.\n",
    "\n",
    "Solutions:\n",
    "-BFS\n",
    "-Basically we convert our tree into string representation, then just check whether substring exists in target string."
   ]
  },
  {
   "cell_type": "code",
   "execution_count": 3,
   "metadata": {
    "collapsed": true
   },
   "outputs": [],
   "source": [
    "class Solution:\n",
    "    def isSubtree(self, t1, t2):\n",
    "        \"\"\"\n",
    "        :type s: TreeNode\n",
    "        :type t: TreeNode\n",
    "        :rtype: bool\n",
    "        \"\"\"\n",
    "        # agrg check\n",
    "        if t2 == None:\n",
    "          return True\n",
    "        if t2 == None:\n",
    "          return False\n",
    "\n",
    "        # find the root of t1in t2\n",
    "        nodes = self.bfs(t1, t2)\n",
    "        if not nodes:\n",
    "          return False\n",
    "        for node in nodes:\n",
    "          if self.is_equal_trees(node, t2):\n",
    "            return True\n",
    "        return False  \n",
    "        \n",
    "\n",
    "    def is_equal_trees(self, t1, t2):\n",
    "        # check args\n",
    "        if t1 == t2 == None:\n",
    "          return True\n",
    "        if (t1 and not t2) or (not t1 and t2):\n",
    "          return False\n",
    "        if  not t1.val == t2.val:\n",
    "          return False\n",
    "\n",
    "        if not self.is_equal_trees(t1.left, t2.left):\n",
    "          return False\n",
    "        elif not self.is_equal_trees(t1.right, t2.right):\n",
    "          return False\n",
    "        else:\n",
    "          return True\n",
    "\n",
    "    def bfs(self, root, s):\n",
    "        if root == None:\n",
    "          return False\n",
    "        queue  = [root]\n",
    "        nodes = []\n",
    "        while queue:\n",
    "          node = queue.pop(0)\n",
    "          if node.val == s.val:\n",
    "            nodes.append(node)\n",
    "          if node.left:\n",
    "            queue.append(node.left)\n",
    "          if node.right:\n",
    "            queue.append(node.right)\n",
    "        if nodes:\n",
    "          return nodes\n",
    "        else:\n",
    "          return None"
   ]
  },
  {
   "cell_type": "markdown",
   "metadata": {},
   "source": [
    "# 60. Path Sum III (leetcode.com, CrackingTheCodinglnterview)"
   ]
  },
  {
   "cell_type": "raw",
   "metadata": {},
   "source": [
    "You are given a binary tree in which each node contains an integer value.\n",
    "\n",
    "Find the number of paths that sum to a given value.\n",
    "\n",
    "The path does not need to start or end at the root or a leaf, but it must go downwards (traveling only from parent nodes to child nodes).\n",
    "\n",
    "The tree has no more than 1,000 nodes and the values are in the range -1,000,000 to 1,000,000."
   ]
  },
  {
   "cell_type": "code",
   "execution_count": 4,
   "metadata": {
    "collapsed": true
   },
   "outputs": [],
   "source": [
    "# Definition for a binary tree node.\n",
    "# class TreeNode:\n",
    "#     def __init__(self, x):\n",
    "#         self.val = x\n",
    "#         self.left = None\n",
    "#         self.right = None\n",
    "\n",
    "class Solution:\n",
    "    def pathSum(self, root, sum):\n",
    "        \"\"\"\n",
    "        :type root: TreeNode\n",
    "        :type sum: int\n",
    "        :rtype: int\n",
    "        \"\"\"\n",
    "        self.count = 0\n",
    "        self.dfs(root, sum)\n",
    "        return self.count\n",
    "      \n",
    "    def dfs(self, root, sum):\n",
    "      if not root:\n",
    "        return\n",
    "      self.test(root, sum)\n",
    "      self.dfs(root.left, sum)\n",
    "      self.dfs(root.right, sum)\n",
    "      \n",
    "    def test(self, root, target):\n",
    "      if not root:\n",
    "        return\n",
    "      if target == root.val:\n",
    "        self.count += 1\n",
    "      self.test(root.left, target-root.val)\n",
    "      self.test(root.right, target-root.val)"
   ]
  },
  {
   "cell_type": "code",
   "execution_count": null,
   "metadata": {
    "collapsed": true
   },
   "outputs": [],
   "source": []
  }
 ],
 "metadata": {
  "kernelspec": {
   "display_name": "Python 3",
   "language": "python",
   "name": "python3"
  },
  "language_info": {
   "codemirror_mode": {
    "name": "ipython",
    "version": 3
   },
   "file_extension": ".py",
   "mimetype": "text/x-python",
   "name": "python",
   "nbconvert_exporter": "python",
   "pygments_lexer": "ipython3",
   "version": "3.6.3"
  }
 },
 "nbformat": 4,
 "nbformat_minor": 1
}
