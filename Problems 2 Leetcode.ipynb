{
 "cells": [
  {
   "cell_type": "markdown",
   "metadata": {},
   "source": [
    "# Problems 2 Leetcode"
   ]
  },
  {
   "cell_type": "markdown",
   "metadata": {},
   "source": [
    "## 1. Path Sum (leetcode.com)"
   ]
  },
  {
   "cell_type": "raw",
   "metadata": {},
   "source": [
    "Given a binary tree and a sum, determine if the tree has a root-to-leaf path such that adding up all the values along the path equals the given sum.\n",
    "\n",
    "Note: A leaf is a node with no children."
   ]
  },
  {
   "cell_type": "code",
   "execution_count": 2,
   "metadata": {
    "collapsed": true
   },
   "outputs": [],
   "source": [
    "# Definition for a binary tree node.\n",
    "# class TreeNode:\n",
    "#     def __init__(self, x):\n",
    "#         self.val = x\n",
    "#         self.left = None\n",
    "#         self.right = None\n",
    "        \n",
    "class Solution:\n",
    "    def hasPathSum(self, root, sum_, cur_sum=0):\n",
    "        \"\"\"\n",
    "        :type root: TreeNode\n",
    "        :type sum: int\n",
    "        :rtype: bool\n",
    "        \"\"\"\n",
    "        if root == None:\n",
    "          return False\n",
    "        cur_sum += root.val\n",
    "        if not root.left and not root.right:\n",
    "          return cur_sum == sum_     \n",
    "        return self.hasPathSum(root.left, sum_, cur_sum) or self.hasPathSum(root.right, sum_, cur_sum)"
   ]
  },
  {
   "cell_type": "markdown",
   "metadata": {},
   "source": [
    "## 2. Path Sum II (leetcode.com)"
   ]
  },
  {
   "cell_type": "raw",
   "metadata": {},
   "source": [
    "Given a binary tree and a sum, find all root-to-leaf paths where each path's sum equals the given sum.\n",
    "\n",
    "Note: A leaf is a node with no children."
   ]
  },
  {
   "cell_type": "code",
   "execution_count": 3,
   "metadata": {
    "collapsed": true
   },
   "outputs": [],
   "source": [
    "# Definition for a binary tree node.\n",
    "# class TreeNode:\n",
    "#     def __init__(self, x):\n",
    "#         self.val = x\n",
    "#         self.left = None\n",
    "#         self.right = None\n",
    "\n",
    "class Solution:\n",
    "    def pathSum(self, root, sum):\n",
    "        \"\"\"\n",
    "        :type root: TreeNode\n",
    "        :type sum: int\n",
    "        :rtype: List[List[int]]\n",
    "        \"\"\"\n",
    "        self.res = []\n",
    "        self.dfs(root, sum)\n",
    "        return self.res\n",
    "\n",
    "    def dfs(self, root, sum, cur_sum=0, res=[]):\n",
    "        if root  == None:\n",
    "          return\n",
    "        cur_sum += root.val\n",
    "        if not root.left and not root.right:\n",
    "          if cur_sum == sum:\n",
    "            self.res.append(res+[root.val]) # !!! list is mutable object !!!\n",
    "            return\n",
    "        self.dfs(root.left, sum, cur_sum, res+[root.val])\n",
    "        self.dfs(root.right, sum, cur_sum, res+[root.val])"
   ]
  },
  {
   "cell_type": "markdown",
   "metadata": {},
   "source": [
    "## 3. Single Number (leetcode.com)"
   ]
  },
  {
   "cell_type": "raw",
   "metadata": {},
   "source": [
    "Given a non-empty array of integers, every element appears twice except for one. Find that single one.\n",
    "\n",
    "Note:\n",
    "\n",
    "Your algorithm should have a linear runtime complexity. Could you implement it without using extra memory?\n",
    "\n",
    "Example 1:\n",
    "\n",
    "Input: [2,2,1]\n",
    "Output: 1"
   ]
  },
  {
   "cell_type": "code",
   "execution_count": 4,
   "metadata": {},
   "outputs": [
    {
     "name": "stdout",
     "output_type": "stream",
     "text": [
      "1\n"
     ]
    }
   ],
   "source": [
    "class Solution:\n",
    "    def singleNumberXOR(self, nums):\n",
    "        \"\"\"\n",
    "        :type nums: List[int]\n",
    "        :rtype: int\n",
    "        \"\"\"\n",
    "        res = nums[0]\n",
    "        for num in nums[1:]:\n",
    "          res ^= num\n",
    "        return res\n",
    "      \n",
    "    def singleNumberSET(self, nums):\n",
    "        \"\"\"\n",
    "        :type nums: List[int]\n",
    "        :rtype: int\n",
    "        \"\"\"\n",
    "        temp = set()\n",
    "        for i in nums:\n",
    "          if i in temp:\n",
    "            temp.remove(i)\n",
    "          else:\n",
    "            temp.add(i)\n",
    "        return list(temp)[0]\n",
    "        \n",
    "print(Solution().singleNumberXOR([2,2,1]))"
   ]
  },
  {
   "cell_type": "markdown",
   "metadata": {},
   "source": [
    "## 4. Invert Binary Tree (leetcode.com)"
   ]
  },
  {
   "cell_type": "raw",
   "metadata": {},
   "source": [
    "Example:\n",
    "\n",
    "Input:\n",
    "\n",
    "     4\n",
    "   /   \\\n",
    "  2     7\n",
    " / \\   / \\\n",
    "1   3 6   9\n",
    "Output:\n",
    "\n",
    "     4\n",
    "   /   \\\n",
    "  7     2\n",
    " / \\   / \\\n",
    "9   6 3   1"
   ]
  },
  {
   "cell_type": "code",
   "execution_count": 5,
   "metadata": {
    "collapsed": true
   },
   "outputs": [],
   "source": [
    "# Definition for a binary tree node.\n",
    "# class TreeNode:\n",
    "#     def __init__(self, x):\n",
    "#         self.val = x\n",
    "#         self.left = None\n",
    "#         self.right = None\n",
    "\n",
    "class Solution:\n",
    "    # The idea is to swap two childes of every node\n",
    "    # Recursive Solution\n",
    "    def invertTree(self, root):\n",
    "        \"\"\"\n",
    "        :type root: TreeNode\n",
    "        :rtype: TreeNode\n",
    "        \"\"\"\n",
    "        if root == None:\n",
    "          return None\n",
    "        # having separate variables is matter\n",
    "        r = self.invertTree(root.right)\n",
    "        l = self.invertTree(root.left)\n",
    "        root.left = r\n",
    "        root.right = l\n",
    "        return root\n",
    "      \n",
    "    # Iterative solution\n",
    "    def invertTree(self, root):\n",
    "      stack = [root]\n",
    "      while stack:\n",
    "        node = stack.pop()\n",
    "        if node:\n",
    "          node.left, node.right = node.right, node.left\n",
    "          stack += [node.right, node.left]\n",
    "      return root"
   ]
  },
  {
   "cell_type": "markdown",
   "metadata": {},
   "source": [
    "## 5. Move Zeroes (leetcode.com)"
   ]
  },
  {
   "cell_type": "raw",
   "metadata": {},
   "source": [
    "Given an array nums, write a function to move all 0's to the end of it while maintaining the relative order of the non-zero elements.\n",
    "\n",
    "Example:\n",
    "\n",
    "Input: [0,1,0,3,12]\n",
    "Output: [1,3,12,0,0]\n",
    "Note:\n",
    "\n",
    "You must do this in-place without making a copy of the array.\n",
    "Minimize the total number of operations."
   ]
  },
  {
   "cell_type": "code",
   "execution_count": 8,
   "metadata": {},
   "outputs": [
    {
     "name": "stdout",
     "output_type": "stream",
     "text": [
      "[1, 3, 12, 0, 0]\n"
     ]
    }
   ],
   "source": [
    "class Solution:\n",
    "    def moveZeroes(self, nums):\n",
    "        \"\"\"\n",
    "        :type nums: List[int]\n",
    "        :rtype: void Do not return anything, modify nums in-place instead.\n",
    "        \"\"\"\n",
    "        # check args\n",
    "        if not isinstance(nums, list):\n",
    "          raise TypeError()\n",
    "        if not nums:\n",
    "          return \n",
    "        \n",
    "        first_zero = 0\n",
    "        for i in range(len(nums)):\n",
    "          if nums[i] != 0:\n",
    "            nums[first_zero], nums[i] = nums[i], nums[first_zero]\n",
    "            first_zero += 1\n",
    "\n",
    "nums = [0,1,0,3,12]\n",
    "Solution().moveZeroes(nums)\n",
    "print(nums)"
   ]
  },
  {
   "cell_type": "markdown",
   "metadata": {},
   "source": [
    "## 6. Find All Numbers Disappeared in an Array (leetcode.com)"
   ]
  },
  {
   "cell_type": "raw",
   "metadata": {},
   "source": [
    "Given an array of integers where 1 ≤ a[i] ≤ n (n = size of array), some elements appear twice and others appear once.\n",
    "\n",
    "Find all the elements of [1, n] inclusive that do not appear in this array.\n",
    "\n",
    "Could you do it without extra space and in O(n) runtime? You may assume the returned list does not count as extra space.\n",
    "\n",
    "Example:\n",
    "\n",
    "Input:\n",
    "[4,3,2,7,8,2,3,1]\n",
    "\n",
    "Output:\n",
    "[5,6]"
   ]
  },
  {
   "cell_type": "code",
   "execution_count": 10,
   "metadata": {},
   "outputs": [
    {
     "name": "stdout",
     "output_type": "stream",
     "text": [
      "[5, 6]\n"
     ]
    }
   ],
   "source": [
    "class Solution:\n",
    "    def findDisappearedNumbers(self, nums):\n",
    "        \"\"\"\n",
    "        :type nums: List[int]\n",
    "        :rtype: List[int]\n",
    "        \"\"\"\n",
    "        for n in nums:\n",
    "          if isinstance(n, tuple):\n",
    "            n = n[0]\n",
    "          indx = abs(n) - 1\n",
    "          if not isinstance(nums[indx], tuple):\n",
    "            nums[indx] = (nums[indx], True)\n",
    "        return [i+1 for i in range(len(nums)) if isinstance(nums[i], int)]\n",
    "\n",
    "print(Solution().findDisappearedNumbers([4,3,2,7,8,2,3,1]))"
   ]
  },
  {
   "cell_type": "raw",
   "metadata": {},
   "source": [
    "Given a Binary Search Tree (BST), convert it to a Greater Tree such that every key of the original BST is changed to the original key plus sum of all keys greater than the original key in BST.\n",
    "\n",
    "Example:\n",
    "\n",
    "Input: The root of a Binary Search Tree like this:\n",
    "              5\n",
    "            /   \\\n",
    "           2     13\n",
    "\n",
    "Output: The root of a Greater Tree like this:\n",
    "             18\n",
    "            /   \\\n",
    "          20     13"
   ]
  },
  {
   "cell_type": "markdown",
   "metadata": {},
   "source": [
    "## 7. Convert BST to Greater Tree (leetcode.com)"
   ]
  },
  {
   "cell_type": "code",
   "execution_count": 12,
   "metadata": {
    "collapsed": true
   },
   "outputs": [],
   "source": [
    "# Definition for a binary tree node.\n",
    "# class TreeNode:\n",
    "#     def __init__(self, x):\n",
    "#         self.val = x\n",
    "#         self.left = None\n",
    "#         self.right = None\n",
    "\n",
    "class Solution:\n",
    "    def __init__(self):\n",
    "      self.sum_ = 0\n",
    "    \n",
    "    # inverse in-order\n",
    "    # By using the call stack to return to previous nodes, we can easily visit the nodes in reverse order.\n",
    "    # T=O(n), S=O(n) in worst case\n",
    "    def convertBST(self, root):\n",
    "        \"\"\"\n",
    "        :type root: TreeNode\n",
    "        :rtype: TreeNode\n",
    "        \"\"\"\n",
    "        if root == None:\n",
    "          return root\n",
    "        \n",
    "        self.convertBST(root.right)\n",
    "        self.sum_ += root.val\n",
    "        root.val = self.sum_\n",
    "        self.convertBST(root.left)\n",
    "        \n",
    "        return root"
   ]
  },
  {
   "cell_type": "markdown",
   "metadata": {},
   "source": [
    "## 8. Diameter of Binary Tree (leetcode.com)"
   ]
  },
  {
   "cell_type": "raw",
   "metadata": {},
   "source": [
    "longest path between any two nodes in a tree. This path may or may not pass through the root.\n",
    "\n",
    "Example:\n",
    "Given a binary tree \n",
    "          1\n",
    "         / \\\n",
    "        2   3\n",
    "       / \\     \n",
    "      4   5    \n",
    "Return 3, which is the length of the path [4,2,1,3] or [5,2,1,3].\n",
    "\n",
    "Note: The length of path between two nodes is represented by the number of edges between them."
   ]
  },
  {
   "cell_type": "code",
   "execution_count": 13,
   "metadata": {
    "collapsed": true
   },
   "outputs": [],
   "source": [
    "# Definition for a binary tree node.\n",
    "# class TreeNode:\n",
    "#     def __init__(self, x):\n",
    "#         self.val = x\n",
    "#         self.left = None\n",
    "#         self.right = None\n",
    "\n",
    "class Solution:\n",
    "    def diameterOfBinaryTree(self, root):\n",
    "        \"\"\"\n",
    "        :type root: TreeNode\n",
    "        :rtype: int\n",
    "        \"\"\"\n",
    "        if root == None:\n",
    "          return 0\n",
    "        self.ans = 1\n",
    "        self.depth(root)\n",
    "        \n",
    "        return self.ans - 1\n",
    "        \n",
    "    def depth(self, root):\n",
    "      if root == None:\n",
    "        return 0\n",
    "      l = self.depth(root.left)\n",
    "      r = self.depth(root.right)\n",
    "      self.ans = max(self.ans, l + r + 1)\n",
    "      return max(l, r) + 1\n",
    "      "
   ]
  },
  {
   "cell_type": "markdown",
   "metadata": {},
   "source": [
    "## 9. Symmetric Tree (leetcode.com)"
   ]
  },
  {
   "cell_type": "raw",
   "metadata": {},
   "source": [
    "Given a binary tree, check whether it is a mirror of itself (ie, symmetric around its center).\n",
    "\n",
    "For example, this binary tree [1,2,2,3,4,4,3] is symmetric:\n",
    "\n",
    "    1\n",
    "   / \\\n",
    "  2   2\n",
    " / \\ / \\\n",
    "3  4 4  3"
   ]
  },
  {
   "cell_type": "code",
   "execution_count": 15,
   "metadata": {
    "collapsed": true
   },
   "outputs": [],
   "source": [
    "# Definition for a binary tree node.\n",
    "# class TreeNode:\n",
    "#     def __init__(self, x):\n",
    "#         self.val = x\n",
    "#         self.left = None\n",
    "#         self.right = None\n",
    "\n",
    "class Solution:\n",
    "    #\n",
    "    def isSymmetric(self, root):\n",
    "        \"\"\"\n",
    "        :type root: TreeNode\n",
    "        :rtype: bool\n",
    "        \"\"\"\n",
    "        return self.check(root, root)\n",
    "      \n",
    "    def check(self, root1, root2):\n",
    "      if root1 == root2 == None:\n",
    "        return True\n",
    "      if root1 == None or root2 == None:\n",
    "        return False    \n",
    "      if root1.val != root2.val:\n",
    "        return False\n",
    "      \n",
    "      res = self.check(root1.left, root2.right)\n",
    "      if res == False:\n",
    "        return False\n",
    "      res = self.check(root1.right, root2.left)\n",
    "      \n",
    "      return res"
   ]
  },
  {
   "cell_type": "markdown",
   "metadata": {},
   "source": [
    "## 10. House Robber (leetcode.com)"
   ]
  },
  {
   "cell_type": "raw",
   "metadata": {},
   "source": [
    "You are a professional robber planning to rob houses along a street. Each house has a certain amount of money stashed, the only constraint stopping you from robbing each of them is that adjacent houses have security system connected and it will automatically contact the police if two adjacent houses were broken into on the same night.\n",
    "\n",
    "Given a list of non-negative integers representing the amount of money of each house, determine the maximum amount of money you can rob tonight without alerting the police.\n",
    "\n",
    "Example 1:\n",
    "\n",
    "Input: [1,2,3,1]\n",
    "Output: 4\n",
    "Explanation: Rob house 1 (money = 1) and then rob house 3 (money = 3).\n",
    "             Total amount you can rob = 1 + 3 = 4.\n",
    "Example 2:\n",
    "\n",
    "Input: [2,7,9,3,1]\n",
    "Output: 12\n",
    "Explanation: Rob house 1 (money = 2), rob house 3 (money = 9) and rob house 5 (money = 1).\n",
    "             Total amount you can rob = 2 + 9 + 1 = 12."
   ]
  },
  {
   "cell_type": "code",
   "execution_count": 16,
   "metadata": {},
   "outputs": [
    {
     "name": "stdout",
     "output_type": "stream",
     "text": [
      "12\n"
     ]
    }
   ],
   "source": [
    "class Solution:\n",
    "    def rob(self, nums):\n",
    "        \"\"\"\n",
    "        :type nums: List[int]\n",
    "        :rtype: int\n",
    "        \"\"\"\n",
    "        size = len(nums)\n",
    "        if size == 0:\n",
    "          return 0\n",
    "        elif size == 1:\n",
    "          return nums[0]\n",
    "        elif size == 2:\n",
    "          return max(nums[0], nums[1])\n",
    "        \n",
    "        ans = [0]*size\n",
    "        ans[0], ans[1] = nums[0], max(nums[0], nums[1])\n",
    "        for i in range(2, size):\n",
    "          ans[i] = max(nums[i] + ans[i-2], ans[i-1])\n",
    "        \n",
    "        return ans[-1]\n",
    "        \n",
    "        \n",
    "print(Solution().rob([2,7,9,3,1]))"
   ]
  },
  {
   "cell_type": "markdown",
   "metadata": {
    "collapsed": true
   },
   "source": [
    "## 11. Best Time to Buy and Sell Stock II (Leetcode 122)"
   ]
  },
  {
   "cell_type": "markdown",
   "metadata": {},
   "source": [
    "Say you have an array for which the ith element is the price of a given stock on day i.\n",
    "\n",
    "Design an algorithm to find the maximum profit. You may complete as many transactions as you like (i.e., buy one and sell one share of the stock multiple times).\n",
    "\n",
    "Note: You may not engage in multiple transactions at the same time (i.e., you must sell the stock before you buy again).\n",
    "\n",
    "Example 1:\n",
    "\n",
    "Input: [7,1,5,3,6,4]\n",
    "Output: 7\n",
    "Explanation: Buy on day 2 (price = 1) and sell on day 3 (price = 5), profit = 5-1 = 4.\n",
    "             Then buy on day 4 (price = 3) and sell on day 5 (price = 6), profit = 6-3 = 3."
   ]
  },
  {
   "cell_type": "raw",
   "metadata": {},
   "source": [
    "Solution: simply go on crawling over the slope and keep on adding the profit obtained from every consecutive transaction.\n",
    "\n",
    "T = O(N), S = O(1)"
   ]
  },
  {
   "cell_type": "code",
   "execution_count": 2,
   "metadata": {},
   "outputs": [
    {
     "name": "stdout",
     "output_type": "stream",
     "text": [
      "7\n"
     ]
    }
   ],
   "source": [
    "class Solution:\n",
    "    def maxProfit(self, prices: 'List[int]') -> 'int':\n",
    "        size = len(prices)\n",
    "        if size < 2:\n",
    "            return 0\n",
    "        profit = 0\n",
    "        i = 0\n",
    "        while i < size-1:\n",
    "            if prices[i] < prices[i+1]:\n",
    "                profit += prices[i+1] - prices[i]\n",
    "            i += 1\n",
    "        return profit\n",
    "\n",
    "print(Solution().maxProfit([7,1,5,3,6,4]))"
   ]
  },
  {
   "cell_type": "markdown",
   "metadata": {},
   "source": [
    "## 12 Merge Two Sorted Lists (Leetcode 21, Facebook)"
   ]
  },
  {
   "cell_type": "raw",
   "metadata": {},
   "source": [
    "Merge two sorted linked lists and return it as a new list. The new list should be made by splicing together the nodes of the first two lists.\n",
    "\n",
    "Example:\n",
    "\n",
    "Input: 1->2->4, 1->3->4\n",
    "Output: 1->1->2->3->4->4"
   ]
  },
  {
   "cell_type": "code",
   "execution_count": null,
   "metadata": {},
   "outputs": [],
   "source": [
    "class Solution:\n",
    "    def mergeTwoLists(self, l1: 'ListNode', l2: 'ListNode') -> 'ListNode':\n",
    "        if l1 and l2:\n",
    "            if l1.val > l2.val:\n",
    "                l1, l2 = l2, l1\n",
    "            l1.next = self.mergeTwoLists(l1.next, l2)\n",
    "        return l1 or l2\n",
    "    \n",
    "    \n",
    "# Definition for singly-linked list.\n",
    "# class ListNode:\n",
    "#     def __init__(self, x):\n",
    "#         self.val = x\n",
    "#         self.next = None\n",
    "\n",
    "class Solution:\n",
    "    def mergeTwoLists(self, l1, l2):\n",
    "        \"\"\"\n",
    "        :type l1: ListNode\n",
    "        :type l2: ListNode\n",
    "        :rtype: ListNode\n",
    "        \"\"\"\n",
    "        if not l1:\n",
    "          return l2\n",
    "        elif not l2:\n",
    "          return l1\n",
    "          \n",
    "        if l1.val < l2.val:\n",
    "          l3 = ListNode(l1.val)\n",
    "          l1 = l1.next\n",
    "        else:\n",
    "          l3 = ListNode(l2.val)\n",
    "          l2 = l2.next\n",
    "        l3_head = l3\n",
    "          \n",
    "        while l1 != None and l2 != None:\n",
    "          if l1.val < l2.val:\n",
    "            l3.next = ListNode(l1.val)\n",
    "            l1 = l1.next\n",
    "          else:\n",
    "            l3.next = ListNode(l2.val)\n",
    "            l2 = l2.next\n",
    "          l3 = l3.next\n",
    "          \n",
    "        l3.next = l1 or l2\n",
    "          \n",
    "        return l3_head"
   ]
  },
  {
   "cell_type": "markdown",
   "metadata": {},
   "source": [
    "## 13. Merge k Sorted Lists (Leetcode 23, Facebook)"
   ]
  },
  {
   "cell_type": "raw",
   "metadata": {},
   "source": [
    "Merge k sorted linked lists and return it as one sorted list. Analyze and describe its complexity.\n",
    "\n",
    "Example:\n",
    "\n",
    "Input:\n",
    "[\n",
    "  1->4->5,\n",
    "  1->3->4,\n",
    "  2->6\n",
    "]\n",
    "Output: 1->1->2->3->4->4->5->6\n",
    "\n",
    "\n",
    "-------\n",
    "Time complexity : O(N\\log k) where \\text{k} is the number of linked lists.\n",
    "The comparison cost will be reduced to O(\\log k)for every pop and insertion to priority queue. But finding the node with the smallest value just costs O(1) time.\n",
    "There are N nodes in the final linked list.\n",
    "\n",
    "Space complexity :\n",
    "O(n) Creating a new linked list costs O(n) space.\n",
    "O(k) The code above present applies in-place method which cost O(1) space. And the priority queue (often implemented with heaps) costs O(k) space (it's far less than N in most situations). "
   ]
  },
  {
   "cell_type": "code",
   "execution_count": null,
   "metadata": {},
   "outputs": [],
   "source": [
    "# Definition for singly-linked list.\n",
    "# class ListNode:\n",
    "#     def __init__(self, x):\n",
    "#         self.val = x\n",
    "#         self.next = None\n",
    "\n",
    "class Solution:\n",
    "    def mergeKLists(self, lists):\n",
    "        from Queue import PriorityQueue\n",
    "        q = PriorityQueue()\n",
    "        for l in lists:\n",
    "            if l: \n",
    "                q.put((l.val, l))\n",
    "        head = new_list = ListNode(0)\n",
    "        while not q.empty():\n",
    "            val, l = q.get()\n",
    "            new_list.next = ListNode(val)\n",
    "            new_list = new_list.next\n",
    "            if l.next: q.put((l.next.val, l.next))\n",
    "        return head.next"
   ]
  },
  {
   "cell_type": "markdown",
   "metadata": {},
   "source": [
    "## 14. Letter Combinations of a Phone Number (Leetcode 17, Facebook)"
   ]
  },
  {
   "cell_type": "raw",
   "metadata": {},
   "source": [
    "Given a string containing digits from 2-9 inclusive, return all possible letter combinations that the number could represent.\n",
    "A mapping of digit to letters (just like on the telephone buttons) is given below. Note that 1 does not map to any letters.\n",
    "\n",
    "Example:\n",
    "Input: \"23\"\n",
    "Output: [\"ad\", \"ae\", \"af\", \"bd\", \"be\", \"bf\", \"cd\", \"ce\", \"cf\"]."
   ]
  },
  {
   "cell_type": "code",
   "execution_count": 1,
   "metadata": {},
   "outputs": [],
   "source": [
    "class Solution:\n",
    "    def letterCombinations(self, digits):\n",
    "            \"\"\"\n",
    "            :type digits: str\n",
    "            :rtype: List[str]\n",
    "            T = len(digits) * 3* 3**len(digits) \n",
    "            -> T = O(3**len(digits))\n",
    "            \"\"\"\n",
    "            if len(digits) < 1:\n",
    "                return []\n",
    "            dic = {\"2\":\"abc\", \"3\":\"def\", \"4\":\"ghi\", \"5\":\"jkl\", \"6\":\"mno\", \"7\":\"pqrs\", \"8\":\"tuv\", \"9\":\"wxyz\"}\n",
    "            ans = ['']\n",
    "            for d in digits:\n",
    "                temp1 = []\n",
    "                for c in dic[d]:\n",
    "                    temp2 = []\n",
    "                    for ind in range(len(ans)):\n",
    "                        temp2.append(ans[ind]+c)\n",
    "                    temp1 += temp2\n",
    "                ans = temp1\n",
    "            return ans"
   ]
  },
  {
   "cell_type": "code",
   "execution_count": null,
   "metadata": {},
   "outputs": [],
   "source": []
  }
 ],
 "metadata": {
  "kernelspec": {
   "display_name": "Python 3",
   "language": "python",
   "name": "python3"
  },
  "language_info": {
   "codemirror_mode": {
    "name": "ipython",
    "version": 3
   },
   "file_extension": ".py",
   "mimetype": "text/x-python",
   "name": "python",
   "nbconvert_exporter": "python",
   "pygments_lexer": "ipython3",
   "version": "3.6.4"
  }
 },
 "nbformat": 4,
 "nbformat_minor": 2
}
