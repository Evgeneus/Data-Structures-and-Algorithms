{
 "cells": [
  {
   "cell_type": "markdown",
   "metadata": {},
   "source": [
    "# Sorting Algorithms"
   ]
  },
  {
   "cell_type": "raw",
   "metadata": {},
   "source": [
    "A sorting algorithm is said to be stable if two objects with equal keys appear in the same order in sorted output as they appear in the input array to be sorted. Some sorting algorithms are stable by nature like Insertion sort, Merge Sort, Bubble Sort, etc. And some sorting algorithms are not, like Heap Sort, Quick Sort, etc."
   ]
  },
  {
   "cell_type": "markdown",
   "metadata": {},
   "source": [
    "### 1. Bubble Sort"
   ]
  },
  {
   "cell_type": "raw",
   "metadata": {},
   "source": [
    "T = O(n^2)\n",
    "S = O(1)\n",
    "\n",
    "---> In computer graphics it is popular for its capability to detect a very small error (like swap of just two elements) in almost-sorted arrays and fix it with just linear complexity (2n).\n",
    "\n",
    "https://www.geeksforgeeks.org/bubble-sort/"
   ]
  },
  {
   "cell_type": "code",
   "execution_count": 2,
   "metadata": {},
   "outputs": [],
   "source": [
    "def bubble_sort(lst):\n",
    "    length = len(lst)\n",
    "    for i in range(length - 1):\n",
    "        for j in range(length - i - 1):\n",
    "            if lst[j] > lst[j+1]:\n",
    "                lst[j], lst[j+1] = lst[j+1], lst[j]\n",
    "    return lst"
   ]
  },
  {
   "cell_type": "markdown",
   "metadata": {},
   "source": [
    "### 2. Selection Sort"
   ]
  },
  {
   "cell_type": "raw",
   "metadata": {},
   "source": [
    "T = O(n^2)\n",
    "S = O(1)\n",
    "\n",
    "---> The good thing about selection sort is it never makes more than O(n) swaps and can be useful when memory write is a costly operation.\n",
    "\n",
    "https://www.geeksforgeeks.org/selection-sort/"
   ]
  },
  {
   "cell_type": "code",
   "execution_count": 1,
   "metadata": {},
   "outputs": [],
   "source": [
    "def selection_sort(a):\n",
    "    n = len(a)\n",
    "    for i in range(n-1):\n",
    "        min_idx = i\n",
    "        for j in range(i+1, n):\n",
    "            if a[min_idx] > a[j]:\n",
    "                min_idx = j\n",
    "        a[i], a[min_idx] = a[min_idx], a[i]\n",
    "    return a"
   ]
  },
  {
   "cell_type": "markdown",
   "metadata": {},
   "source": [
    "### 3. Insertion Sort"
   ]
  },
  {
   "cell_type": "raw",
   "metadata": {},
   "source": [
    "T = O(n^2)\n",
    "S = O(1)\n",
    "\n",
    "Uses: Insertion sort is used when number of elements is small. It can also be useful when input array is almost sorted, only few elements are misplaced in complete big array.\n",
    "What is Binary Insertion Sort? \n",
    "We can use binary search to reduce the number of comparisons in normal insertion sort. Binary Insertion Sort uses binary search to find the proper location to insert the selected item at each iteration. In normal insertion, sorting takes O(i) (at ith iteration) in worst case. We can reduce it to O(logi) by using binary search. The algorithm, as a whole, still has a running worst case running time of O(n^2) because of the series of swaps required for each insertion. Refer this for implementation.\n",
    "How to implement Insertion Sort for Linked List? \n",
    "Below is simple insertion sort algorithm for linked list. \n",
    "\n",
    "1) Create an empty sorted (or result) list\n",
    "2) Traverse the given list, do following for every node.\n",
    "......a) Insert current node in sorted way in sorted or result list.\n",
    "3) Change head of given linked list to head of sorted (or result) list. \n",
    "\n",
    "https://www.geeksforgeeks.org/insertion-sort/"
   ]
  },
  {
   "cell_type": "code",
   "execution_count": 3,
   "metadata": {},
   "outputs": [],
   "source": [
    "def insertion_sort(arr):\n",
    " \n",
    "    # Traverse through 1 to len(arr)\n",
    "    for i in range(1, len(arr)):\n",
    "        key = arr[i]\n",
    "        # Move elements of arr[0..i-1], that are\n",
    "        # greater than key, to one position ahead\n",
    "        # of their current position\n",
    "        j = i-1\n",
    "        while j >= 0 and key < arr[j] :\n",
    "                arr[j + 1] = arr[j]\n",
    "                j -= 1\n",
    "        arr[j + 1] = key"
   ]
  },
  {
   "cell_type": "markdown",
   "metadata": {},
   "source": [
    "### 4. Quick Sort"
   ]
  },
  {
   "cell_type": "raw",
   "metadata": {},
   "source": [
    "T_best = O(n*log n), T_avg = O(n*log n), T_worst =  O(n^2)\n",
    "S = O(log n)\n",
    "\n",
    "Quicksort space is O(log n) because of the stack of calls is of logN and to swap 2 elements we need one more variable.\n",
    "\n",
    "Is QuickSort In-place? \n",
    "As per the broad definition of in-place algorithm it qualifies as an in-place sorting algorithm as it uses extra space only for storing recursive function calls but not for manipulating the input.\n",
    "\n",
    "Why Quick Sort is preferred over MergeSort for sorting Arrays: https://www.geeksforgeeks.org/quick-sort/\n",
    "Iterative Quick Sort: https://www.geeksforgeeks.org/iterative-quick-sort/"
   ]
  },
  {
   "cell_type": "code",
   "execution_count": 2,
   "metadata": {},
   "outputs": [],
   "source": [
    "# Simple implementation, with simplified partitioning (that is not in-place)\n",
    "def quicksort(lst):\n",
    "    length = len(lst)\n",
    "    if length <= 1:\n",
    "        return lst\n",
    "    else:\n",
    "        less = []\n",
    "        greater = []\n",
    "        equal = []\n",
    "        pivot = lst[0]\n",
    "        for item in lst:\n",
    "            if item < pivot:\n",
    "                less.append(item)\n",
    "            elif item > pivot:\n",
    "                greater.append(item)\n",
    "            else:\n",
    "                equal.append(item)\n",
    "        return quicksort(less) + equal + quicksort(greater)"
   ]
  },
  {
   "cell_type": "code",
   "execution_count": 5,
   "metadata": {},
   "outputs": [
    {
     "name": "stdout",
     "output_type": "stream",
     "text": [
      "Sorted array is:  [1, 2, 2, 3, 3, 3, 4, 5]\n"
     ]
    }
   ],
   "source": [
    "# Iterative Quick Sort\n",
    "# Python program for implementation of Quicksort \n",
    "  \n",
    "# This function is same in both iterative and recursive\n",
    "def partition(arr, l, h):\n",
    "    i = ( l - 1 )\n",
    "    x = arr[h]\n",
    "  \n",
    "    for j in range(l, h):\n",
    "        if   arr[j] <= x:\n",
    "  \n",
    "            # increment index of smaller element\n",
    "            i = i + 1\n",
    "            arr[i], arr[j] = arr[j], arr[i]\n",
    "  \n",
    "    arr[i + 1], arr[h] = arr[h], arr[i + 1]\n",
    "    return (i + 1)\n",
    "  \n",
    "# Function to do Quick sort\n",
    "# arr[] --> Array to be sorted,\n",
    "# l  --> Starting index,\n",
    "# h  --> Ending index\n",
    "def quickSortIterative(arr, l, h):\n",
    "  \n",
    "    # Create an auxiliary stack\n",
    "    size = h - l + 1\n",
    "    stack = [0] * (size)\n",
    "  \n",
    "    # initialize top of stack\n",
    "    top = -1\n",
    "  \n",
    "    # push initial values of l and h to stack\n",
    "    top = top + 1\n",
    "    stack[top] = l\n",
    "    top = top + 1\n",
    "    stack[top] = h\n",
    "  \n",
    "    # Keep popping from stack while is not empty\n",
    "    while top >= 0:\n",
    "  \n",
    "        # Pop h and l\n",
    "        h = stack[top]\n",
    "        top = top - 1\n",
    "        l = stack[top]\n",
    "        top = top - 1\n",
    "  \n",
    "        # Set pivot element at its correct position in\n",
    "        # sorted array\n",
    "        p = partition( arr, l, h )\n",
    "  \n",
    "        # If there are elements on left side of pivot,\n",
    "        # then push left side to stack\n",
    "        if p-1 > l:\n",
    "            top = top + 1\n",
    "            stack[top] = l\n",
    "            top = top + 1\n",
    "            stack[top] = p - 1\n",
    "  \n",
    "        # If there are elements on right side of pivot,\n",
    "        # then push right side to stack\n",
    "        if p + 1 < h:\n",
    "            top = top + 1\n",
    "            stack[top] = p + 1\n",
    "            top = top + 1\n",
    "            stack[top] = h\n",
    "  \n",
    "# Driver code to test above\n",
    "arr = [4, 3, 5, 2, 1, 3, 2, 3]\n",
    "n = len(arr)\n",
    "quickSortIterative(arr, 0, n-1)\n",
    "print (\"Sorted array is: \", arr)\n",
    "# This code is contributed by Mohit Kumra"
   ]
  },
  {
   "cell_type": "markdown",
   "metadata": {},
   "source": [
    "### 5. Merge Sort"
   ]
  },
  {
   "cell_type": "raw",
   "metadata": {},
   "source": [
    "T_best = O(n*log n), T_avg = O(n*log n), T_worst =  O(n*log n)\n",
    "S = O(n)\n",
    "\n",
    "Like QuickSort, Merge Sort is a Divide and Conquer algorithm. It divides the input array into two halves, calls itself for the two halves, and then merges the two sorted halves\n",
    "https://www.geeksforgeeks.org/merge-sort/\n",
    "\n",
    "*Sorting In Place: No in a typical implementation\n",
    "\n",
    "*Applications of Merge Sort:\n",
    "- Merge Sort is useful for sorting linked lists in O(nLogn) time.\n",
    "- Inversion Count Problem\n",
    "- Used in External Sorting\n",
    "- Merge Sort is a stable sort which means that the same element in an array maintain their original positions with respect to each other.\n",
    "- Merge sort is good for parallel computing (A parallel merge algorithm performs a merge operation on two sorted sequences of length , each distributed over tasks, to produce a single sorted sequence of length distributed over tasks. )\n",
    "\n",
    "*Drawbacks of Merge Sort:\n",
    "- Slower comparative to the other sort algorithms for smaller tasks.\n",
    "- Merge sort algorithm requires an additional memory space of 0(n) for the temporary array.\n",
    "- It goes through the whole process even if the array is sorted.\n",
    "\n",
    "--> if you count stack frames, then it's O(n)+ O(log n) , so still O(n) in case of arrays. In case of lists it's O(log n) additional memory.\n",
    "\n",
    "\n",
    "*About SpaceComplexity*\n",
    "MergeSort time Complexity is O(nlgn) which is a fundamental knowledge. Merge Sort space complexity will always be O(n) including with arrays. If you draw the space tree out, it will seem as though the space complexity is O(nlgn). However, as the code is a Depth First code, you will always only be expanding along one branch of the tree, therefore, the total space usage required will always be bounded by O(3n) = O(n)\n",
    "https://stackoverflow.com/questions/10342890/merge-sort-time-and-space-complexity"
   ]
  },
  {
   "cell_type": "code",
   "execution_count": 6,
   "metadata": {},
   "outputs": [],
   "source": [
    "def merge_sort(arr):\n",
    "    if len(arr) > 1:\n",
    "        mid = len(arr)/2\n",
    "        left_half = arr[:mid]\n",
    "        right_half = arr[mid:]\n",
    "\n",
    "        merge_sort(left_half)\n",
    "        merge_sort(right_half)\n",
    "\n",
    "        i = 0\n",
    "        j = 0\n",
    "        k = 0\n",
    "        while i < len(left_half) and j < len(right_half):\n",
    "            if left_half[i] < right_half[j]:\n",
    "                arr[k] = left_half[i]\n",
    "                i += 1\n",
    "            else:\n",
    "                arr[k] = right_half[j]\n",
    "                j += 1\n",
    "            k += 1\n",
    "\n",
    "        while i < len(left_half):\n",
    "            arr[k] = left_half[i]\n",
    "            i += 1\n",
    "            k += 1\n",
    "\n",
    "        while j < len(right_half):\n",
    "            arr[k] = right_half[j]\n",
    "            j += 1\n",
    "            k += 1"
   ]
  },
  {
   "cell_type": "code",
   "execution_count": 7,
   "metadata": {},
   "outputs": [],
   "source": [
    "# Iterative Merge Sort\n",
    "# https://www.geeksforgeeks.org/iterative-merge-sort/"
   ]
  },
  {
   "cell_type": "markdown",
   "metadata": {},
   "source": [
    "### 6. Merge Sort vs Quick Sort\n",
    "https://www.geeksforgeeks.org/quick-sort-vs-merge-sort/#:~:text=Merge%20sort%20is%20more%20efficient,larger%20array%20size%20or%20datasets.&text=Quick%20sort%20is%20more%20efficient,is%20sorted%20in%20main%20memory."
   ]
  },
  {
   "cell_type": "raw",
   "metadata": {},
   "source": [
    "5) Efficiency :\n",
    "Merge sort is more efficient and works faster than quick sort in case of larger array size or datasets.\n",
    "whereas\n",
    "Quick sort is more efficient and works faster than merge sort in case of smaller array size or datasets.\n",
    "THINK depends on object size: same space of input data but if object size is very small > many objects> in the worst case Quick sort is n^2 (n is larg) while merge sort log n. -> much faster with merge sort and space might be neglectable as it might be not large.\n",
    "Also:\n",
    "For datasets too large to fit in memory, a memory base sort is used to sort \"chunks\" of the dataset that will fit into memory then written to external storage. Then the \"chunks\" on external storage are merged using a k-way merge to produce a sorted dataset.\n",
    "6)Preferred for :\n",
    "Quick sort is preferred for arrays (swapping elements is O(1) for an array and O(n) for a list).\n",
    "whereas\n",
    "Merge sort is preferred for linked lists (just change the pointer to sepparate elems, actually maybe ok for array as well).\n",
    "7) Locality of reference :\n",
    "Quicksort exhibits good cache locality and this makes quicksort faster than merge sort (in many cases like in virtual memory environment).\n",
    "This is because of pagination. Array elements located one after one, and the page that loaded to the processor memory likely cover the input array. Processor memory works faster than RAM. With Merge sort we allocate new memory for split arrays that can be \"far\" from each other-> so the page might not load all the data into the processor memory. -> potentially quick sort here might be faster."
   ]
  },
  {
   "cell_type": "code",
   "execution_count": null,
   "metadata": {},
   "outputs": [],
   "source": []
  }
 ],
 "metadata": {
  "kernelspec": {
   "display_name": "Python 3",
   "language": "python",
   "name": "python3"
  },
  "language_info": {
   "codemirror_mode": {
    "name": "ipython",
    "version": 3
   },
   "file_extension": ".py",
   "mimetype": "text/x-python",
   "name": "python",
   "nbconvert_exporter": "python",
   "pygments_lexer": "ipython3",
   "version": "3.8.5"
  }
 },
 "nbformat": 4,
 "nbformat_minor": 4
}
