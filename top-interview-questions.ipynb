{
 "cells": [
  {
   "cell_type": "markdown",
   "metadata": {},
   "source": [
    "# Top Interview Questions (from Leetcode.com)"
   ]
  },
  {
   "cell_type": "markdown",
   "metadata": {},
   "source": [
    "## Easy problems..."
   ]
  },
  {
   "cell_type": "code",
   "execution_count": 1,
   "metadata": {},
   "outputs": [],
   "source": [
    "from typing import List"
   ]
  },
  {
   "cell_type": "markdown",
   "metadata": {},
   "source": [
    "#### 1) [26. Remove Duplicates from Sorted Array](https://leetcode.com/problems/remove-duplicates-from-sorted-array/)\n",
    "\n",
    "Given an integer array nums sorted in non-decreasing order, remove the duplicates in-place such that each unique element appears only once. The relative order of the elements should be kept the same."
   ]
  },
  {
   "cell_type": "code",
   "execution_count": 4,
   "metadata": {},
   "outputs": [],
   "source": [
    "class Solution:\n",
    "    def removeDuplicates(self, nums):\n",
    "        if len(nums) < 2:\n",
    "            return 1\n",
    "        k = 0\n",
    "        for i in range(len(nums)):\n",
    "            if nums[k] != nums[i]:\n",
    "                nums[k+1], nums[i] = nums[i], nums[k+1]\n",
    "                k += 1\n",
    "        return k + 1"
   ]
  },
  {
   "cell_type": "markdown",
   "metadata": {},
   "source": [
    "#### 2) [1. Two Sum](https://leetcode.com/problems/two-sum/), ([Video Soulution](https://www.youtube.com/watch?v=BoHO04xVeU0&list=PLU_sdQYzUj2keVENTP0a5rdykRSgg9Wp-&index=74))\n",
    "\n",
    "Given an array of integers nums and an integer target, return indices of the two numbers such that they add up to target.\n",
    "You may assume that each input would have exactly one solution, and you may not use the same element twice."
   ]
  },
  {
   "cell_type": "code",
   "execution_count": 6,
   "metadata": {},
   "outputs": [],
   "source": [
    "class Solution:\n",
    "    def twoSum(self, nums):\n",
    "        if len(nums) < 2:\n",
    "            return None\n",
    "        com_hash = {}\n",
    "        for i in range(len(nums)):\n",
    "            com = target - nums[i]\n",
    "            if com in com_hash:\n",
    "                return com_hash[com], i\n",
    "            else:\n",
    "                com_hash[nums[i]] = i\n",
    "        return None"
   ]
  },
  {
   "cell_type": "markdown",
   "metadata": {},
   "source": [
    "#### 3) [7. Reverse Integer](https://leetcode.com/problems/reverse-integer/), ([Video Soulution](https://www.youtube.com/watch?v=CRgXG1vK-wg&list=PLU_sdQYzUj2keVENTP0a5rdykRSgg9Wp-&index=14))\n",
    "\n",
    "Given a signed 32-bit integer x, return x with its digits reversed. If reversing x causes the value to go outside the signed 32-bit integer range [-231, 231 - 1], then return 0."
   ]
  },
  {
   "cell_type": "code",
   "execution_count": 9,
   "metadata": {},
   "outputs": [
    {
     "data": {
      "text/plain": [
       "321"
      ]
     },
     "execution_count": 9,
     "metadata": {},
     "output_type": "execute_result"
    }
   ],
   "source": [
    "def reverse(x):\n",
    "    is_pos = True\n",
    "    if x < 0:\n",
    "        is_pos = False\n",
    "        x *= -1\n",
    "    MIN = -2**31\n",
    "    MAX = 2**31 - 1 \n",
    "    rev = 0\n",
    "    while x != 0:\n",
    "        pop_elem = x % 10\n",
    "        if is_pos and ((rev > MAX / 10) or (rev == MAX / 10 and pop_elem > 7)):\n",
    "            return 0\n",
    "        if not is_pos and ((rev > -MIN / 10) or ((rev == -MIN / 10 and pop_elem > 8))):\n",
    "            return 0\n",
    "        rev = rev * 10 + pop_elem\n",
    "        x = int(x / 10)\n",
    "    if not is_pos:\n",
    "        rev *= -1\n",
    "    return rev\n",
    "\n",
    "reverse(123)"
   ]
  },
  {
   "cell_type": "markdown",
   "metadata": {},
   "source": [
    "#### 4) [13. Roman to Integer](https://leetcode.com/problems/roman-to-integer/)\n",
    "\n",
    "Given a roman numeral, convert it to an integer."
   ]
  },
  {
   "cell_type": "code",
   "execution_count": 10,
   "metadata": {},
   "outputs": [
    {
     "data": {
      "text/plain": [
       "21"
      ]
     },
     "execution_count": 10,
     "metadata": {},
     "output_type": "execute_result"
    }
   ],
   "source": [
    "def romanToInt(s):\n",
    "    rd = {\n",
    "        \"I\" : 1,\n",
    "        \"V\" : 5,\n",
    "        \"X\" : 10,\n",
    "        \"L\" : 50,\n",
    "        \"C\" : 100,\n",
    "        \"D\" : 500,\n",
    "        \"M\" : 1000\n",
    "    }\n",
    "    res = 0\n",
    "    for i in range(len(s)):\n",
    "        if i == len(s) - 1 or rd[s[i]] >= rd[s[i+1]]:\n",
    "            res += rd[s[i]]\n",
    "        else:\n",
    "            res -= rd[s[i]]\n",
    "    return res    \n",
    "\n",
    "romanToInt(\"XXI\")"
   ]
  },
  {
   "cell_type": "markdown",
   "metadata": {},
   "source": [
    "#### 5) [14. Longest Common Prefix](https://leetcode.com/problems/longest-common-prefix/), ([Video Soulution](https://www.youtube.com/watch?v=bl8ue-dTxgs&list=PLU_sdQYzUj2keVENTP0a5rdykRSgg9Wp-&index=132))\n",
    "\n",
    "Write a function to find the longest common prefix string amongst an array of strings.\n",
    "If there is no common prefix, return an empty string \"\".\n",
    "\n",
    "Input: strs = [\"flower\",\"flow\",\"flight\"]\n",
    "Output: \"fl\""
   ]
  },
  {
   "cell_type": "code",
   "execution_count": 15,
   "metadata": {},
   "outputs": [
    {
     "data": {
      "text/plain": [
       "'fl'"
      ]
     },
     "execution_count": 15,
     "metadata": {},
     "output_type": "execute_result"
    }
   ],
   "source": [
    "def longestCommonPrefix(strs: List[str]) -> str:\n",
    "        pref_temp = strs[0]\n",
    "        for j in range(len(pref_temp)):\n",
    "            for i in range(len(strs)):\n",
    "                if len(strs[i]) - 1 < j:\n",
    "                    return  pref_temp[:j]\n",
    "                if strs[i][j] != pref_temp[j]:\n",
    "                    return  pref_temp[:j]\n",
    "        return pref_temp\n",
    "\n",
    "longestCommonPrefix([\"flower\",\"flow\",\"flight\"])"
   ]
  },
  {
   "cell_type": "markdown",
   "metadata": {},
   "source": [
    "#### 6) [20. Valid Parentheses](https://leetcode.com/problems/valid-parentheses/), ([Video Soulution](https://www.youtube.com/watch?v=9kmUaXrjizQ&list=PLU_sdQYzUj2keVENTP0a5rdykRSgg9Wp-&index=133))\n",
    "Given a string s containing just the characters '(', ')', '{', '}', '[' and ']', determine if the input string is valid.\n",
    "An input string is valid if:\n",
    "1. Open brackets must be closed by the same type of brackets.\n",
    "2. Open brackets must be closed in the correct order."
   ]
  },
  {
   "cell_type": "code",
   "execution_count": 20,
   "metadata": {},
   "outputs": [
    {
     "data": {
      "text/plain": [
       "True"
      ]
     },
     "execution_count": 20,
     "metadata": {},
     "output_type": "execute_result"
    }
   ],
   "source": [
    "def isValid(s: str) -> bool:\n",
    "    d_open = {\n",
    "        '(': ')',\n",
    "        '{': '}',\n",
    "        '[': ']',\n",
    "    }\n",
    "    d_close = {\n",
    "        ')': '(',\n",
    "        '}': '{',\n",
    "        ']': '[',\n",
    "    }\n",
    "    if len(s) == 0:\n",
    "        return True\n",
    "    if len(s) % 2:\n",
    "        return False\n",
    "    stack = []\n",
    "    for c in s:\n",
    "        if c in d_open:\n",
    "            stack.append(c)\n",
    "        elif c in d_close:\n",
    "            if len(stack) == 0 or stack.pop(-1) != d_close[c]:\n",
    "                return False\n",
    "        else:\n",
    "            return 'Input Error'\n",
    "    return bool(len(stack) == 0)\n",
    "isValid('{}()[]')"
   ]
  },
  {
   "cell_type": "markdown",
   "metadata": {},
   "source": [
    "#### 7) [21. Merge Two Sorted Lists](https://leetcode.com/problems/merge-two-sorted-lists/), ([Video Soulution](https://www.youtube.com/watch?v=KVf1Uuqfv8E&list=PLU_sdQYzUj2keVENTP0a5rdykRSgg9Wp-&index=28))\n",
    "\n",
    "Merge two sorted linked lists and return it as a sorted list. The list should be made by splicing together the nodes of the first two lists."
   ]
  },
  {
   "cell_type": "code",
   "execution_count": 2,
   "metadata": {},
   "outputs": [],
   "source": [
    "# Time O(N+M), Space O(1)\n",
    "\n",
    "# Definition for singly-linked list.\n",
    "class ListNode:\n",
    "    def __init__(self, val=0, next=None):\n",
    "        self.val = val\n",
    "        self.next = next\n",
    "        \n",
    "class Solution:\n",
    "    def mergeTwoLists(self, l1: ListNode, l2: ListNode) -> ListNode:\n",
    "        start_node = ListNode()\n",
    "        cur_node = start_node\n",
    "\n",
    "        while l1 != None and l2 != None:\n",
    "            if l1.val > l2.val:\n",
    "                cur_node.next = l2\n",
    "                l2 = l2.next\n",
    "            else:\n",
    "                cur_node.next = l1\n",
    "                l1 = l1.next\n",
    "            cur_node = cur_node.next\n",
    "        \n",
    "        if l1 != None:\n",
    "            cur_node.next = l1\n",
    "        elif l2 != None:\n",
    "            cur_node.next = l2\n",
    "            \n",
    "        return start_node.next"
   ]
  },
  {
   "cell_type": "markdown",
   "metadata": {},
   "source": [
    "#### 8) [28. Implement strStr()](https://leetcode.com/problems/implement-strstr/)\n",
    "\n",
    "Return the index of the first occurrence of needle in haystack, or -1 if needle is not part of haystack.\n",
    "Example: Input: haystack = \"hello\", needle = \"ll\"\n",
    "Output: 2"
   ]
  },
  {
   "cell_type": "code",
   "execution_count": 6,
   "metadata": {},
   "outputs": [
    {
     "data": {
      "text/plain": [
       "2"
      ]
     },
     "execution_count": 6,
     "metadata": {},
     "output_type": "execute_result"
    }
   ],
   "source": [
    "# brutal force O(mn)\n",
    "def strStr1(haystack, needle):\n",
    "    l1, l2 = len(haystack), len(needle)\n",
    "    for i in range(l1 - l2 + 1):\n",
    "        if needle == haystack[i:i+l2]:\n",
    "            return i\n",
    "    return -1\n",
    "    \n",
    "# brutal force O(mn)\n",
    "def strStr2(haystack, needle):\n",
    "    l1, l2 = len(haystack), len(needle)\n",
    "    for i in range(l1 - l2 + 1):\n",
    "        j = 0\n",
    "        while j < l2 and needle[j] == haystack[i+j]:\n",
    "            j += 1\n",
    "        if j == l2:\n",
    "            return i\n",
    "    return -1\n",
    "\n",
    "strStr2('hello', 'll')"
   ]
  },
  {
   "cell_type": "markdown",
   "metadata": {},
   "source": [
    "#### 3) [](), ([Video Soulution]())"
   ]
  },
  {
   "cell_type": "markdown",
   "metadata": {},
   "source": [
    "#### 3) [](), ([Video Soulution]())"
   ]
  },
  {
   "cell_type": "markdown",
   "metadata": {},
   "source": [
    "#### 3) [](), ([Video Soulution]())"
   ]
  }
 ],
 "metadata": {
  "kernelspec": {
   "display_name": "Python 3",
   "language": "python",
   "name": "python3"
  },
  "language_info": {
   "codemirror_mode": {
    "name": "ipython",
    "version": 3
   },
   "file_extension": ".py",
   "mimetype": "text/x-python",
   "name": "python",
   "nbconvert_exporter": "python",
   "pygments_lexer": "ipython3",
   "version": "3.8.5"
  }
 },
 "nbformat": 4,
 "nbformat_minor": 4
}
