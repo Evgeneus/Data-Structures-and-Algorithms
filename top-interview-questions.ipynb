{
 "cells": [
  {
   "cell_type": "markdown",
   "metadata": {},
   "source": [
    "# Top Interview Questions (from Leetcode.com)"
   ]
  },
  {
   "cell_type": "markdown",
   "metadata": {},
   "source": [
    "## Easy problems..."
   ]
  },
  {
   "cell_type": "code",
   "execution_count": 13,
   "metadata": {},
   "outputs": [],
   "source": [
    "from typing import List"
   ]
  },
  {
   "cell_type": "markdown",
   "metadata": {},
   "source": [
    "#### 1) [26. Remove Duplicates from Sorted Array](https://leetcode.com/problems/remove-duplicates-from-sorted-array/)\n",
    "\n",
    "Given an integer array nums sorted in non-decreasing order, remove the duplicates in-place such that each unique element appears only once. The relative order of the elements should be kept the same."
   ]
  },
  {
   "cell_type": "code",
   "execution_count": 4,
   "metadata": {},
   "outputs": [],
   "source": [
    "class Solution:\n",
    "    def removeDuplicates(self, nums):\n",
    "        if len(nums) < 2:\n",
    "            return 1\n",
    "        k = 0\n",
    "        for i in range(len(nums)):\n",
    "            if nums[k] != nums[i]:\n",
    "                nums[k+1], nums[i] = nums[i], nums[k+1]\n",
    "                k += 1\n",
    "        return k + 1"
   ]
  },
  {
   "cell_type": "markdown",
   "metadata": {},
   "source": [
    "#### 2) [1. Two Sum](https://leetcode.com/problems/two-sum/), ([Video Soulution](https://www.youtube.com/watch?v=BoHO04xVeU0&list=PLU_sdQYzUj2keVENTP0a5rdykRSgg9Wp-&index=74))\n",
    "\n",
    "Given an array of integers nums and an integer target, return indices of the two numbers such that they add up to target.\n",
    "You may assume that each input would have exactly one solution, and you may not use the same element twice."
   ]
  },
  {
   "cell_type": "code",
   "execution_count": 6,
   "metadata": {},
   "outputs": [],
   "source": [
    "class Solution:\n",
    "    def twoSum(self, nums):\n",
    "        if len(nums) < 2:\n",
    "            return None\n",
    "        com_hash = {}\n",
    "        for i in range(len(nums)):\n",
    "            com = target - nums[i]\n",
    "            if com in com_hash:\n",
    "                return com_hash[com], i\n",
    "            else:\n",
    "                com_hash[nums[i]] = i\n",
    "        return None"
   ]
  },
  {
   "cell_type": "markdown",
   "metadata": {},
   "source": [
    "#### 3) [7. Reverse Integer](https://leetcode.com/problems/reverse-integer/), ([Video Soulution](https://www.youtube.com/watch?v=CRgXG1vK-wg&list=PLU_sdQYzUj2keVENTP0a5rdykRSgg9Wp-&index=14))\n",
    "\n",
    "Given a signed 32-bit integer x, return x with its digits reversed. If reversing x causes the value to go outside the signed 32-bit integer range [-231, 231 - 1], then return 0."
   ]
  },
  {
   "cell_type": "code",
   "execution_count": 9,
   "metadata": {},
   "outputs": [
    {
     "data": {
      "text/plain": [
       "321"
      ]
     },
     "execution_count": 9,
     "metadata": {},
     "output_type": "execute_result"
    }
   ],
   "source": [
    "def reverse(x):\n",
    "    is_pos = True\n",
    "    if x < 0:\n",
    "        is_pos = False\n",
    "        x *= -1\n",
    "    MIN = -2**31\n",
    "    MAX = 2**31 - 1 \n",
    "    rev = 0\n",
    "    while x != 0:\n",
    "        pop_elem = x % 10\n",
    "        if is_pos and ((rev > MAX / 10) or (rev == MAX / 10 and pop_elem > 7)):\n",
    "            return 0\n",
    "        if not is_pos and ((rev > -MIN / 10) or ((rev == -MIN / 10 and pop_elem > 8))):\n",
    "            return 0\n",
    "        rev = rev * 10 + pop_elem\n",
    "        x = int(x / 10)\n",
    "    if not is_pos:\n",
    "        rev *= -1\n",
    "    return rev\n",
    "\n",
    "reverse(123)"
   ]
  },
  {
   "cell_type": "markdown",
   "metadata": {},
   "source": [
    "#### 4) [13. Roman to Integer](https://leetcode.com/problems/roman-to-integer/)\n",
    "\n",
    "Given a roman numeral, convert it to an integer."
   ]
  },
  {
   "cell_type": "code",
   "execution_count": 10,
   "metadata": {},
   "outputs": [
    {
     "data": {
      "text/plain": [
       "21"
      ]
     },
     "execution_count": 10,
     "metadata": {},
     "output_type": "execute_result"
    }
   ],
   "source": [
    "def romanToInt(s):\n",
    "    rd = {\n",
    "        \"I\" : 1,\n",
    "        \"V\" : 5,\n",
    "        \"X\" : 10,\n",
    "        \"L\" : 50,\n",
    "        \"C\" : 100,\n",
    "        \"D\" : 500,\n",
    "        \"M\" : 1000\n",
    "    }\n",
    "    res = 0\n",
    "    for i in range(len(s)):\n",
    "        if i == len(s) - 1 or rd[s[i]] >= rd[s[i+1]]:\n",
    "            res += rd[s[i]]\n",
    "        else:\n",
    "            res -= rd[s[i]]\n",
    "    return res    \n",
    "\n",
    "romanToInt(\"XXI\")"
   ]
  },
  {
   "cell_type": "markdown",
   "metadata": {},
   "source": [
    "#### 5) [14. Longest Common Prefix](https://leetcode.com/problems/longest-common-prefix/), ([Video Soulution](https://www.youtube.com/watch?v=bl8ue-dTxgs&list=PLU_sdQYzUj2keVENTP0a5rdykRSgg9Wp-&index=132))\n",
    "\n",
    "Write a function to find the longest common prefix string amongst an array of strings.\n",
    "If there is no common prefix, return an empty string \"\".\n",
    "\n",
    "Input: strs = [\"flower\",\"flow\",\"flight\"]\n",
    "Output: \"fl\""
   ]
  },
  {
   "cell_type": "code",
   "execution_count": 15,
   "metadata": {},
   "outputs": [
    {
     "data": {
      "text/plain": [
       "'fl'"
      ]
     },
     "execution_count": 15,
     "metadata": {},
     "output_type": "execute_result"
    }
   ],
   "source": [
    "def longestCommonPrefix(strs: List[str]) -> str:\n",
    "        pref_temp = strs[0]\n",
    "        for j in range(len(pref_temp)):\n",
    "            for i in range(len(strs)):\n",
    "                if len(strs[i]) - 1 < j:\n",
    "                    return  pref_temp[:j]\n",
    "                if strs[i][j] != pref_temp[j]:\n",
    "                    return  pref_temp[:j]\n",
    "        return pref_temp\n",
    "\n",
    "longestCommonPrefix([\"flower\",\"flow\",\"flight\"])"
   ]
  },
  {
   "cell_type": "markdown",
   "metadata": {},
   "source": [
    "#### 6) [20. Valid Parentheses](https://leetcode.com/problems/valid-parentheses/), ([Video Soulution](https://www.youtube.com/watch?v=9kmUaXrjizQ&list=PLU_sdQYzUj2keVENTP0a5rdykRSgg9Wp-&index=133))\n",
    "Given a string s containing just the characters '(', ')', '{', '}', '[' and ']', determine if the input string is valid.\n",
    "An input string is valid if:\n",
    "1. Open brackets must be closed by the same type of brackets.\n",
    "2. Open brackets must be closed in the correct order."
   ]
  },
  {
   "cell_type": "code",
   "execution_count": 20,
   "metadata": {},
   "outputs": [
    {
     "data": {
      "text/plain": [
       "True"
      ]
     },
     "execution_count": 20,
     "metadata": {},
     "output_type": "execute_result"
    }
   ],
   "source": [
    "def isValid(s: str) -> bool:\n",
    "    d_open = {\n",
    "        '(': ')',\n",
    "        '{': '}',\n",
    "        '[': ']',\n",
    "    }\n",
    "    d_close = {\n",
    "        ')': '(',\n",
    "        '}': '{',\n",
    "        ']': '[',\n",
    "    }\n",
    "    if len(s) == 0:\n",
    "        return True\n",
    "    if len(s) % 2:\n",
    "        return False\n",
    "    stack = []\n",
    "    for c in s:\n",
    "        if c in d_open:\n",
    "            stack.append(c)\n",
    "        elif c in d_close:\n",
    "            if len(stack) == 0 or stack.pop(-1) != d_close[c]:\n",
    "                return False\n",
    "        else:\n",
    "            return 'Input Error'\n",
    "    return bool(len(stack) == 0)\n",
    "isValid('{}()[]')"
   ]
  },
  {
   "cell_type": "markdown",
   "metadata": {},
   "source": [
    "#### 7) [21. Merge Two Sorted Lists](https://leetcode.com/problems/merge-two-sorted-lists/), ([Video Soulution](https://www.youtube.com/watch?v=KVf1Uuqfv8E&list=PLU_sdQYzUj2keVENTP0a5rdykRSgg9Wp-&index=28))\n",
    "\n",
    "Merge two sorted linked lists and return it as a sorted list. The list should be made by splicing together the nodes of the first two lists."
   ]
  },
  {
   "cell_type": "code",
   "execution_count": 2,
   "metadata": {},
   "outputs": [],
   "source": [
    "# Time O(N+M), Space O(1)\n",
    "\n",
    "# Definition for singly-linked list.\n",
    "class ListNode:\n",
    "    def __init__(self, val=0, next=None):\n",
    "        self.val = val\n",
    "        self.next = next\n",
    "        \n",
    "class Solution:\n",
    "    def mergeTwoLists(self, l1: ListNode, l2: ListNode) -> ListNode:\n",
    "        start_node = ListNode()\n",
    "        cur_node = start_node\n",
    "\n",
    "        while l1 != None and l2 != None:\n",
    "            if l1.val > l2.val:\n",
    "                cur_node.next = l2\n",
    "                l2 = l2.next\n",
    "            else:\n",
    "                cur_node.next = l1\n",
    "                l1 = l1.next\n",
    "            cur_node = cur_node.next\n",
    "        \n",
    "        if l1 != None:\n",
    "            cur_node.next = l1\n",
    "        elif l2 != None:\n",
    "            cur_node.next = l2\n",
    "            \n",
    "        return start_node.next"
   ]
  },
  {
   "cell_type": "markdown",
   "metadata": {},
   "source": [
    "#### 8) [28. Implement strStr()](https://leetcode.com/problems/implement-strstr/)\n",
    "\n",
    "Return the index of the first occurrence of needle in haystack, or -1 if needle is not part of haystack.\n",
    "Example: Input: haystack = \"hello\", needle = \"ll\"\n",
    "Output: 2"
   ]
  },
  {
   "cell_type": "code",
   "execution_count": 6,
   "metadata": {},
   "outputs": [
    {
     "data": {
      "text/plain": [
       "2"
      ]
     },
     "execution_count": 6,
     "metadata": {},
     "output_type": "execute_result"
    }
   ],
   "source": [
    "# brutal force O(mn)\n",
    "def strStr1(haystack, needle):\n",
    "    l1, l2 = len(haystack), len(needle)\n",
    "    for i in range(l1 - l2 + 1):\n",
    "        if needle == haystack[i:i+l2]:\n",
    "            return i\n",
    "    return -1\n",
    "    \n",
    "# brutal force O(mn)\n",
    "def strStr2(haystack, needle):\n",
    "    l1, l2 = len(haystack), len(needle)\n",
    "    for i in range(l1 - l2 + 1):\n",
    "        j = 0\n",
    "        while j < l2 and needle[j] == haystack[i+j]:\n",
    "            j += 1\n",
    "        if j == l2:\n",
    "            return i\n",
    "    return -1\n",
    "\n",
    "strStr2('hello', 'll')"
   ]
  },
  {
   "cell_type": "markdown",
   "metadata": {},
   "source": [
    "#### 9) [53. Maximum Subarray](https://leetcode.com/problems/maximum-subarray/)\n",
    "\n",
    "Given an integer array nums, find the contiguous subarray (containing at least one number) which has the largest sum and return its sum. Example: Input: nums = [5,4,-1,7,8] Output: 23"
   ]
  },
  {
   "cell_type": "code",
   "execution_count": 7,
   "metadata": {},
   "outputs": [
    {
     "data": {
      "text/plain": [
       "6"
      ]
     },
     "execution_count": 7,
     "metadata": {},
     "output_type": "execute_result"
    }
   ],
   "source": [
    "def maxSubArray(nums: List[int]) -> int:\n",
    "    cur_sum = nums[0]\n",
    "    max_sum = nums[0]\n",
    "    for i in range(1, len(nums)):\n",
    "        if cur_sum + nums[i] < nums[i]:\n",
    "            cur_sum = nums[i]\n",
    "        else:\n",
    "            cur_sum = cur_sum + nums[i]\n",
    "\n",
    "        if cur_sum > max_sum:\n",
    "            max_sum = cur_sum\n",
    "\n",
    "    return max_sum\n",
    "\n",
    "maxSubArray([-2,1,-3,4,-1,2,1,-5,4])"
   ]
  },
  {
   "cell_type": "markdown",
   "metadata": {},
   "source": [
    "#### 10) [66. Plus One](https://leetcode.com/problems/plus-one/), ([Video Soulution](https://www.youtube.com/watch?v=G737jzcxG9A&list=PLU_sdQYzUj2keVENTP0a5rdykRSgg9Wp-&index=138))\n",
    "\n",
    "Given a non-empty array of decimal digits representing a non-negative integer, increment one to the integer.\n",
    "The digits are stored such that the most significant digit is at the head of the list, and each element in the array contains a single digit.\n",
    "You may assume the integer does not contain any leading zero, except the number 0 itself.\n",
    "Example: Input: digits = [1,2,3]\n",
    "Output: [1,2,4]\n",
    "Explanation: The array represents the integer 123.\n",
    "\n"
   ]
  },
  {
   "cell_type": "code",
   "execution_count": 8,
   "metadata": {},
   "outputs": [
    {
     "data": {
      "text/plain": [
       "[1, 2, 4]"
      ]
     },
     "execution_count": 8,
     "metadata": {},
     "output_type": "execute_result"
    }
   ],
   "source": [
    "def plusOne(digits: List[int]) -> List[int]:\n",
    "    n = len(digits)\n",
    "    for i in range(n-1, -1, -1):\n",
    "        if digits[i] + 1 < 10:\n",
    "            digits[i] += 1\n",
    "            return digits\n",
    "        else:\n",
    "            digits[i] = 0\n",
    "            if i == 0:\n",
    "                digits = [1] + digits\n",
    "    return digits\n",
    "\n",
    "plusOne([1,2,3])"
   ]
  },
  {
   "cell_type": "markdown",
   "metadata": {},
   "source": [
    "#### 9) [69. Sqrt(x)](https://leetcode.com/problems/sqrtx/)\n",
    "\n",
    "Given a non-negative integer x, compute and return the square root of x.\n",
    "Since the return type is an integer, the decimal digits are truncated, and only the integer part of the result is returned."
   ]
  },
  {
   "cell_type": "code",
   "execution_count": 9,
   "metadata": {},
   "outputs": [
    {
     "data": {
      "text/plain": [
       "3"
      ]
     },
     "execution_count": 9,
     "metadata": {},
     "output_type": "execute_result"
    }
   ],
   "source": [
    "def mySqrt(x: int) -> int:\n",
    "    if x == 0:\n",
    "        return 0\n",
    "    x_half = int(x/2)\n",
    "    l, r, = 1, x_half + 1\n",
    "    while l <= r:\n",
    "        mid  = int((l+r)/2)\n",
    "        if mid*mid == x:\n",
    "            return mid\n",
    "        elif mid*mid > x and (mid-1)*(mid-1) < x:\n",
    "            return mid - 1\n",
    "        elif mid*mid > x:\n",
    "            r = mid - 1\n",
    "        else:\n",
    "            l = mid + 1\n",
    "            \n",
    "mySqrt(9)"
   ]
  },
  {
   "cell_type": "markdown",
   "metadata": {},
   "source": [
    "#### 10) [70. Climbing Stairs](https://leetcode.com/problems/climbing-stairs/submissions/)"
   ]
  },
  {
   "cell_type": "code",
   "execution_count": 12,
   "metadata": {},
   "outputs": [
    {
     "data": {
      "text/plain": [
       "3"
      ]
     },
     "execution_count": 12,
     "metadata": {},
     "output_type": "execute_result"
    }
   ],
   "source": [
    "def climbStairs(n: int) -> int:\n",
    "    # pattern: steps(n )= steps(n-1) + steps(n-2)\n",
    "    steps_1 = 2 # num perm for stair of i-1 steps\n",
    "    steps_2 = 1 # num perm for stair of i-2 steps\n",
    "    if n == 1: return 1\n",
    "    elif n == 2: return 2\n",
    "    for i in range(3, n+1):\n",
    "        steps_1, steps_2 = steps_2 + steps_1, steps_1\n",
    "    return steps_1\n",
    "\n",
    "climbStairs(3)"
   ]
  },
  {
   "cell_type": "markdown",
   "metadata": {},
   "source": [
    "#### 11) [88. Merge Sorted Array](https://leetcode.com/problems/merge-sorted-array/)\n",
    "You are given two integer arrays nums1 and nums2, sorted in non-decreasing order, and two integers m and n, representing the number of elements in nums1 and nums2 respectively.\n",
    "\n",
    "Merge nums1 and nums2 into a single array sorted in non-decreasing order.\n",
    "\n",
    "The final sorted array should not be returned by the function, but instead be stored inside the array nums1. To accommodate this, nums1 has a length of m + n, where the first m elements denote the elements that should be merged, and the last n elements are set to 0 and should be ignored. nums2 has a length of n."
   ]
  },
  {
   "cell_type": "code",
   "execution_count": 14,
   "metadata": {},
   "outputs": [
    {
     "data": {
      "text/plain": [
       "[1, 2, 2, 3, 5, 6]"
      ]
     },
     "execution_count": 14,
     "metadata": {},
     "output_type": "execute_result"
    }
   ],
   "source": [
    "def merge(nums1: List[int], m: int, nums2: List[int], n: int) -> None:\n",
    "    \"\"\"\n",
    "    Do not return anything, modify nums1 in-place instead.\n",
    "    Hint: consider merging from starting from the end of arrays\n",
    "    \"\"\"\n",
    "    i = m - 1\n",
    "    j = n - 1\n",
    "    k = n + m -1\n",
    "    while i >=0  and j >= 0:\n",
    "        if nums1[i] >= nums2[j]:\n",
    "            nums1[k] = nums1[i]\n",
    "            i -= 1\n",
    "        else:\n",
    "            nums1[k] = nums2[j]\n",
    "            j -= 1\n",
    "        k -= 1\n",
    "    if j >= 0:\n",
    "        nums1[: k+1] = nums2[: k+1]\n",
    "    return nums1\n",
    "\n",
    "merge(nums1 = [1,2,3,0,0,0], m = 3, nums2 = [2,5,6], n = 3)"
   ]
  },
  {
   "cell_type": "markdown",
   "metadata": {},
   "source": [
    "#### 15) [94. Binary Tree Inorder Traversal](https://leetcode.com/problems/binary-tree-inorder-traversal/), ([Video Soulution](https://www.youtube.com/watch?v=WZwNoTm_9d8&list=PLU_sdQYzUj2keVENTP0a5rdykRSgg9Wp-&index=9))\n",
    "\n",
    "Given the root of a binary tree, return the inorder traversal of its nodes' values."
   ]
  },
  {
   "cell_type": "code",
   "execution_count": 15,
   "metadata": {},
   "outputs": [],
   "source": [
    "# Definition for a binary tree node.\n",
    "class TreeNode:\n",
    "    def __init__(self, val=0, left=None, right=None):\n",
    "        self.val = val\n",
    "        self.left = left\n",
    "        self.right = right\n",
    "\n",
    "# Recursion\n",
    "class Solution:\n",
    "    def __init__(self):\n",
    "        self.res = []\n",
    "        \n",
    "    def inorderTraversal(self, root: TreeNode) -> List[int]:\n",
    "        self.inorderTraversal_(root) \n",
    "        return self.res\n",
    "    \n",
    "    def inorderTraversal_(self, root: TreeNode) -> List[int]:\n",
    "        if root == None:\n",
    "            return\n",
    "        self.inorderTraversal(root.left)\n",
    "        self.res.append(root.val)\n",
    "        self.inorderTraversal(root.right)\n",
    "        \n",
    "        \n",
    "# Itarative soulution\n",
    "def inorderTraversal(self, root):\n",
    "    ans = []\n",
    "    stack = []  \n",
    "    while stack or root:\n",
    "        if root:\n",
    "            stack.append(root)\n",
    "            root = root.left\n",
    "        else:\n",
    "            tmpNode = stack.pop()\n",
    "            ans.append(tmpNode.val)\n",
    "            root = tmpNode.right     \n",
    "    return ans"
   ]
  },
  {
   "cell_type": "markdown",
   "metadata": {},
   "source": [
    "#### 16) [101. Symmetric Tree](https://leetcode.com/problems/symmetric-tree/), ([Video Soulution](https://www.youtube.com/watch?v=-5E5Jt_HKLc&list=PLU_sdQYzUj2keVENTP0a5rdykRSgg9Wp-&index=16))\n",
    "\n",
    "Given the root of a binary tree, check whether it is a mirror of itself (i.e., symmetric around its center).  \n",
    "Note: A tree is symmetric if the left subtree is a mirror reflection of the right subtree."
   ]
  },
  {
   "cell_type": "code",
   "execution_count": 17,
   "metadata": {},
   "outputs": [],
   "source": [
    "# Recursive solution, time O(n) and space O(N)\n",
    "class SolutionRec:\n",
    "    def isSymmetric(self, root: TreeNode) -> bool:\n",
    "        if root == None:\n",
    "            return False\n",
    "        return self.check_two_roots(root.left, root.right)\n",
    "    \n",
    "    def check_two_roots(self, root_l, root_r):\n",
    "        if not root_l and not root_r:\n",
    "            return True\n",
    "        if (not root_l and root_r) or (not root_r and root_l) or (root_l.val != root_r.val):\n",
    "            return False\n",
    "        return self.check_two_roots(root_l.left, root_r.right) and self.check_two_roots(root_l.right, root_r.left)\n",
    "        \n",
    "     \n",
    "# Iterative solution, time O(n) and space O(N)\n",
    "class SolutionIt:\n",
    "    def isSymmetric(self, root: TreeNode) -> bool:\n",
    "        if root == None:\n",
    "            return False\n",
    "        stack_1, stack_2 = [root.left], [root.right]\n",
    "        while (stack_1 and stack_2):\n",
    "            root_1 = stack_1.pop()\n",
    "            root_2 = stack_2.pop()\n",
    "            if root_1 == None and root_2 == None:\n",
    "                continue\n",
    "            if (not root_1 and root_2) or (not root_2 and root_1) or (root_1.val != root_2.val):\n",
    "                return False\n",
    "            stack_1 += [root_1.left, root_1.right]\n",
    "            stack_2 += [root_2.right, root_2.left]\n",
    "        return True"
   ]
  },
  {
   "cell_type": "markdown",
   "metadata": {},
   "source": [
    "#### 17) [104. Maximum Depth of Binary Tree](https://leetcode.com/problems/maximum-depth-of-binary-tree/)\n",
    "\n",
    "Given the root of a binary tree, return its maximum depth.  \n",
    "A binary tree's maximum depth is the number of nodes along the longest path from the root node down to the farthest leaf node."
   ]
  },
  {
   "cell_type": "code",
   "execution_count": 19,
   "metadata": {},
   "outputs": [],
   "source": [
    "#  time O(n) and space O(N)\n",
    "class SolutionIt:\n",
    "    def maxDepth(self, root: TreeNode) -> int:\n",
    "        if root == None:\n",
    "            return 0\n",
    "        max_depth = 1\n",
    "        stack = [(root, 1)]\n",
    "        while stack:\n",
    "            node, depth = stack.pop()\n",
    "            if node.left:\n",
    "                stack.append((node.left, depth + 1))\n",
    "                max_depth = max(max_depth, depth + 1)\n",
    "            if node.right:\n",
    "                stack.append((node.right, depth + 1))\n",
    "                max_depth = max(max_depth, depth + 1)\n",
    "        return max_depth\n",
    "        \n",
    "#  time O(n) and space O(N)\n",
    "class SolutionRec:\n",
    "    def maxDepth(self, root: TreeNode, max_depth=0) -> int:\n",
    "        if not root:\n",
    "            return max_depth\n",
    "        return max(self.maxDepth(root.left, max_depth + 1), self.maxDepth(root.right, max_depth + 1))"
   ]
  },
  {
   "cell_type": "markdown",
   "metadata": {},
   "source": [
    "#### 18) [108. Convert Sorted Array to Binary Search Tree](https://leetcode.com/problems/convert-sorted-array-to-binary-search-tree/), ([Video Soulution](https://www.youtube.com/watch?v=12omz-VAyRk&list=PLU_sdQYzUj2keVENTP0a5rdykRSgg9Wp-&index=160))\n",
    "\n",
    "Given an integer array nums where the elements are sorted in ascending order, convert it to a height-balanced binary search tree.  \n",
    "A height-balanced binary tree is a binary tree in which the depth of the two subtrees of every node never differs by more than one."
   ]
  },
  {
   "cell_type": "code",
   "execution_count": 21,
   "metadata": {},
   "outputs": [],
   "source": [
    "class Solution:\n",
    "    def sortedArrayToBST(self, nums: List[int]) -> TreeNode:\n",
    "        if len(nums) == 0:\n",
    "            return None\n",
    "        mid = (len(nums) - 1) // 2 \n",
    "        root = TreeNode(nums[mid])\n",
    "        # we can use indices to avoid extra copies from slicing nums, due to python\n",
    "        root.left = self.sortedArrayToBST(nums[:mid])\n",
    "        root.right = self.sortedArrayToBST(nums[mid+1:])\n",
    "        return root"
   ]
  },
  {
   "cell_type": "markdown",
   "metadata": {},
   "source": [
    "#### 19) [118. Pascal's Triangle](https://leetcode.com/problems/pascals-triangle/), ([Video Soulution](https://www.youtube.com/watch?v=icoql2WKmbA&list=PLU_sdQYzUj2keVENTP0a5rdykRSgg9Wp-&index=2))\n",
    "\n",
    "Given an integer numRows, return the first numRows of Pascal's triangle.\n",
    "In Pascal's triangle, each number is the sum of the two numbers directly above it."
   ]
  },
  {
   "cell_type": "code",
   "execution_count": 27,
   "metadata": {},
   "outputs": [
    {
     "data": {
      "text/plain": [
       "[[1], [1, 1], [1, 2, 1], [1, 3, 3, 1], [1, 4, 6, 4, 1]]"
      ]
     },
     "execution_count": 27,
     "metadata": {},
     "output_type": "execute_result"
    }
   ],
   "source": [
    "# Both time and space are O(num_rows^2)\n",
    "# with memoization\n",
    "class Solution1:\n",
    "    def __init__(self):\n",
    "        self.tri = {1: [1], 2: [1, 1]}\n",
    "        \n",
    "    def generate(self, numRows: int) -> List[List[int]]:\n",
    "        if numRows < 1: \n",
    "            return 'Error'\n",
    "        if numRows in self.tri:\n",
    "            return [self.tri[r] for r in range(1, numRows + 1)]\n",
    "        for i in range(3, numRows +1):\n",
    "            if i in self.tri:\n",
    "                continue\n",
    "            num_elems = len(self.tri[i-1]) + 1\n",
    "            row_elems = []\n",
    "            for j in range(num_elems):\n",
    "                if j in [0, num_elems - 1]:\n",
    "                    row_elems.append(1)\n",
    "                else:\n",
    "                    row_elems.append(self.tri[i-1][j-1] + self.tri[i-1][j])\n",
    "            self.tri[i] = row_elems\n",
    "        return [self.tri[r] for r in range(1, numRows + 1)]\n",
    "    \n",
    "# more elegant solution\n",
    "class Solution2:\n",
    "    def generate(self, num_rows: int) -> List[List[int]]:\n",
    "        triangle = []\n",
    "\n",
    "        for row_num in range(num_rows):\n",
    "            # The first and last row elements are always 1.\n",
    "            row = [None for _ in range(row_num + 1)]\n",
    "            row[0], row[-1] = 1, 1\n",
    "\n",
    "            # Each triangle element is equal to the sum of the elements\n",
    "            # above-and-to-the-left and above-and-to-the-right.\n",
    "            for j in range(1, len(row) - 1):\n",
    "                row[j] = triangle[row_num - 1][j - 1] + triangle[row_num - 1][j]\n",
    "\n",
    "            triangle.append(row)\n",
    "\n",
    "        return triangle\n",
    "    \n",
    "Solution2().generate(5)"
   ]
  },
  {
   "cell_type": "markdown",
   "metadata": {},
   "source": [
    "#### 20) [121. Best Time to Buy and Sell Stock](https://leetcode.com/problems/best-time-to-buy-and-sell-stock/), ([Video Soulution](https://www.youtube.com/watch?v=3RHCb8LY-X4&list=PLU_sdQYzUj2keVENTP0a5rdykRSgg9Wp-&index=67))\n",
    "\n",
    "You are given an array prices where prices[i] is the price of a given stock on the ith day.  \n",
    "You want to maximize your profit by choosing a single day to buy one stock and choosing a different day in the future to sell that stock.  \n",
    "Return the maximum profit you can achieve from this transaction. If you cannot achieve any profit, return 0."
   ]
  },
  {
   "cell_type": "code",
   "execution_count": 28,
   "metadata": {},
   "outputs": [
    {
     "data": {
      "text/plain": [
       "5"
      ]
     },
     "execution_count": 28,
     "metadata": {},
     "output_type": "execute_result"
    }
   ],
   "source": [
    "class Solution:\n",
    "    def maxProfit(self, prices: List[int]) -> int:\n",
    "        if len(prices) < 2:\n",
    "            return 0\n",
    "        max_prof = 0\n",
    "        min_price = prices[0]\n",
    "        for i in range(1, len(prices)):\n",
    "            cur_price = prices[i]\n",
    "            cur_prof = cur_price - min_price\n",
    "            max_prof = max(max_prof, cur_prof)\n",
    "            min_price = min(min_price, cur_price)\n",
    "        return max_prof\n",
    "\n",
    "Solution().maxProfit([7,1,5,3,6,4])"
   ]
  },
  {
   "cell_type": "markdown",
   "metadata": {},
   "source": [
    "#### 21) [125. Valid Palindrome](https://leetcode.com/problems/valid-palindrome/), ([Video Soulution](https://www.youtube.com/watch?v=rYyn9Vc-dBQ&list=PLU_sdQYzUj2keVENTP0a5rdykRSgg9Wp-&index=25))\n",
    "\n",
    "Given a string s, determine if it is a palindrome, considering only alphanumeric characters and ignoring cases."
   ]
  },
  {
   "cell_type": "code",
   "execution_count": 30,
   "metadata": {},
   "outputs": [
    {
     "data": {
      "text/plain": [
       "True"
      ]
     },
     "execution_count": 30,
     "metadata": {},
     "output_type": "execute_result"
    }
   ],
   "source": [
    "class Solution:\n",
    "    def isPalindrome(self, s):\n",
    "        l, r = 0, len(s)-1\n",
    "        while l < r:\n",
    "            while l < r and not s[l].isalnum():\n",
    "                l += 1\n",
    "            while l <r and not s[r].isalnum():\n",
    "                r -= 1\n",
    "            if s[l].lower() != s[r].lower():\n",
    "                return False\n",
    "            l +=1; r -= 1\n",
    "        return True\n",
    "\n",
    "Solution().isPalindrome(\"A man, a plan, a canal: Panama\")"
   ]
  },
  {
   "cell_type": "markdown",
   "metadata": {},
   "source": [
    "#### 22) [136. Single Number](https://leetcode.com/problems/single-number/)\n",
    "\n",
    "Given a non-empty array of integers nums, every element appears twice except for one. Find that single one.  \n",
    "Input: nums = [4,1,2,1,2]\n",
    "Output: 4"
   ]
  },
  {
   "cell_type": "code",
   "execution_count": 31,
   "metadata": {},
   "outputs": [
    {
     "data": {
      "text/plain": [
       "4"
      ]
     },
     "execution_count": 31,
     "metadata": {},
     "output_type": "execute_result"
    }
   ],
   "source": [
    "class Solution:\n",
    "    # time O(n), space O(n)\n",
    "    def singleNumberDict(self, nums: List[int]) -> int:\n",
    "        d = {}\n",
    "        for i in nums:\n",
    "            if i in d:\n",
    "                d[i] +=1\n",
    "            else:\n",
    "                d[i] = 1\n",
    "        for i in d.keys():\n",
    "            if d[i] == 1:\n",
    "                return i\n",
    "            \n",
    "    # 2∗(a+b+c)−(a+a+b+b+c)=c\n",
    "    # time O(n), space O(n)\n",
    "    def singleNumberMath(self, nums):\n",
    "        return 2 * sum(set(nums)) - sum(nums)\n",
    "    \n",
    "    # time O(n), space O(1)\n",
    "    def singleNumberXOR(self, nums: List[int]) -> int:\n",
    "        res = 0\n",
    "        for i in nums:\n",
    "            res = res^i\n",
    "        return res\n",
    "\n",
    "Solution().singleNumberXOR([4,1,2,1,2])"
   ]
  },
  {
   "cell_type": "markdown",
   "metadata": {},
   "source": [
    "#### 22) [141. Linked List Cycle](https://leetcode.com/problems/linked-list-cycle/), ([Video Soulution](https://www.youtube.com/watch?v=6OrZ4wAy4uE&list=PLU_sdQYzUj2keVENTP0a5rdykRSgg9Wp-&index=23))\n",
    "\n",
    "Given head, the head of a linked list, determine if the linked list has a cycle in it."
   ]
  },
  {
   "cell_type": "code",
   "execution_count": 33,
   "metadata": {},
   "outputs": [],
   "source": [
    "class Solution:\n",
    "    # time O(n), space O(n)\n",
    "    def hasCycleMem(self, head: ListNode) -> bool:\n",
    "        mem = set([])\n",
    "        while head:\n",
    "            if head in mem:\n",
    "                return True\n",
    "            else:\n",
    "                mem.add(head)\n",
    "            head = head.next\n",
    "        return False\n",
    "    \n",
    "    # time O(n), space O(1)\n",
    "    def hasCycle(self, head):\n",
    "        slow = fast = head\n",
    "        while fast and fast.next:\n",
    "            fast = fast.next.next\n",
    "            slow = slow.next\n",
    "            if slow == fast:\n",
    "                return True\n",
    "        return False"
   ]
  },
  {
   "cell_type": "markdown",
   "metadata": {},
   "source": [
    "#### 23) [160. Intersection of Two Linked Lists](https://leetcode.com/problems/intersection-of-two-linked-lists/), ([Video Soulution](https://www.youtube.com/watch?v=IpBfg9d4dmQ&list=PLU_sdQYzUj2keVENTP0a5rdykRSgg9Wp-&index=131))\n",
    "\n",
    "Given the heads of two singly linked-lists headA and headB, return the node at which the two lists intersect. If the two linked lists have no intersection at all, return null."
   ]
  },
  {
   "cell_type": "code",
   "execution_count": 36,
   "metadata": {},
   "outputs": [],
   "source": [
    "class Solution:\n",
    "    # time O(n), space O(n)\n",
    "    def getIntersectionNodeMem(self, headA: ListNode, headB: ListNode) -> ListNode:\n",
    "        mem = []\n",
    "        while headA:\n",
    "            mem.append(headA)\n",
    "            headA = headA.next\n",
    "        mem = set(mem)\n",
    "        \n",
    "        while headB:\n",
    "            if headB in mem:\n",
    "                return headB\n",
    "            headB = headB.next\n",
    "        \n",
    "        return None\n",
    "    \n",
    "    # time O(n), space O(1)\n",
    "    def getIntersectionNode(self, headA: ListNode, headB: ListNode) -> ListNode:\n",
    "        # get length of list A, B\n",
    "        nodeA = headA\n",
    "        nA = 1\n",
    "        while nodeA.next:\n",
    "            nodeA = nodeA.next\n",
    "            nA += 1\n",
    "        nodeB = headB\n",
    "        nB = 1\n",
    "        while nodeB.next:\n",
    "            nodeB = nodeB.next\n",
    "            nB += 1    \n",
    "        # align lists pointers\n",
    "        if nA > nB:\n",
    "            for _ in range(nA-nB):\n",
    "                headA = headA.next\n",
    "        else:\n",
    "            for _ in range(nB-nA):\n",
    "                headB = headB.next\n",
    "        # iterate through lists assuming they have 'equal' length\n",
    "        while headA:\n",
    "            if headA == headB:\n",
    "                return headA\n",
    "            headA = headA.next\n",
    "            headB = headB.next\n",
    "        \n",
    "        return None\n",
    "    \n",
    "    # time O(n), space O(1), more elegant\n",
    "    def getIntersectionNode(self, headA, headB):\n",
    "        if headA is None or headB is None:\n",
    "            return None\n",
    "\n",
    "        pa = headA # 2 pointers\n",
    "        pb = headB\n",
    "\n",
    "        while pa is not pb:\n",
    "            # if either pointer hits the end, switch head and continue the second traversal, \n",
    "            # if not hit the end, just move on to next\n",
    "            pa = headB if pa is None else pa.next\n",
    "            pb = headA if pb is None else pb.next\n",
    "\n",
    "        return pa # only 2 ways to get out of the loop, they meet or the both hit the end=None\n",
    "\n",
    "        # the idea is if you switch head, the possible difference between length would be countered. \n",
    "        # On the second traversal, they either hit or miss. \n",
    "        # if they meet, pa or pb would be the node we are looking for, \n",
    "        # if they didn't meet, they will hit the end at the same iteration, pa == pb == None, return either one of them is the same,None"
   ]
  },
  {
   "cell_type": "markdown",
   "metadata": {},
   "source": [
    "#### 24) [169. Majority Element](https://leetcode.com/problems/majority-element/), ([Soulution](https://leetcode.com/problems/majority-element/solution/))\n",
    "\n",
    "Given an array nums of size n, return the majority element.  \n",
    "The majority element is the element that appears more than ⌊n / 2⌋ times. You may assume that the majority element always exists in the array."
   ]
  },
  {
   "cell_type": "code",
   "execution_count": 40,
   "metadata": {},
   "outputs": [
    {
     "data": {
      "text/plain": [
       "3"
      ]
     },
     "execution_count": 40,
     "metadata": {},
     "output_type": "execute_result"
    }
   ],
   "source": [
    "class Solution:\n",
    "    # time O(n), space O(n)\n",
    "    def majorityElementMem(self, nums: List[int]) -> int:\n",
    "        mem = {}\n",
    "        for  i in nums:\n",
    "            if i in mem:\n",
    "                mem[i] +=1\n",
    "            else:\n",
    "                mem[i] = 1\n",
    "        for j in range(0, len(nums)):\n",
    "            if mem[nums[j]] > int(len(nums)/2):\n",
    "                return nums[j]\n",
    "    \n",
    "    # Boyer-Moore Voting Algorithm\n",
    "    # time O(n), space O(1)\n",
    "    def majorityElement(self, nums: List[int]) -> int:\n",
    "        count = 0\n",
    "        candidate = None\n",
    "       \n",
    "        for num in nums:\n",
    "            if count == 0:\n",
    "                candidate = num\n",
    "            count += 1 if candidate == num else -1      \n",
    "        return candidate\n",
    "            \n",
    "Solution().majorityElement([3,2,3])   "
   ]
  },
  {
   "cell_type": "code",
   "execution_count": null,
   "metadata": {},
   "outputs": [],
   "source": [
    "#### 3) [](), ([Video Soulution]())"
   ]
  },
  {
   "cell_type": "code",
   "execution_count": null,
   "metadata": {},
   "outputs": [],
   "source": [
    "#### 3) [](), ([Video Soulution]())"
   ]
  },
  {
   "cell_type": "code",
   "execution_count": null,
   "metadata": {},
   "outputs": [],
   "source": [
    "#### 3) [](), ([Video Soulution]())"
   ]
  }
 ],
 "metadata": {
  "kernelspec": {
   "display_name": "Python 3",
   "language": "python",
   "name": "python3"
  },
  "language_info": {
   "codemirror_mode": {
    "name": "ipython",
    "version": 3
   },
   "file_extension": ".py",
   "mimetype": "text/x-python",
   "name": "python",
   "nbconvert_exporter": "python",
   "pygments_lexer": "ipython3",
   "version": "3.8.5"
  }
 },
 "nbformat": 4,
 "nbformat_minor": 4
}
