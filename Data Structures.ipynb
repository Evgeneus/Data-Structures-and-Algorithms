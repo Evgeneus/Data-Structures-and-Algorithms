{
 "cells": [
  {
   "cell_type": "markdown",
   "source": [
    "## Dynamic Array"
   ],
   "metadata": {
    "collapsed": false
   }
  },
  {
   "cell_type": "code",
   "execution_count": null,
   "outputs": [],
   "source": [
    "import ctypes\n",
    "\n",
    "\n",
    "class DynamicArray(object):\n",
    "    \n",
    "    def __init__(self):        \n",
    "        self.n  = 0\n",
    "        self.capacity = 1\n",
    "        self.A = self.make_array(self.capacity)\n",
    "        \n",
    "    def __len__(self):\n",
    "        return self.n\n",
    "    \n",
    "    def __getitem__(self, k):\n",
    "        if not 0 <= k < self.n:\n",
    "            return IndexError('K is out of bounds!')\n",
    "        return self.A[k]\n",
    "    \n",
    "    def append(self, ele):\n",
    "        if self.n == self.capacity:\n",
    "            self._resize(2*self.capacity)\n",
    "            \n",
    "        self.A[self.n] = ele\n",
    "        self.n += 1\n",
    "        \n",
    "    def _resize(self, new_cap):\n",
    "        B = self.make_array(new_cap)\n",
    "        \n",
    "        for k in range(self.n):\n",
    "            B[k] = self.A[k]\n",
    "            \n",
    "            self.A = B\n",
    "            self.capacity = new_cap\n",
    "            \n",
    "    def make_array(self, new_cap):\n",
    "        \n",
    "        return (new_cap * ctypes.py_object)()"
   ],
   "metadata": {
    "collapsed": false,
    "pycharm": {
     "name": "#%%\n"
    }
   }
  },
  {
   "cell_type": "code",
   "execution_count": null,
   "outputs": [],
   "source": [
    "arr = DynamicArray()"
   ],
   "metadata": {
    "collapsed": false,
    "pycharm": {
     "name": "#%%\n"
    }
   }
  },
  {
   "cell_type": "code",
   "execution_count": null,
   "outputs": [],
   "source": [
    "arr.append(1)"
   ],
   "metadata": {
    "collapsed": false,
    "pycharm": {
     "name": "#%%\n"
    }
   }
  },
  {
   "cell_type": "code",
   "execution_count": null,
   "outputs": [],
   "source": [
    "len(arr)"
   ],
   "metadata": {
    "collapsed": false,
    "pycharm": {
     "name": "#%%\n"
    }
   }
  },
  {
   "cell_type": "markdown",
   "source": [
    "# Singly linked List"
   ],
   "metadata": {
    "collapsed": false
   }
  },
  {
   "cell_type": "code",
   "execution_count": null,
   "outputs": [],
   "source": [
    "class Node(object):\n",
    "    def __init__(self, value):\n",
    "        self.value = value\n",
    "        self.nextnode = None"
   ],
   "metadata": {
    "collapsed": false,
    "pycharm": {
     "name": "#%%\n"
    }
   }
  },
  {
   "cell_type": "code",
   "execution_count": null,
   "outputs": [],
   "source": [
    "a = Node(1)\n",
    "b = Node(2)\n",
    "c = Node(3)\n",
    "a.nextnode = b\n",
    "b.nextnode = c"
   ],
   "metadata": {
    "collapsed": false,
    "pycharm": {
     "name": "#%%\n"
    }
   }
  },
  {
   "cell_type": "markdown",
   "source": [
    "# Doubly Linked List"
   ],
   "metadata": {
    "collapsed": false
   }
  },
  {
   "cell_type": "code",
   "execution_count": null,
   "outputs": [],
   "source": [
    "class DoublyLinkedListNode(object):\n",
    "    def __init__(self, value):\n",
    "        self.value = value\n",
    "        self.next_node = None\n",
    "        self.prev_node = None"
   ],
   "metadata": {
    "collapsed": false,
    "pycharm": {
     "name": "#%%\n"
    }
   }
  },
  {
   "cell_type": "markdown",
   "source": [
    "# Hash Table"
   ],
   "metadata": {
    "collapsed": false
   }
  },
  {
   "cell_type": "code",
   "execution_count": null,
   "outputs": [],
   "source": [
    "class HashTable:\n",
    "  def __init__(self, size = 3):\n",
    "    self.size = size\n",
    "    self.keys = [None] * size\n",
    "    self.values = [None] * size\n",
    "\n",
    "  def put(self, key, value):\n",
    "    if key == None or value == None:\n",
    "      raise VlaueError()\n",
    "    if key not in self.keys and None not in self.keys:\n",
    "        raise Exception('Size is full, need for extantion')\n",
    "    slot = self.hash(key)\n",
    "    \n",
    "    while self.keys[slot] != None and self.keys[slot] !=key:\n",
    "      slot = self.hash(slot)  \n",
    "    \n",
    "    if self.keys[slot] != key:\n",
    "      self.keys[slot] = key\n",
    "    self.values[slot] = value\n",
    "\n",
    "  def hash(self, num):\n",
    "    return (num+1) % self.size\n",
    "\n",
    "  def get(self, key):\n",
    "    slot_start = self.hash(key)\n",
    "    stop = False\n",
    "    slot = slot_start\n",
    "    while self.keys[slot] != key and not stop:\n",
    "      slot = self.hash(slot)\n",
    "      if slot == slot_start or self.keys[slot] == None:\n",
    "        stop = True\n",
    "\n",
    "    return None  if stop else self.values[slot]\n",
    "\n",
    "  def __getitem__(self, key):\n",
    "    return self.get(key)\n",
    "\n",
    "  def __setitem__(self, key, value):\n",
    "    return self.put(key, value)"
   ],
   "metadata": {
    "collapsed": false,
    "pycharm": {
     "name": "#%%\n"
    }
   }
  },
  {
   "cell_type": "code",
   "execution_count": null,
   "outputs": [],
   "source": [
    "h = HashTable(5)"
   ],
   "metadata": {
    "collapsed": false,
    "pycharm": {
     "name": "#%%\n"
    }
   }
  },
  {
   "cell_type": "code",
   "execution_count": null,
   "outputs": [],
   "source": [
    "h[1] = 'one'\n",
    "h[2] = 'two'\n",
    "h[3] = 'three'"
   ],
   "metadata": {
    "collapsed": false,
    "pycharm": {
     "name": "#%%\n"
    }
   }
  },
  {
   "cell_type": "code",
   "execution_count": null,
   "outputs": [],
   "source": [
    "h[3]"
   ],
   "metadata": {
    "collapsed": false,
    "pycharm": {
     "name": "#%%\n"
    }
   }
  },
  {
   "cell_type": "markdown",
   "source": [
    "# BINARY TREES"
   ],
   "metadata": {
    "collapsed": false
   }
  },
  {
   "cell_type": "code",
   "execution_count": null,
   "outputs": [],
   "source": [
    "class BinaryTree(object):\n",
    "    def __init__(self, root_obj):\n",
    "        self.key = root_obj\n",
    "        self.left_child = None\n",
    "        self.right_child = None\n",
    "        \n",
    "    def insert_left(self, new_node):\n",
    "        if not self.left_child:\n",
    "            self.left_child = BinaryTree(new_node)\n",
    "        else:\n",
    "            t = BinaryTree(new_node)\n",
    "            t.left_child = self.left_child\n",
    "            self.left_child = t\n",
    "    \n",
    "    def insert_right(self, new_node):\n",
    "        if not self.right_child:\n",
    "            self.right_child = BinaryTree(new_node)\n",
    "        else:\n",
    "            t = BinaryTree(new_node)\n",
    "            t.right_child = self.right_child\n",
    "            self.right_child = t\n",
    "            \n",
    "    def get_right_child(self):\n",
    "        return self.right_child\n",
    "    \n",
    "    def get_left_child(self):\n",
    "        return self.left_child\n",
    "    \n",
    "    def set_root_val(self, obj):\n",
    "        self.key = obj\n",
    "        \n",
    "    def get_root_val(self):\n",
    "        return self.key\n",
    "    \n",
    "    # def preorder(self):\n",
    "    #     print self.key\n",
    "    #     if self.left_child:\n",
    "    #         self.left_child.preorder()\n",
    "    #     if self.right_child:\n",
    "    #         self.right_child.preorder()"
   ],
   "metadata": {
    "collapsed": false,
    "pycharm": {
     "name": "#%%\n"
    }
   }
  },
  {
   "cell_type": "code",
   "execution_count": null,
   "outputs": [],
   "source": [
    "r = BinaryTree('a')\n",
    "r.get_root_val()\n",
    "r.insert_left('b')\n",
    "r.get_left_child().get_root_val()"
   ],
   "metadata": {
    "collapsed": false,
    "pycharm": {
     "name": "#%%\n"
    }
   }
  },
  {
   "cell_type": "markdown",
   "source": [
    "## Tree traversal"
   ],
   "metadata": {
    "collapsed": false
   }
  },
  {
   "cell_type": "code",
   "execution_count": null,
   "outputs": [],
   "source": [
    "def postorder(tree):\n",
    "    if tree:\n",
    "        print tree.get_root_val()\n",
    "        postorder(tree.get_left_child())\n",
    "        postorder(tree.get.right_child())\n",
    "        \n",
    "        \n",
    "def postorder(tree):\n",
    "    if tree:\n",
    "        postorder(tree.get_left_child())\n",
    "        postorder(tree.get.right_child())\n",
    "        print tree.get_root_val()\n",
    "        \n",
    "        \n",
    "def inorder(tree):\n",
    "    if tree:\n",
    "        postorder(tree.get_left_child())\n",
    "        print tree.get_root_val()\n",
    "        postorder(tree.get.right_child())"
   ],
   "metadata": {
    "collapsed": false,
    "pycharm": {
     "name": "#%%\n"
    }
   }
  },
  {
   "cell_type": "markdown",
   "source": [
    "# Priority Queues with Binary Heaps"
   ],
   "metadata": {
    "collapsed": false
   }
  },
  {
   "cell_type": "code",
   "execution_count": null,
   "outputs": [],
   "source": [
    "class BinHeap:\n",
    "    def __init__(self):\n",
    "        self.heapList = [0]\n",
    "        self.currentSize = 0\n",
    "\n",
    "\n",
    "    def percUp(self,i):\n",
    "        \n",
    "        while i // 2 > 0:\n",
    "            \n",
    "            if self.heapList[i] < self.heapList[i // 2]:\n",
    "                \n",
    "            \n",
    "                tmp = self.heapList[i // 2]\n",
    "                self.heapList[i // 2] = self.heapList[i]\n",
    "                self.heapList[i] = tmp\n",
    "            i = i // 2\n",
    "\n",
    "    def insert(self,k):\n",
    "        \n",
    "        self.heapList.append(k)\n",
    "        self.currentSize = self.currentSize + 1\n",
    "        self.percUp(self.currentSize)\n",
    "\n",
    "    def percDown(self,i):\n",
    "        \n",
    "        while (i * 2) <= self.currentSize:\n",
    "            \n",
    "            mc = self.minChild(i)\n",
    "            if self.heapList[i] > self.heapList[mc]:\n",
    "                \n",
    "                tmp = self.heapList[i]\n",
    "                self.heapList[i] = self.heapList[mc]\n",
    "                self.heapList[mc] = tmp\n",
    "            i = mc\n",
    "\n",
    "    def minChild(self,i):\n",
    "        \n",
    "        if i * 2 + 1 > self.currentSize:\n",
    "            \n",
    "            return i * 2\n",
    "        else:\n",
    "            \n",
    "            if self.heapList[i*2] < self.heapList[i*2+1]:\n",
    "                return i * 2\n",
    "            else:\n",
    "                return i * 2 + 1\n",
    "\n",
    "    def delMin(self):\n",
    "        retval = self.heapList[1]\n",
    "        self.heapList[1] = self.heapList[self.currentSize]\n",
    "        self.currentSize = self.currentSize - 1\n",
    "        self.heapList.pop()\n",
    "        self.percDown(1)\n",
    "        return retval\n",
    "\n",
    "    def buildHeap(self,alist):\n",
    "        i = len(alist) // 2\n",
    "        self.currentSize = len(alist)\n",
    "        self.heapList = [0] + alist[:]\n",
    "        while (i > 0):\n",
    "            self.percDown(i)\n",
    "            i = i - 1"
   ],
   "metadata": {
    "collapsed": false,
    "pycharm": {
     "name": "#%%\n"
    }
   }
  },
  {
   "cell_type": "markdown",
   "source": [
    "# Graph"
   ],
   "metadata": {
    "collapsed": false
   }
  },
  {
   "cell_type": "code",
   "execution_count": null,
   "outputs": [],
   "source": [
    "class Vertex(object):\n",
    "    def __init__(self, key):\n",
    "        self.id = key\n",
    "        self.connected_to = {}\n",
    "    \n",
    "    def add_neighbor(self, nbr, weight=0):\n",
    "        self.connected_to[nbr] = weight\n",
    "    \n",
    "    def get_connection(self):\n",
    "        return self.connected_to.keys()\n",
    "    \n",
    "    def get_id(self):\n",
    "        return self.id\n",
    "    \n",
    "    def get_weight(self, nbr):\n",
    "        return self.connected_to[nbr]\n",
    "    \n",
    "    def __str__(self):\n",
    "        return str(self.id) + 'connected to' \\\n",
    "               + str([x.id for x in self.connected_to])"
   ],
   "metadata": {
    "collapsed": false,
    "pycharm": {
     "name": "#%%\n"
    }
   }
  },
  {
   "cell_type": "code",
   "execution_count": null,
   "outputs": [],
   "source": [
    "class Graph(object):\n",
    "    def __init__(self):\n",
    "        self.vert_list = {}\n",
    "        self.num_vertices = 0\n",
    "        \n",
    "    def add_vertex(self, key):\n",
    "        self.num_vertices += 1\n",
    "        new_vertex = Vertex(key)\n",
    "        self.vert_list[key] = new_vertex\n",
    "        return new_vertex\n",
    "    \n",
    "    def get_vertex(self, n):\n",
    "        return self.vert_list.get(n)\n",
    "    \n",
    "    def add_edge(self, f, t, cost=0):\n",
    "        if f not in self.vert_list:\n",
    "            self.add_vertex(f)\n",
    "        if t not in self.vert_list:\n",
    "            self.add_vertex(t)\n",
    "        self.vert_list[f].add_neighbor(self.vert_list[t], cost)\n",
    "        \n",
    "    def get_vertices(self):\n",
    "        return self.vert_list.keys()\n",
    "    \n",
    "    def __iter__(self):\n",
    "        return iter(self.vert_list.values())\n",
    "    \n",
    "    def __contains__(self, n):\n",
    "        return n in self.vert_list"
   ],
   "metadata": {
    "collapsed": false,
    "pycharm": {
     "name": "#%%\n"
    }
   }
  },
  {
   "cell_type": "code",
   "execution_count": null,
   "outputs": [],
   "source": [
    "g = Graph()"
   ],
   "metadata": {
    "collapsed": false,
    "pycharm": {
     "name": "#%%\n"
    }
   }
  },
  {
   "cell_type": "code",
   "execution_count": null,
   "outputs": [],
   "source": [],
   "metadata": {
    "collapsed": false,
    "pycharm": {
     "name": "#%%\n"
    }
   }
  },
  {
   "cell_type": "markdown",
   "source": [
    "# Tree via list"
   ],
   "metadata": {
    "collapsed": false
   }
  },
  {
   "cell_type": "code",
   "execution_count": null,
   "outputs": [],
   "source": [
    "def check_arg(func):\n",
    "  def wrapped(x):\n",
    "    if x == None:\n",
    "      raise TypeError('Wrong argument')\n",
    "    return func(x)\n",
    "\n",
    "  return wrapped\n",
    "\n",
    "@check_arg\n",
    "def binary_node(val):\n",
    "  return [val, [], []]\n",
    "\n",
    "\n",
    "def insert_left(r, node):\n",
    "  t = r[1]\n",
    "  if len(t) > 0:\n",
    "    node[1] = t\n",
    "  r[1] = node\n",
    "\n",
    "  return r\n",
    "\n",
    "\n",
    "def insert_right(r, node):\n",
    "  t = r[2]\n",
    "  if len(t) > 0:\n",
    "    node[2] = t\n",
    "  r[2] = node\n",
    "\n",
    "  return r"
   ],
   "metadata": {
    "collapsed": false,
    "pycharm": {
     "name": "#%%\n"
    }
   }
  },
  {
   "cell_type": "code",
   "execution_count": null,
   "outputs": [],
   "source": [
    "r = binary_node(3)\n",
    "\n",
    "insert_left(r, binary_node(4))\n",
    "insert_left(r, binary_node(5))\n",
    "insert_right(r, binary_node(6))"
   ],
   "metadata": {
    "collapsed": false,
    "pycharm": {
     "name": "#%%\n"
    }
   }
  },
  {
   "cell_type": "markdown",
   "source": [
    "# Tree via OOP"
   ],
   "metadata": {
    "collapsed": false
   }
  },
  {
   "cell_type": "code",
   "execution_count": null,
   "outputs": [],
   "source": [
    "def check_arg(func):\n",
    "  from functools import wraps\n",
    "\n",
    "  @wraps(func)\n",
    "  def wrapped(self,x):\n",
    "    if x == None:\n",
    "      raise TypeError('Wrong argument')\n",
    "    else:\n",
    "       return func(self, x)\n",
    "\n",
    "  return wrapped\n",
    "\n",
    "\n",
    "class BinaryTree:\n",
    "\n",
    "  @check_arg\n",
    "  def __init__(self, key):\n",
    "    self.key = key\n",
    "    self.right = None\n",
    "    self.left = None\n",
    "\n",
    "  @check_arg\n",
    "  def insert_left(self, x):\n",
    "    node = BinaryTree(x)\n",
    "    if self.left != None:\n",
    "      node.left = self.left\n",
    "    self.left = node\n",
    "\n",
    "  @check_arg\n",
    "  def insert_right(self, x):\n",
    "    node = BinaryTree(x)\n",
    "    if self.right != None:\n",
    "      node.right = self.right\n",
    "    self.right = node\n",
    "\n",
    "  def get_root(self):\n",
    "    return self.key"
   ],
   "metadata": {
    "collapsed": false,
    "pycharm": {
     "name": "#%%\n"
    }
   }
  },
  {
   "cell_type": "code",
   "execution_count": null,
   "outputs": [],
   "source": [
    "r = BinaryTree('a')"
   ],
   "metadata": {
    "collapsed": false,
    "pycharm": {
     "name": "#%%\n"
    }
   }
  },
  {
   "cell_type": "code",
   "execution_count": null,
   "outputs": [],
   "source": [
    "r.insert_left('b')"
   ],
   "metadata": {
    "collapsed": false,
    "pycharm": {
     "name": "#%%\n"
    }
   }
  },
  {
   "cell_type": "code",
   "execution_count": null,
   "outputs": [],
   "source": [
    "r.insert_left('c')"
   ],
   "metadata": {
    "collapsed": false,
    "pycharm": {
     "name": "#%%\n"
    }
   }
  },
  {
   "cell_type": "code",
   "execution_count": null,
   "outputs": [],
   "source": [
    "r.left.left.key"
   ],
   "metadata": {
    "collapsed": false,
    "pycharm": {
     "name": "#%%\n"
    }
   }
  },
  {
   "cell_type": "markdown",
   "source": [
    "# Memoization"
   ],
   "metadata": {
    "collapsed": false
   }
  },
  {
   "cell_type": "code",
   "execution_count": null,
   "outputs": [],
   "source": [
    "def check_positive_int(func):\n",
    "    def decorated(x):\n",
    "        if type(x) == int and x >= 0:\n",
    "            return func(x)\n",
    "        else:\n",
    "            raise Exception(\"Wrong argument...\")\n",
    "\n",
    "    return decorated"
   ],
   "metadata": {
    "collapsed": false,
    "pycharm": {
     "name": "#%%\n"
    }
   }
  },
  {
   "cell_type": "code",
   "execution_count": null,
   "outputs": [],
   "source": [
    "def memoize(func):\n",
    "  memo = {}\n",
    "\n",
    "  def decorated(x):\n",
    "    # check x\n",
    "    if memo.get(x):\n",
    "      return memo.get(x)\n",
    "    else:\n",
    "      memo[x] = func(x)\n",
    "      return memo.get(x)\n",
    "\n",
    "  return decorated\n",
    "\n",
    "@memoize\n",
    "@check_positive_int\n",
    "def fib1(x):\n",
    "  # check if x is positive int\n",
    "  if x == 0:\n",
    "    return 0\n",
    "  if x == 1:\n",
    "    return 1\n",
    "  return fib1(x-1) + fib1(x-2)"
   ],
   "metadata": {
    "collapsed": false,
    "pycharm": {
     "name": "#%%\n"
    }
   }
  },
  {
   "cell_type": "code",
   "execution_count": null,
   "outputs": [],
   "source": [
    "fib1(3)"
   ],
   "metadata": {
    "collapsed": false,
    "pycharm": {
     "name": "#%%\n"
    }
   }
  },
  {
   "cell_type": "code",
   "execution_count": null,
   "outputs": [],
   "source": [
    "class Memoize:\n",
    "\n",
    "    def __init__(self, func):\n",
    "        self.func = func\n",
    "        self.memo = {}\n",
    "\n",
    "    def __call__(self, x):\n",
    "        if self.memo.get(x):\n",
    "          return self.memo.get(x)\n",
    "        else:\n",
    "          self.memo[x] = self.func(x)\n",
    "          return self.memo.get(x)\n",
    "\n",
    "\n",
    "@Memoize\n",
    "@check_positive_int\n",
    "def fib2(x):\n",
    "  # check if x is positive int\n",
    "  if x == 0:\n",
    "    return 0\n",
    "  if x == 1:\n",
    "    return 1\n",
    "  return fib2(x-1) + fib2(x-2)"
   ],
   "metadata": {
    "collapsed": false,
    "pycharm": {
     "name": "#%%\n"
    }
   }
  },
  {
   "cell_type": "code",
   "execution_count": null,
   "outputs": [],
   "source": [
    "fib2(4)"
   ],
   "metadata": {
    "collapsed": false,
    "pycharm": {
     "name": "#%%\n"
    }
   }
  },
  {
   "cell_type": "markdown",
   "source": [
    "# Binary Search Tree"
   ],
   "metadata": {
    "collapsed": false
   }
  },
  {
   "cell_type": "code",
   "execution_count": null,
   "outputs": [],
   "source": [
    "class Node:\n",
    "  # @check_args\n",
    "  def __init__(self, key, val, parent=None, left=None, right=None):\n",
    "    self.key = key\n",
    "    self.val = val\n",
    "    self.left = left\n",
    "    self.right = right\n",
    "    self.parent = parent\n",
    "\n",
    "  def get_left(self):\n",
    "    return self.left\n",
    "\n",
    "  def get_right(self):\n",
    "      return self.right"
   ],
   "metadata": {
    "collapsed": false,
    "pycharm": {
     "name": "#%%\n"
    }
   }
  },
  {
   "cell_type": "code",
   "execution_count": null,
   "outputs": [],
   "source": [
    "class BST:\n",
    "\n",
    "  def __init__(self):\n",
    "    self.root = None\n",
    "    self.size = 0\n",
    "\n",
    "  def put(self, key, val):\n",
    "    if self.root == None:\n",
    "      self.set_root(key, val)\n",
    "    else:\n",
    "      self._put(self.root, key, val)\n",
    "    self.size += 1\n",
    "\n",
    "  # @check_args\n",
    "  def set_root(self, key, val):\n",
    "    self.root = Node(key, val)\n",
    "\n",
    "  # @check_args\n",
    "  def _put(self, root, key, val):\n",
    "    if root.key <= key:\n",
    "      if root.right == None:\n",
    "        root.right = Node(key, val, root)\n",
    "      else:\n",
    "        self._put(root.right, key, val)\n",
    "\n",
    "    else:\n",
    "      if root.left == None:\n",
    "        root.left = Node(key, val, root)\n",
    "      else:\n",
    "        self._put(root.left, key, val)\n",
    "\n",
    "  # check_arg\n",
    "  def search(self, key):\n",
    "    if self.root == None:\n",
    "      return None\n",
    "    if self.root.key == key:\n",
    "      return self.root.val\n",
    "    return self._search(self.root, key)\n",
    "\n",
    "  def _search(self, root, key):\n",
    "    if root == None:\n",
    "      return None\n",
    "    if root.key == key:\n",
    "      return root\n",
    "\n",
    "    if root.key <= key:\n",
    "      return self._search(root.right, key)\n",
    "    else:\n",
    "      return self._search(root.left, key)"
   ],
   "metadata": {
    "collapsed": false,
    "pycharm": {
     "name": "#%%\n"
    }
   }
  },
  {
   "cell_type": "code",
   "execution_count": null,
   "outputs": [],
   "source": [
    "\n",
    "def bst_check(tree):\n",
    "    tree_vals = []\n",
    "    def in_order(tree=tree):\n",
    "        if tree != None:\n",
    "            in_order(tree.get_left())\n",
    "            tree_vals.append(tree.key)\n",
    "            in_order(tree.get_right())\n",
    "\n",
    "    if tree_vals == sorted(tree_vals):\n",
    "        return True\n",
    "    else:\n",
    "        return False"
   ],
   "metadata": {
    "collapsed": false,
    "pycharm": {
     "name": "#%%\n"
    }
   }
  },
  {
   "cell_type": "code",
   "execution_count": null,
   "outputs": [],
   "source": [
    "b = BST()\n",
    "b.put(0,0)\n",
    "b.put(2,3)\n",
    "b.put(4,0)\n",
    "b.put(1,3)\n",
    "b.put(3,0)\n",
    "\n",
    "# check if BST\n",
    "print(bst_check(b.root))"
   ],
   "metadata": {
    "collapsed": false,
    "pycharm": {
     "name": "#%%\n"
    }
   }
  },
  {
   "cell_type": "code",
   "execution_count": null,
   "outputs": [],
   "source": [
    "# search val for key=3\n",
    "b.search(1).key"
   ],
   "metadata": {
    "collapsed": false,
    "pycharm": {
     "name": "#%%\n"
    }
   }
  },
  {
   "cell_type": "markdown",
   "source": [
    "# Print BST leves"
   ],
   "metadata": {
    "collapsed": false
   }
  },
  {
   "cell_type": "code",
   "execution_count": null,
   "outputs": [],
   "source": [
    "def get_height(root):\n",
    "  if root == None:\n",
    "    return 0\n",
    "  else:\n",
    "    return 1 + max(get_height(root.left), get_height(root.right))\n",
    "\n",
    "def get_level(node):\n",
    "  if node == None:\n",
    "    return 0\n",
    "  else:\n",
    "    return 1 + get_level(node.parent)\n",
    "\n",
    "def print_tree(node):\n",
    "  if type(node) != Node:\n",
    "    raise TypeError()\n",
    "\n",
    "  to_print = [[] for _ in range(get_height(node))]\n",
    "  def unroll(node=node):\n",
    "    if node == None:\n",
    "      return\n",
    "    level_index = get_level(node) - 1\n",
    "    to_print[level_index].append(node.key)\n",
    "    unroll(node.left)\n",
    "    unroll(node.right)\n",
    "  unroll()\n",
    "\n",
    "  return to_print"
   ],
   "metadata": {
    "collapsed": false,
    "pycharm": {
     "name": "#%%\n"
    }
   }
  },
  {
   "cell_type": "code",
   "execution_count": null,
   "outputs": [],
   "source": [
    "get_level(b.root.right)"
   ],
   "metadata": {
    "collapsed": false,
    "pycharm": {
     "name": "#%%\n"
    }
   }
  },
  {
   "cell_type": "code",
   "execution_count": null,
   "outputs": [],
   "source": [
    "for i in print_tree(b.root):\n",
    "    print(i)"
   ],
   "metadata": {
    "collapsed": false,
    "pycharm": {
     "name": "#%%\n"
    }
   }
  },
  {
   "cell_type": "markdown",
   "source": [
    "## Print BST leves v2"
   ],
   "metadata": {
    "collapsed": false
   }
  },
  {
   "cell_type": "code",
   "execution_count": null,
   "outputs": [],
   "source": [
    "def print_level_order(tree):\n",
    "  if not tree:\n",
    "    return\n",
    "  nodes = [tree]\n",
    "  current_n = 1\n",
    "  new_n = 0\n",
    "  while current_n != 0:\n",
    "    tree = nodes.pop(0)\n",
    "    current_n -= 1\n",
    "    print(tree.key, end=' ')\n",
    "\n",
    "    if tree.left:\n",
    "      nodes.append(tree.left)\n",
    "      new_n += 1\n",
    "\n",
    "    if tree.right:\n",
    "      nodes.append(tree.right)\n",
    "      new_n += 1\n",
    "\n",
    "    if current_n == 0:\n",
    "      print('\\n')\n",
    "      current_n = new_n\n",
    "      new_n = 0"
   ],
   "metadata": {
    "collapsed": false,
    "pycharm": {
     "name": "#%%\n"
    }
   }
  },
  {
   "cell_type": "code",
   "execution_count": null,
   "outputs": [],
   "source": [
    "print_level_order(b.root)"
   ],
   "metadata": {
    "collapsed": false,
    "pycharm": {
     "name": "#%%\n"
    }
   }
  },
  {
   "cell_type": "markdown",
   "source": [
    "# Trim BST"
   ],
   "metadata": {
    "collapsed": false
   }
  },
  {
   "cell_type": "code",
   "execution_count": null,
   "outputs": [],
   "source": [
    "# @check_params\n",
    "def trim_tree(tree, min, max):\n",
    "    if tree == None:\n",
    "        return tree\n",
    "\n",
    "    if tree.key < min:\n",
    "        return trim_tree(tree.right, min, max)\n",
    "    elif tree.key > max:\n",
    "        return trim_tree(tree.left, min, max)\n",
    "    else:\n",
    "        tree.left = trim_tree(tree.left, min, max)\n",
    "        tree.right = trim_tree(tree.right, min, max)\n",
    "        return tree"
   ],
   "metadata": {
    "collapsed": false,
    "pycharm": {
     "name": "#%%\n"
    }
   }
  },
  {
   "cell_type": "code",
   "execution_count": null,
   "outputs": [],
   "source": [
    "b = BST()\n",
    "b.put(0,0)\n",
    "b.put(2,3)\n",
    "b.put(4,0)\n",
    "b.put(1,3)\n",
    "b.put(3,0)\n",
    "\n",
    "print_level_order(b.root)\n",
    "trim_tree(b.root, 0, 3)\n",
    "print('trimmed:')\n",
    "print_level_order(b.root)"
   ],
   "metadata": {
    "collapsed": false,
    "pycharm": {
     "name": "#%%\n"
    }
   }
  },
  {
   "cell_type": "markdown",
   "source": [
    "# Binary Heap"
   ],
   "metadata": {
    "collapsed": false
   }
  },
  {
   "cell_type": "code",
   "execution_count": null,
   "outputs": [],
   "source": [
    "\n",
    "classclass  BinHeapBinHeap:\n",
    "    def __init__(self):\n",
    "        self.heapList = [0]\n",
    "        self.currentSize = 0\n",
    "\n",
    "\n",
    "    def percUp(self,i):\n",
    "\n",
    "        while i // 2 > 0:\n",
    "\n",
    "            if self.heapList[i] < self.heapList[i // 2]:\n",
    "\n",
    "\n",
    "                tmp = self.heapList[i // 2]\n",
    "                self.heapList[i // 2] = self.heapList[i]\n",
    "                self.heapList[i] = tmp\n",
    "            i = i // 2\n",
    "\n",
    "    def insert(self,k):\n",
    "\n",
    "        self.heapList.append(k)\n",
    "        self.currentSize = self.currentSize + 1\n",
    "        self.percUp(self.currentSize)\n",
    "\n",
    "    def percDown(self,i):\n",
    "\n",
    "        while (i * 2) <= self.currentSize:\n",
    "\n",
    "            mc = self.minChild(i)\n",
    "            if self.heapList[i] > self.heapList[mc]:\n",
    "\n",
    "                tmp = self.heapList[i]\n",
    "                self.heapList[i] = self.heapList[mc]\n",
    "                self.heapList[mc] = tmp\n",
    "            i = mc\n",
    "\n",
    "    def minChild(self,i):\n",
    "\n",
    "        if i * 2 + 1 > self.currentSize:\n",
    "\n",
    "            return i * 2\n",
    "        else:\n",
    "\n",
    "            if self.heapList[i*2] < self.heapList[i*2+1]:\n",
    "                return i * 2\n",
    "            else:\n",
    "                return i * 2 + 1\n",
    "\n",
    "    def delMin(self):\n",
    "        retval = self.heapList[1]\n",
    "        self.heapList[1] = self.heapList[self.currentSize]\n",
    "        self.currentSize = self.currentSize - 1\n",
    "        self.heapList.pop()\n",
    "        self.percDown(1)\n",
    "        return retval\n",
    "\n",
    "    def buildHeap(self,alist):\n",
    "        i = len(alist) // 2\n",
    "        self.currentSize = len(alist)\n",
    "        self.heapList = [0] + alist[:]\n",
    "        while (i > 0):\n",
    "            self.percDown(i)\n",
    "            i = i - 1"
   ],
   "metadata": {
    "collapsed": false,
    "pycharm": {
     "name": "#%%\n"
    }
   }
  },
  {
   "cell_type": "markdown",
   "source": [
    "# Breadth-First Search"
   ],
   "metadata": {
    "collapsed": false
   }
  },
  {
   "cell_type": "code",
   "execution_count": null,
   "outputs": [],
   "source": [
    "from collections import deque\n",
    "\n",
    "def bfs(g, n, s):\n",
    "  if n == s:\n",
    "    return True\n",
    "\n",
    "  visited, queue = set(), deque( g[n])\n",
    "  while queue:\n",
    "    vertex = queue.popleft()\n",
    "    if vertex not in visited:\n",
    "      visited.add(vertex)\n",
    "      if vertex == s:\n",
    "        return True\n",
    "      if g.get(vertex):\n",
    "        queue.extend(g.get(vertex))\n",
    "\n",
    "  return False"
   ],
   "metadata": {
    "collapsed": false,
    "pycharm": {
     "name": "#%%\n"
    }
   }
  },
  {
   "cell_type": "code",
   "execution_count": null,
   "outputs": [],
   "source": [
    "graph = {'A': ['B', 'C', 'E'],\n",
    "         'B': ['A','D', 'E'],\n",
    "         'C': ['A', 'F', 'G'],\n",
    "         'D': ['B'],\n",
    "         'E': ['A', 'B','D'],\n",
    "         'F': ['C'],\n",
    "         'G': ['C']}\n",
    "\n",
    "\n",
    "print(bfs(graph, 'A', 'G'))"
   ],
   "metadata": {
    "collapsed": false,
    "pycharm": {
     "name": "#%%\n"
    }
   }
  },
  {
   "cell_type": "markdown",
   "source": [
    "# Deapth-First Search"
   ],
   "metadata": {
    "collapsed": false
   }
  },
  {
   "cell_type": "code",
   "execution_count": null,
   "outputs": [],
   "source": [
    "def dfs_traverse_rec(g, node, visited=[]):\n",
    "  if node not in visited:\n",
    "    visited.append(node)\n",
    "    if g.get(node):\n",
    "      for v in g.get(node):\n",
    "        dfs(g, v, visited)\n",
    "\n",
    "  return visited"
   ],
   "metadata": {
    "collapsed": false,
    "pycharm": {
     "name": "#%%\n"
    }
   }
  },
  {
   "cell_type": "code",
   "execution_count": null,
   "outputs": [],
   "source": [
    "from collections import deque\n",
    "\n",
    "def dfs_traverse(g, start):\n",
    "  path, queue = [], deque([start])\n",
    "  while queue:\n",
    "    node = queue.popleft()\n",
    "    if node not in path:\n",
    "      path.append(node)\n",
    "      if g.get(node):\n",
    "        queue.extendleft(reversed(g.get(node)))  # reverse only for visualisation\n",
    "\n",
    "  return path"
   ],
   "metadata": {
    "collapsed": false,
    "pycharm": {
     "name": "#%%\n"
    }
   }
  },
  {
   "cell_type": "code",
   "execution_count": null,
   "outputs": [],
   "source": [
    "graph = {'A': ['B', 'C', 'E'],\n",
    "         'B': ['A','D', 'E'],\n",
    "         'C': ['A', 'F', 'G'],\n",
    "         'D': ['B'],\n",
    "         'E': ['A', 'B','D'],\n",
    "         'F': ['C'],\n",
    "         'G': ['C']}\n",
    "\n",
    "visited = dfs_traverse(graph,'A')\n",
    "print(visited)"
   ],
   "metadata": {
    "collapsed": false,
    "pycharm": {
     "name": "#%%\n"
    }
   }
  },
  {
   "cell_type": "code",
   "execution_count": null,
   "outputs": [],
   "source": [],
   "metadata": {
    "collapsed": false,
    "pycharm": {
     "name": "#%%\n"
    }
   }
  },
  {
   "cell_type": "code",
   "execution_count": null,
   "outputs": [],
   "source": [],
   "metadata": {
    "collapsed": false,
    "pycharm": {
     "name": "#%%\n"
    }
   }
  }
 ],
 "metadata": {
  "kernelspec": {
   "display_name": "Python 3",
   "language": "python",
   "name": "python3"
  },
  "language_info": {
   "codemirror_mode": {
    "name": "ipython",
    "version": 3
   },
   "file_extension": ".py",
   "mimetype": "text/x-python",
   "name": "python",
   "nbconvert_exporter": "python",
   "pygments_lexer": "ipython3",
   "version": "3.8.5"
  }
 },
 "nbformat": 4,
 "nbformat_minor": 1
}