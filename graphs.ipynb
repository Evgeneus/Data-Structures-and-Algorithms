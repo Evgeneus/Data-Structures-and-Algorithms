{
 "cells": [
  {
   "cell_type": "markdown",
   "metadata": {},
   "source": [
    " # Graph Basic Algorithms"
   ]
  },
  {
   "cell_type": "markdown",
   "metadata": {},
   "source": [
    "Grpah representations:\n",
    "\n",
    "- Adjacency Matrix\n",
    "- Adjacency List "
   ]
  },
  {
   "cell_type": "markdown",
   "metadata": {},
   "source": [
    "1. [Nice and simple Implementation of a Graph as an Adjacency List]( https://github.com/jmportilla/Python-for-Algorithms--Data-Structures--and-Interviews/blob/master/Graphs/Implementation%20of%20Adjacency%20List.ipynb)\n",
    "2. [Comparison between Adjacency List and Adjacency Matrix representation of Graph (Space and Tiime)](https://www.geeksforgeeks.org/comparison-between-adjacency-list-and-adjacency-matrix-representation-of-graph/)"
   ]
  },
  {
   "cell_type": "markdown",
   "metadata": {},
   "source": [
    "### Breadth First Search (BFS)"
   ]
  },
  {
   "cell_type": "markdown",
   "metadata": {},
   "source": [
    "Breadth-first search (BFS) is an algorithm for traversing or searching tree or graph data structures. It starts at the tree root (or some arbitrary node of a graph, sometimes referred to as a 'search key'), and explores all of the neighbor nodes at the present depth prior to moving on to the nodes at the next depth level.\n",
    "\n",
    "<b>The time complexity is O(|V|+|E|)</b>, since every vertex and every edge will be explored in the worst case. Note that O(|E|) may vary between O(1) and O(|V|^2), depending on how sparse the input graph is.\n",
    "\n",
    "<b>Space complexity is O(|V|)</b> as in the worst case we need to store all the nodes in the queue (e.g., a chain of nodes).\n",
    "\n",
    "<b>Applications:</b>\n",
    "- Copying garbage collection, Cheney's algorithm\n",
    "- Finding the shortest path between two nodes u and v, with path length measured by number of edges (an advantage over depth-first search)\n",
    "- (Reverse) Cuthill–McKee mesh numbering\n",
    "- Ford–Fulkerson method for computing the maximum flow in a flow network\n",
    "- Serialization/Deserialization of a binary tree vs serialization in sorted order, allows the tree to be re-constructed in an efficient manner.\n",
    "- Construction of the failure function of the Aho-Corasick pattern matcher.\n",
    "- Testing bipartiteness of a graph.\n",
    "- Implementing parallel algorithms for computing a graph's transitive closure. "
   ]
  },
  {
   "cell_type": "code",
   "execution_count": 17,
   "metadata": {},
   "outputs": [],
   "source": [
    "graph = {'A': ['B', 'C'],\n",
    "         'B': ['A', 'D', 'E'],\n",
    "         'C': ['A', 'F'],\n",
    "         'D': ['B'],\n",
    "         'E': ['B', 'F'],\n",
    "         'F': ['C', 'E']}"
   ]
  },
  {
   "cell_type": "code",
   "execution_count": 14,
   "metadata": {},
   "outputs": [
    {
     "name": "stdout",
     "output_type": "stream",
     "text": [
      "A B C D E F "
     ]
    }
   ],
   "source": [
    "def bfs(g, s):\n",
    "    # print bfs traversal\n",
    "    # g is graph, s is start node\n",
    "    queue = [s]\n",
    "    visited = set([])\n",
    "    while queue:\n",
    "        u = queue.pop(0)\n",
    "        if u in visited:\n",
    "            continue\n",
    "        else:\n",
    "            visited.add(u)\n",
    "        print(u, end=' ')\n",
    "        queue += g[u]\n",
    "\n",
    "bfs(graph, 'A')"
   ]
  },
  {
   "cell_type": "markdown",
   "metadata": {},
   "source": [
    "### Depth Dirst Search (DFS)"
   ]
  },
  {
   "cell_type": "markdown",
   "metadata": {},
   "source": [
    "DFS is an algorithm for traversing or searching tree or graph data structures. The algorithm starts at the root node (selecting some arbitrary node as the root node in the case of a graph) and explores as far as possible along each branch before backtracking.\n",
    "\n",
    "<b>The time complexity is O(|V|+|E|)</b>, and <b>Space complexity is O(|V|)</b>.\n",
    "\n",
    "<b>Applications</b>:\n",
    "- Finding connected components.\n",
    "- Topological sorting.\n",
    "- Finding 2-(edge or vertex)-connected components.\n",
    "- Finding 3-(edge or vertex)-connected components.\n",
    "- Finding the bridges of a graph.\n",
    "- Generating words in order to plot the limit set of a group.\n",
    "- Finding strongly connected components.\n",
    "- Determining whether a species is closer to one species or another in a phylogenetic tree.\n",
    "- Planarity testing.[9][10]\n",
    "- Solving puzzles with only one solution, such as mazes. (DFS can be adapted to find all solutions to a maze by only including nodes on the current path in the visited set.)\n",
    "- Maze generation may use a randomized depth-first search.\n",
    "- Finding biconnectivity in graphs."
   ]
  },
  {
   "cell_type": "code",
   "execution_count": 18,
   "metadata": {},
   "outputs": [
    {
     "name": "stdout",
     "output_type": "stream",
     "text": [
      "A C F E B D "
     ]
    }
   ],
   "source": [
    "def dfs(g, s):\n",
    "    stack = [s]\n",
    "    visited = set([])\n",
    "    while stack:\n",
    "        u = stack.pop()\n",
    "        if u in visited:\n",
    "            continue\n",
    "        else:\n",
    "            visited.add(u)\n",
    "        stack += g[u]\n",
    "        print(u, end=' ')\n",
    "        \n",
    "dfs(graph, 'A')"
   ]
  },
  {
   "cell_type": "markdown",
   "metadata": {},
   "source": [
    "###  Dijkstras Algorithm"
   ]
  },
  {
   "cell_type": "markdown",
   "metadata": {},
   "source": [
    "Dijkstra’s algorithm has four steps:\n",
    "1. Find the \"cheapest\" node. This is the node you can get to in the least amount of time.\n",
    "2. Check if there’s a cheaper path to the neighbors of this node. If so, update their costs.\n",
    "3. Repeat until you have done this for every done in the graph.\n",
    "4. Calculate the final path.\n",
    "\n",
    "This is the key idea behind Dijkstra’s algorithm: *Look at the cheapest\n",
    "node on your graph. There is no cheaper way to get to this node! Because you already selected the cheapest one!*\n",
    "\n",
    "[Grokking Algorithms: Dijkstras Algorithm](https://freecontent.manning.com/wp-content/uploads/grokking-algorithms-dijkstras-algorithm.pdf)\n",
    "[Video implementing Dijkstra](https://www.youtube.com/watch?v=IG1QioWSXRI)\n",
    "\n",
    "\n",
    "Dijkstra's algorithm uses a data structure for storing and querying partial solutions sorted by distance from the start. While the original algorithm uses a min-priority queue and runs in time  O((|V|+|E|)\\log |V|)where |V| is the number of nodes and |E| is the number of edges), it can also be implemented in *O(|V|^2) using an array - the code below*. "
   ]
  },
  {
   "cell_type": "code",
   "execution_count": 18,
   "metadata": {},
   "outputs": [
    {
     "name": "stdout",
     "output_type": "stream",
     "text": [
      "Shortest distance is 7.0\n",
      "And the path is ['a', 'c', 'b']\n"
     ]
    }
   ],
   "source": [
    "graph = {'a':{'b':10,'c':3},'b':{'c':1,'d':2},'c':{'b':4,'d':8,'e':2},'d':{'e':7},'e':{'d':9}}\n",
    "\n",
    "def dijkstra(graph, start, end):\n",
    "\tunseen_nodes = set(graph.keys())\n",
    "\t# make empty parents data structure\n",
    "\tparents = {}\n",
    "\tfor node in unseen_nodes:\n",
    "\t\tparents[node] = None\n",
    "\tparents[start] = start\n",
    "\t# define shorest paths dict\n",
    "\tshortest_paths = {}\n",
    "\tfor node in unseen_nodes:\n",
    "\t\tshortest_paths[node] = float('inf') \n",
    "\tshortest_paths[start] = 0.\n",
    "\n",
    "\t# while we have unseen nodes\n",
    "\twhile unseen_nodes:\n",
    "\t\t# find the closest unvisited node\n",
    "\t\t# check if it is the first iter\n",
    "\t\t# then choose node as closest node for current iter\n",
    "\t\tclosest_node = None  # means we take the first unvisited node\n",
    "\t\tfor node in unseen_nodes: #  as set does not support indexing\n",
    "\t\t\tif closest_node == None:\n",
    "\t\t\t\tclosest_node = node\n",
    "\t\t\telif shortest_paths[node] < shortest_paths[closest_node]:\n",
    "\t\t\t\tclosest_node = node\n",
    "\n",
    "\t\t# iterate over neighbours of the closest node\n",
    "\t\tfor neigb in graph[closest_node]:\n",
    "\t\t\t# check shortest paths\n",
    "\t\t\tif shortest_paths[neigb] > shortest_paths[closest_node] + graph[closest_node][neigb]:\n",
    "\t\t\t\tshortest_paths[neigb] = shortest_paths[closest_node] + graph[closest_node][neigb]\n",
    "\t\t\t\tparents[neigb] = closest_node\n",
    "\t\t# mark closest node as visited, i e remove from unseen_nodes\n",
    "\t\t# this works even if we have isolated nodes\n",
    "\t\tunseen_nodes.remove(closest_node)\n",
    "\n",
    "\treturn shortest_paths, parents, shortest_paths[end]\n",
    "\n",
    "def get_shortest_path(parents, start, end):\n",
    "    # we can also create a check if path is not reachable\n",
    "\tpath_reversed = []\n",
    "\tnode = end\n",
    "\twhile node != start:\n",
    "\t\tpath_reversed.append(node)\n",
    "\t\tnode = parents[node]\n",
    "\tpath_reversed.append(node)\n",
    "\treturn path_reversed[::-1]\n",
    "\n",
    "\n",
    "shortest_paths, parents, dist_shorterst_end =  dijkstra(graph, 'a', 'b')\n",
    "print('Shortest distance is ' + str(dist_shorterst_end))\n",
    "print('And the path is ' + str(get_shortest_path(parents, 'a', 'b')))"
   ]
  },
  {
   "cell_type": "code",
   "execution_count": null,
   "metadata": {},
   "outputs": [],
   "source": []
  }
 ],
 "metadata": {
  "kernelspec": {
   "display_name": "Python 3",
   "language": "python",
   "name": "python3"
  },
  "language_info": {
   "codemirror_mode": {
    "name": "ipython",
    "version": 3
   },
   "file_extension": ".py",
   "mimetype": "text/x-python",
   "name": "python",
   "nbconvert_exporter": "python",
   "pygments_lexer": "ipython3",
   "version": "3.8.5"
  }
 },
 "nbformat": 4,
 "nbformat_minor": 4
}
