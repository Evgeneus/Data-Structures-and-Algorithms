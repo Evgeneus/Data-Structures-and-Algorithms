{
 "cells": [
  {
   "cell_type": "markdown",
   "metadata": {},
   "source": [
    "# Tree via list"
   ]
  },
  {
   "cell_type": "code",
   "execution_count": 117,
   "metadata": {},
   "outputs": [],
   "source": [
    "def check_arg(func):\n",
    "  def wrapped(x):\n",
    "    if x == None:\n",
    "      raise TypeError('Wrong argument')\n",
    "    return func(x)\n",
    "    \n",
    "  return wrapped\n",
    "  \n",
    "@check_arg \n",
    "def binary_node(val):\n",
    "  return [val, [], []]\n",
    "  \n",
    "  \n",
    "def insert_left(r, node):\n",
    "  t = r[1]\n",
    "  if len(t) > 0:\n",
    "    node[1] = t\n",
    "  r[1] = node\n",
    "  \n",
    "  return r\n",
    "\n",
    "\n",
    "def insert_right(r, node):\n",
    "  t = r[2]\n",
    "  if len(t) > 0:\n",
    "    node[2] = t\n",
    "  r[2] = node\n",
    "  \n",
    "  return r"
   ]
  },
  {
   "cell_type": "code",
   "execution_count": 118,
   "metadata": {},
   "outputs": [
    {
     "data": {
      "text/plain": [
       "[3, [5, [4, [], []], []], [6, [], []]]"
      ]
     },
     "execution_count": 118,
     "metadata": {},
     "output_type": "execute_result"
    }
   ],
   "source": [
    "r = binary_node(3)\n",
    "\n",
    "insert_left(r, binary_node(4))\n",
    "insert_left(r, binary_node(5))\n",
    "insert_right(r, binary_node(6))"
   ]
  },
  {
   "cell_type": "markdown",
   "metadata": {},
   "source": [
    "# Tree via OOP"
   ]
  },
  {
   "cell_type": "code",
   "execution_count": 119,
   "metadata": {},
   "outputs": [],
   "source": [
    "def check_arg(func):\n",
    "  from functools import wraps\n",
    "  \n",
    "  @wraps(func)\n",
    "  def wrapped(self,x):\n",
    "    if x == None:\n",
    "      raise TypeError('Wrong argument')\n",
    "    else:\n",
    "       return func(self, x)\n",
    "  \n",
    "  return wrapped\n",
    "\n",
    "\n",
    "class BinaryTree:\n",
    "\n",
    "  @check_arg\n",
    "  def __init__(self, key):\n",
    "    self.key = key\n",
    "    self.right = None\n",
    "    self.left = None\n",
    "   \n",
    "  @check_arg\n",
    "  def insert_left(self, x):\n",
    "    node = BinaryTree(x)\n",
    "    if self.left != None:\n",
    "      node.left = self.left\n",
    "    self.left = node\n",
    "    \n",
    "  @check_arg\n",
    "  def insert_right(self, x):\n",
    "    node = BinaryTree(x)\n",
    "    if self.right != None:\n",
    "      node.right = self.right\n",
    "    self.right = node\n",
    "    \n",
    "  def get_root(self):\n",
    "    return self.key"
   ]
  },
  {
   "cell_type": "code",
   "execution_count": 120,
   "metadata": {},
   "outputs": [],
   "source": [
    "r = BinaryTree('a')"
   ]
  },
  {
   "cell_type": "code",
   "execution_count": 121,
   "metadata": {},
   "outputs": [],
   "source": [
    "r.insert_left('b')"
   ]
  },
  {
   "cell_type": "code",
   "execution_count": 122,
   "metadata": {},
   "outputs": [],
   "source": [
    "r.insert_left('c')"
   ]
  },
  {
   "cell_type": "code",
   "execution_count": 123,
   "metadata": {},
   "outputs": [
    {
     "data": {
      "text/plain": [
       "'b'"
      ]
     },
     "execution_count": 123,
     "metadata": {},
     "output_type": "execute_result"
    }
   ],
   "source": [
    "r.left.left.key"
   ]
  },
  {
   "cell_type": "markdown",
   "metadata": {},
   "source": [
    "# Memoization"
   ]
  },
  {
   "cell_type": "code",
   "execution_count": 124,
   "metadata": {},
   "outputs": [],
   "source": [
    "def check_positive_int(func):\n",
    "    def decorated(x):\n",
    "        if type(x) == int and x >= 0:\n",
    "            return func(x)\n",
    "        else:\n",
    "            raise Exception(\"Wrong argument...\")\n",
    "    \n",
    "    return decorated"
   ]
  },
  {
   "cell_type": "code",
   "execution_count": 125,
   "metadata": {},
   "outputs": [],
   "source": [
    "def memoize(func):\n",
    "  memo = {}\n",
    "\n",
    "  def decorated(x):\n",
    "    # check x\n",
    "    if memo.get(x):\n",
    "      return memo.get(x)\n",
    "    else:\n",
    "      memo[x] = func(x)\n",
    "      return memo.get(x)\n",
    "    \n",
    "  return decorated\n",
    "\n",
    "@memoize\n",
    "@check_positive_int\n",
    "def fib1(x):\n",
    "  # check if x is positive int\n",
    "  if x == 0:\n",
    "    return 0\n",
    "  if x == 1:\n",
    "    return 1\n",
    "  return fib1(x-1) + fib1(x-2)"
   ]
  },
  {
   "cell_type": "code",
   "execution_count": 126,
   "metadata": {},
   "outputs": [
    {
     "data": {
      "text/plain": [
       "2"
      ]
     },
     "execution_count": 126,
     "metadata": {},
     "output_type": "execute_result"
    }
   ],
   "source": [
    "fib1(3)"
   ]
  },
  {
   "cell_type": "code",
   "execution_count": 127,
   "metadata": {},
   "outputs": [],
   "source": [
    "class Memoize:\n",
    "    \n",
    "    def __init__(self, func):\n",
    "        self.func = func\n",
    "        self.memo = {}\n",
    "    \n",
    "    def __call__(self, x):\n",
    "        if self.memo.get(x):\n",
    "          return self.memo.get(x)\n",
    "        else:\n",
    "          self.memo[x] = self.func(x)\n",
    "          return self.memo.get(x)\n",
    "\n",
    "        \n",
    "@Memoize\n",
    "@check_positive_int\n",
    "def fib2(x):\n",
    "  # check if x is positive int\n",
    "  if x == 0:\n",
    "    return 0\n",
    "  if x == 1:\n",
    "    return 1\n",
    "  return fib2(x-1) + fib2(x-2)"
   ]
  },
  {
   "cell_type": "code",
   "execution_count": 128,
   "metadata": {},
   "outputs": [
    {
     "data": {
      "text/plain": [
       "3"
      ]
     },
     "execution_count": 128,
     "metadata": {},
     "output_type": "execute_result"
    }
   ],
   "source": [
    "fib2(4)"
   ]
  },
  {
   "cell_type": "markdown",
   "metadata": {},
   "source": [
    "# Binary Search Tree"
   ]
  },
  {
   "cell_type": "code",
   "execution_count": 109,
   "metadata": {},
   "outputs": [],
   "source": [
    "class Node:\n",
    "  # @check_args\n",
    "  def __init__(self, key, val, parent=None, left=None, right=None):\n",
    "    self.key = key\n",
    "    self.val = val\n",
    "    self.left = left\n",
    "    self.right = right\n",
    "    self.parent = parent\n",
    "    \n",
    "  def get_left(self):\n",
    "    return self.left\n",
    "  \n",
    "  def get_right(self):\n",
    "      return self.right"
   ]
  },
  {
   "cell_type": "code",
   "execution_count": 110,
   "metadata": {},
   "outputs": [],
   "source": [
    "class BST:\n",
    "\n",
    "  def __init__(self):\n",
    "    self.root = None\n",
    "    self.size = 0\n",
    "\n",
    "  def put(self, key, val):\n",
    "    if self.root == None:\n",
    "      self.set_root(key, val)\n",
    "    else:\n",
    "      self._put(self.root, key, val)\n",
    "    self.size += 1\n",
    "\n",
    "  # @check_args\n",
    "  def set_root(self, key, val):\n",
    "    self.root = Node(key, val)\n",
    "\n",
    "  # @check_args\n",
    "  def _put(self, root, key,val):\n",
    "    if root.key <= key:\n",
    "      if root.right == None:\n",
    "        root.right = Node(key, val)\n",
    "      else:\n",
    "        self._put(root.right, key, val)\n",
    "\n",
    "    else:\n",
    "      if root.left == None:\n",
    "        root.left = Node(key, val)\n",
    "      else:\n",
    "        self._put(root.left, key, val)"
   ]
  },
  {
   "cell_type": "code",
   "execution_count": 135,
   "metadata": {},
   "outputs": [],
   "source": [
    "  \n",
    "def bst_check(tree):\n",
    "    tree_vals = []\n",
    "    def in_order(tree=tree):\n",
    "        if tree != None:\n",
    "            in_order(tree.get_left())\n",
    "            tree_vals.append(tree.key)\n",
    "            in_order(tree.get_right()) \n",
    "    \n",
    "    if tree_vals == sorted(tree_vals):\n",
    "        return True\n",
    "    else:\n",
    "        return False"
   ]
  },
  {
   "cell_type": "code",
   "execution_count": null,
   "metadata": {},
   "outputs": [],
   "source": [
    "b = BinarySearchTree()\n",
    "b.put(0,0)\n",
    "b.put(2,3)\n",
    "b.put(4,0)\n",
    "b.put(1,3)\n",
    "b.put(3,0)\n",
    "\n",
    "print(bst_check(b.root))"
   ]
  },
  {
   "cell_type": "code",
   "execution_count": 139,
   "metadata": {},
   "outputs": [],
   "source": [
    ""
   ]
  },
  {
   "cell_type": "code",
   "execution_count": null,
   "metadata": {},
   "outputs": [],
   "source": []
  }
 ],
 "metadata": {
  "kernelspec": {
   "display_name": "Python 3",
   "language": "python",
   "name": "python3"
  },
  "language_info": {
   "codemirror_mode": {
    "name": "ipython",
    "version": 3
   },
   "file_extension": ".py",
   "mimetype": "text/x-python",
   "name": "python",
   "nbconvert_exporter": "python",
   "pygments_lexer": "ipython3",
   "version": "3.6.4"
  }
 },
 "nbformat": 4,
 "nbformat_minor": 2
}
