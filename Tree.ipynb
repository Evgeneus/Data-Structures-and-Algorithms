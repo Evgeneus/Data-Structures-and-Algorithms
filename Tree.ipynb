{
 "cells": [
  {
   "cell_type": "markdown",
   "metadata": {},
   "source": [
    "# Tree via list"
   ]
  },
  {
   "cell_type": "code",
   "execution_count": 117,
   "metadata": {},
   "outputs": [],
   "source": [
    "def check_arg(func):\n",
    "  def wrapped(x):\n",
    "    if x == None:\n",
    "      raise TypeError('Wrong argument')\n",
    "    return func(x)\n",
    "    \n",
    "  return wrapped\n",
    "  \n",
    "@check_arg \n",
    "def binary_node(val):\n",
    "  return [val, [], []]\n",
    "  \n",
    "  \n",
    "def insert_left(r, node):\n",
    "  t = r[1]\n",
    "  if len(t) > 0:\n",
    "    node[1] = t\n",
    "  r[1] = node\n",
    "  \n",
    "  return r\n",
    "\n",
    "\n",
    "def insert_right(r, node):\n",
    "  t = r[2]\n",
    "  if len(t) > 0:\n",
    "    node[2] = t\n",
    "  r[2] = node\n",
    "  \n",
    "  return r"
   ]
  },
  {
   "cell_type": "code",
   "execution_count": 118,
   "metadata": {},
   "outputs": [
    {
     "data": {
      "text/plain": [
       "[3, [5, [4, [], []], []], [6, [], []]]"
      ]
     },
     "execution_count": 118,
     "metadata": {},
     "output_type": "execute_result"
    }
   ],
   "source": [
    "r = binary_node(3)\n",
    "\n",
    "insert_left(r, binary_node(4))\n",
    "insert_left(r, binary_node(5))\n",
    "insert_right(r, binary_node(6))"
   ]
  },
  {
   "cell_type": "markdown",
   "metadata": {},
   "source": [
    "# Tree via OOP"
   ]
  },
  {
   "cell_type": "code",
   "execution_count": 119,
   "metadata": {},
   "outputs": [],
   "source": [
    "def check_arg(func):\n",
    "  from functools import wraps\n",
    "  \n",
    "  @wraps(func)\n",
    "  def wrapped(self,x):\n",
    "    if x == None:\n",
    "      raise TypeError('Wrong argument')\n",
    "    else:\n",
    "       return func(self, x)\n",
    "  \n",
    "  return wrapped\n",
    "\n",
    "\n",
    "class BinaryTree:\n",
    "\n",
    "  @check_arg\n",
    "  def __init__(self, key):\n",
    "    self.key = key\n",
    "    self.right = None\n",
    "    self.left = None\n",
    "   \n",
    "  @check_arg\n",
    "  def insert_left(self, x):\n",
    "    node = BinaryTree(x)\n",
    "    if self.left != None:\n",
    "      node.left = self.left\n",
    "    self.left = node\n",
    "    \n",
    "  @check_arg\n",
    "  def insert_right(self, x):\n",
    "    node = BinaryTree(x)\n",
    "    if self.right != None:\n",
    "      node.right = self.right\n",
    "    self.right = node\n",
    "    \n",
    "  def get_root(self):\n",
    "    return self.key"
   ]
  },
  {
   "cell_type": "code",
   "execution_count": 120,
   "metadata": {},
   "outputs": [],
   "source": [
    "r = BinaryTree('a')"
   ]
  },
  {
   "cell_type": "code",
   "execution_count": 121,
   "metadata": {},
   "outputs": [],
   "source": [
    "r.insert_left('b')"
   ]
  },
  {
   "cell_type": "code",
   "execution_count": 122,
   "metadata": {},
   "outputs": [],
   "source": [
    "r.insert_left('c')"
   ]
  },
  {
   "cell_type": "code",
   "execution_count": 123,
   "metadata": {},
   "outputs": [
    {
     "data": {
      "text/plain": [
       "'b'"
      ]
     },
     "execution_count": 123,
     "metadata": {},
     "output_type": "execute_result"
    }
   ],
   "source": [
    "r.left.left.key"
   ]
  },
  {
   "cell_type": "markdown",
   "metadata": {},
   "source": [
    "# Memoization"
   ]
  },
  {
   "cell_type": "code",
   "execution_count": 124,
   "metadata": {},
   "outputs": [],
   "source": [
    "def check_positive_int(func):\n",
    "    def decorated(x):\n",
    "        if type(x) == int and x >= 0:\n",
    "            return func(x)\n",
    "        else:\n",
    "            raise Exception(\"Wrong argument...\")\n",
    "    \n",
    "    return decorated"
   ]
  },
  {
   "cell_type": "code",
   "execution_count": 125,
   "metadata": {},
   "outputs": [],
   "source": [
    "def memoize(func):\n",
    "  memo = {}\n",
    "\n",
    "  def decorated(x):\n",
    "    # check x\n",
    "    if memo.get(x):\n",
    "      return memo.get(x)\n",
    "    else:\n",
    "      memo[x] = func(x)\n",
    "      return memo.get(x)\n",
    "    \n",
    "  return decorated\n",
    "\n",
    "@memoize\n",
    "@check_positive_int\n",
    "def fib1(x):\n",
    "  # check if x is positive int\n",
    "  if x == 0:\n",
    "    return 0\n",
    "  if x == 1:\n",
    "    return 1\n",
    "  return fib1(x-1) + fib1(x-2)"
   ]
  },
  {
   "cell_type": "code",
   "execution_count": 126,
   "metadata": {},
   "outputs": [
    {
     "data": {
      "text/plain": [
       "2"
      ]
     },
     "execution_count": 126,
     "metadata": {},
     "output_type": "execute_result"
    }
   ],
   "source": [
    "fib1(3)"
   ]
  },
  {
   "cell_type": "code",
   "execution_count": 127,
   "metadata": {},
   "outputs": [],
   "source": [
    "class Memoize:\n",
    "    \n",
    "    def __init__(self, func):\n",
    "        self.func = func\n",
    "        self.memo = {}\n",
    "    \n",
    "    def __call__(self, x):\n",
    "        if self.memo.get(x):\n",
    "          return self.memo.get(x)\n",
    "        else:\n",
    "          self.memo[x] = self.func(x)\n",
    "          return self.memo.get(x)\n",
    "\n",
    "        \n",
    "@Memoize\n",
    "@check_positive_int\n",
    "def fib2(x):\n",
    "  # check if x is positive int\n",
    "  if x == 0:\n",
    "    return 0\n",
    "  if x == 1:\n",
    "    return 1\n",
    "  return fib2(x-1) + fib2(x-2)"
   ]
  },
  {
   "cell_type": "code",
   "execution_count": 128,
   "metadata": {},
   "outputs": [
    {
     "data": {
      "text/plain": [
       "3"
      ]
     },
     "execution_count": 128,
     "metadata": {},
     "output_type": "execute_result"
    }
   ],
   "source": [
    "fib2(4)"
   ]
  },
  {
   "cell_type": "markdown",
   "metadata": {},
   "source": [
    "# Binary Search Tree"
   ]
  },
  {
   "cell_type": "code",
   "execution_count": 160,
   "metadata": {},
   "outputs": [],
   "source": [
    "class Node:\n",
    "  # @check_args\n",
    "  def __init__(self, key, val, parent=None, left=None, right=None):\n",
    "    self.key = key\n",
    "    self.val = val\n",
    "    self.left = left\n",
    "    self.right = right\n",
    "    self.parent = parent\n",
    "    \n",
    "  def get_left(self):\n",
    "    return self.left\n",
    "  \n",
    "  def get_right(self):\n",
    "      return self.right"
   ]
  },
  {
   "cell_type": "code",
   "execution_count": 184,
   "metadata": {},
   "outputs": [],
   "source": [
    "class BST:\n",
    "\n",
    "  def __init__(self):\n",
    "    self.root = None\n",
    "    self.size = 0\n",
    "\n",
    "  def put(self, key, val):\n",
    "    if self.root == None:\n",
    "      self.set_root(key, val)\n",
    "    else:\n",
    "      self._put(self.root, key, val)\n",
    "    self.size += 1\n",
    "\n",
    "  # @check_args\n",
    "  def set_root(self, key, val):\n",
    "    self.root = Node(key, val)\n",
    "\n",
    "  # @check_args\n",
    "  def _put(self, root, key, val):\n",
    "    if root.key <= key:\n",
    "      if root.right == None:\n",
    "        root.right = Node(key, val, root)\n",
    "      else:\n",
    "        self._put(root.right, key, val)\n",
    "\n",
    "    else:\n",
    "      if root.left == None:\n",
    "        root.left = Node(key, val, root)\n",
    "      else:\n",
    "        self._put(root.left, key, val)\n",
    "        \n",
    "  # check_arg\n",
    "  def search(self, key):\n",
    "    if self.root == None:\n",
    "      return None\n",
    "    if self.root.key == key:\n",
    "      return self.root.val\n",
    "    return self._search(self.root, key)\n",
    "      \n",
    "  def _search(self, root, key):\n",
    "    if root == None:\n",
    "      return None\n",
    "    if root.key == key:\n",
    "      return root\n",
    "    \n",
    "    if root.key <= key:\n",
    "      return self._search(root.right, key)\n",
    "    else:\n",
    "      return self._search(root.left, key)"
   ]
  },
  {
   "cell_type": "code",
   "execution_count": 185,
   "metadata": {},
   "outputs": [],
   "source": [
    "  \n",
    "def bst_check(tree):\n",
    "    tree_vals = []\n",
    "    def in_order(tree=tree):\n",
    "        if tree != None:\n",
    "            in_order(tree.get_left())\n",
    "            tree_vals.append(tree.key)\n",
    "            in_order(tree.get_right()) \n",
    "    \n",
    "    if tree_vals == sorted(tree_vals):\n",
    "        return True\n",
    "    else:\n",
    "        return False"
   ]
  },
  {
   "cell_type": "code",
   "execution_count": 186,
   "metadata": {},
   "outputs": [
    {
     "name": "stdout",
     "output_type": "stream",
     "text": [
      "True\n"
     ]
    }
   ],
   "source": [
    "b = BST()\n",
    "b.put(0,0)\n",
    "b.put(2,3)\n",
    "b.put(4,0)\n",
    "b.put(1,3)\n",
    "b.put(3,0)\n",
    "\n",
    "# check if BST\n",
    "print(bst_check(b.root))"
   ]
  },
  {
   "cell_type": "code",
   "execution_count": 187,
   "metadata": {},
   "outputs": [
    {
     "data": {
      "text/plain": [
       "1"
      ]
     },
     "execution_count": 187,
     "metadata": {},
     "output_type": "execute_result"
    }
   ],
   "source": [
    "# search val for key=3\n",
    "b.search(1).key"
   ]
  },
  {
   "cell_type": "markdown",
   "metadata": {},
   "source": [
    "# Print BST leves"
   ]
  },
  {
   "cell_type": "code",
   "execution_count": 214,
   "metadata": {},
   "outputs": [],
   "source": [
    "def get_height(root):\n",
    "  if root == None:\n",
    "    return 0\n",
    "  else:\n",
    "    return 1 + max(get_height(root.left), get_height(root.right))\n",
    "\n",
    "def get_level(node):\n",
    "  if node == None:\n",
    "    return 0\n",
    "  else:\n",
    "    return 1 + get_level(node.parent)\n",
    "     \n",
    "def print_tree(node):\n",
    "  if type(node) != Node:\n",
    "    raise TypeError()\n",
    "  \n",
    "  to_print = [[] for _ in range(get_height(node))] \n",
    "  def unroll(node=node):\n",
    "    if node == None:\n",
    "      return\n",
    "    level_index = get_level(node) - 1\n",
    "    to_print[level_index].append(node.key)\n",
    "    unroll(node.left)\n",
    "    unroll(node.right)\n",
    "  unroll()\n",
    "  \n",
    "  return to_print"
   ]
  },
  {
   "cell_type": "code",
   "execution_count": 215,
   "metadata": {},
   "outputs": [
    {
     "data": {
      "text/plain": [
       "2"
      ]
     },
     "execution_count": 215,
     "metadata": {},
     "output_type": "execute_result"
    }
   ],
   "source": [
    "get_level(b.root.right)"
   ]
  },
  {
   "cell_type": "code",
   "execution_count": 217,
   "metadata": {},
   "outputs": [
    {
     "name": "stdout",
     "output_type": "stream",
     "text": [
      "[0]\n",
      "[2]\n",
      "[1, 4]\n",
      "[3]\n"
     ]
    }
   ],
   "source": [
    "for i in print_tree(b.root):\n",
    "    print(i)"
   ]
  },
  {
   "cell_type": "markdown",
   "metadata": {},
   "source": [
    "## Print BST leves v2"
   ]
  },
  {
   "cell_type": "code",
   "execution_count": 226,
   "metadata": {},
   "outputs": [],
   "source": [
    "def print_level_order(tree):\n",
    "  if not tree:\n",
    "    return\n",
    "  nodes = [tree]\n",
    "  current_n = 1\n",
    "  new_n = 0\n",
    "  while current_n != 0:\n",
    "    tree = nodes.pop(0)\n",
    "    current_n -= 1\n",
    "    print(tree.key, end=' ')\n",
    "    \n",
    "    if tree.left:\n",
    "      nodes.append(tree.left)\n",
    "      new_n += 1\n",
    "      \n",
    "    if tree.right:\n",
    "      nodes.append(tree.right)\n",
    "      new_n += 1\n",
    "      \n",
    "    if current_n == 0:\n",
    "      print('\\n')\n",
    "      current_n = new_n\n",
    "      new_n = 0"
   ]
  },
  {
   "cell_type": "code",
   "execution_count": 227,
   "metadata": {},
   "outputs": [
    {
     "name": "stdout",
     "output_type": "stream",
     "text": [
      "0 \n",
      "\n",
      "2 \n",
      "\n",
      "1 4 \n",
      "\n",
      "3 \n",
      "\n"
     ]
    }
   ],
   "source": [
    "print_level_order(b.root)"
   ]
  },
  {
   "cell_type": "markdown",
   "metadata": {},
   "source": [
    "# Trim BST"
   ]
  },
  {
   "cell_type": "code",
   "execution_count": 279,
   "metadata": {},
   "outputs": [],
   "source": [
    "# @check_params    \n",
    "def trim_tree(tree, min, max):\n",
    "    if tree == None:\n",
    "        return tree\n",
    "\n",
    "    if tree.key < min:\n",
    "        return trim_tree(tree.right, min, max)\n",
    "    elif tree.key > max:\n",
    "        return trim_tree(tree.left, min, max)\n",
    "    else:\n",
    "        tree.left = trim_tree(tree.left, min, max)\n",
    "        tree.right = trim_tree(tree.right, min, max)\n",
    "        return tree"
   ]
  },
  {
   "cell_type": "code",
   "execution_count": 299,
   "metadata": {},
   "outputs": [
    {
     "name": "stdout",
     "output_type": "stream",
     "text": [
      "0 \n",
      "\n",
      "2 \n",
      "\n",
      "1 4 \n",
      "\n",
      "3 \n",
      "\n",
      "trimmed:\n",
      "0 \n",
      "\n",
      "2 \n",
      "\n",
      "1 3 \n",
      "\n"
     ]
    }
   ],
   "source": [
    "b = BST()\n",
    "b.put(0,0)\n",
    "b.put(2,3)\n",
    "b.put(4,0)\n",
    "b.put(1,3)\n",
    "b.put(3,0)\n",
    "\n",
    "print_level_order(b.root)\n",
    "trim_tree(b.root, 0, 3)\n",
    "print('trimmed:')\n",
    "print_level_order(b.root)"
   ]
  },
  {
   "cell_type": "markdown",
   "metadata": {},
   "source": [
    "# Binary Heap"
   ]
  },
  {
   "cell_type": "code",
   "execution_count": null,
   "metadata": {},
   "outputs": [],
   "source": [
    "\n",
    "classclass  BinHeapBinHeap:\n",
    "    def __init__(self):\n",
    "        self.heapList = [0]\n",
    "        self.currentSize = 0\n",
    "\n",
    "\n",
    "    def percUp(self,i):\n",
    "        \n",
    "        while i // 2 > 0:\n",
    "            \n",
    "            if self.heapList[i] < self.heapList[i // 2]:\n",
    "                \n",
    "            \n",
    "                tmp = self.heapList[i // 2]\n",
    "                self.heapList[i // 2] = self.heapList[i]\n",
    "                self.heapList[i] = tmp\n",
    "            i = i // 2\n",
    "\n",
    "    def insert(self,k):\n",
    "        \n",
    "        self.heapList.append(k)\n",
    "        self.currentSize = self.currentSize + 1\n",
    "        self.percUp(self.currentSize)\n",
    "\n",
    "    def percDown(self,i):\n",
    "        \n",
    "        while (i * 2) <= self.currentSize:\n",
    "            \n",
    "            mc = self.minChild(i)\n",
    "            if self.heapList[i] > self.heapList[mc]:\n",
    "                \n",
    "                tmp = self.heapList[i]\n",
    "                self.heapList[i] = self.heapList[mc]\n",
    "                self.heapList[mc] = tmp\n",
    "            i = mc\n",
    "\n",
    "    def minChild(self,i):\n",
    "        \n",
    "        if i * 2 + 1 > self.currentSize:\n",
    "            \n",
    "            return i * 2\n",
    "        else:\n",
    "            \n",
    "            if self.heapList[i*2] < self.heapList[i*2+1]:\n",
    "                return i * 2\n",
    "            else:\n",
    "                return i * 2 + 1\n",
    "\n",
    "    def delMin(self):\n",
    "        retval = self.heapList[1]\n",
    "        self.heapList[1] = self.heapList[self.currentSize]\n",
    "        self.currentSize = self.currentSize - 1\n",
    "        self.heapList.pop()\n",
    "        self.percDown(1)\n",
    "        return retval\n",
    "\n",
    "    def buildHeap(self,alist):\n",
    "        i = len(alist) // 2\n",
    "        self.currentSize = len(alist)\n",
    "        self.heapList = [0] + alist[:]\n",
    "        while (i > 0):\n",
    "            self.percDown(i)\n",
    "            i = i - 1"
   ]
  },
  {
   "cell_type": "markdown",
   "metadata": {},
   "source": [
    "# Breadth-First Search"
   ]
  },
  {
   "cell_type": "code",
   "execution_count": 2,
   "metadata": {},
   "outputs": [],
   "source": [
    "from collections import deque\n",
    "\n",
    "def bfs(g, n, s):\n",
    "  if n == s:\n",
    "    return True\n",
    "  \n",
    "  visited, queue = set(), deque( g[n])\n",
    "  while queue:\n",
    "    vertex = queue.popleft()\n",
    "    if vertex not in visited:\n",
    "      visited.add(vertex)\n",
    "      if vertex == s:\n",
    "        return True\n",
    "      if g.get(vertex):\n",
    "        queue.extend(g.get(vertex))\n",
    "\n",
    "  return False"
   ]
  },
  {
   "cell_type": "code",
   "execution_count": 4,
   "metadata": {},
   "outputs": [
    {
     "name": "stdout",
     "output_type": "stream",
     "text": [
      "True\n"
     ]
    }
   ],
   "source": [
    "graph = {'A': ['B', 'C', 'E'],\n",
    "         'B': ['A','D', 'E'],\n",
    "         'C': ['A', 'F', 'G'],\n",
    "         'D': ['B'],\n",
    "         'E': ['A', 'B','D'],\n",
    "         'F': ['C'],\n",
    "         'G': ['C']}\n",
    "\n",
    "\n",
    "print(bfs(graph, 'A', 'G'))"
   ]
  },
  {
   "cell_type": "code",
   "execution_count": null,
   "metadata": {},
   "outputs": [],
   "source": []
  },
  {
   "cell_type": "code",
   "execution_count": null,
   "metadata": {},
   "outputs": [],
   "source": []
  }
 ],
 "metadata": {
  "kernelspec": {
   "display_name": "Python 3",
   "language": "python",
   "name": "python3"
  },
  "language_info": {
   "codemirror_mode": {
    "name": "ipython",
    "version": 3
   },
   "file_extension": ".py",
   "mimetype": "text/x-python",
   "name": "python",
   "nbconvert_exporter": "python",
   "pygments_lexer": "ipython3",
   "version": "3.6.5"
  }
 },
 "nbformat": 4,
 "nbformat_minor": 2
}
