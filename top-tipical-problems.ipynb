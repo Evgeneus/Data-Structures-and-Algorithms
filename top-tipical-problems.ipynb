{
 "cells": [
  {
   "cell_type": "markdown",
   "metadata": {},
   "source": [
    "# top-tipical-problems"
   ]
  },
  {
   "cell_type": "markdown",
   "metadata": {},
   "source": [
    "## 1. 3Sum (Leetcod.com)"
   ]
  },
  {
   "cell_type": "raw",
   "metadata": {},
   "source": [
    "\n",
    "Given an array nums of n integers, are there elements a, b, c in nums such that a + b + c = 0? Find all unique triplets in the array which gives the sum of zero.\n",
    "\n",
    "Note:\n",
    "\n",
    "The solution set must not contain duplicate triplets.\n",
    "\n",
    "Example:\n",
    "\n",
    "Given array nums = [-1, 0, 1, 2, -1, -4],\n",
    "\n",
    "A solution set is:\n",
    "[\n",
    "  [-1, 0, 1],\n",
    "  [-1, -1, 2]\n",
    "]\n",
    "\n",
    "T=O(N^2)"
   ]
  },
  {
   "cell_type": "code",
   "execution_count": 1,
   "metadata": {},
   "outputs": [
    {
     "name": "stdout",
     "output_type": "stream",
     "text": [
      "[[-1, -1, 2], [-1, 0, 1]]\n"
     ]
    }
   ],
   "source": [
    "class Solution:\n",
    "    def threeSum(self, nums):\n",
    "        \"\"\"\n",
    "        :type nums: List[int]\n",
    "        :rtype: List[List[int]]\n",
    "        \"\"\"\n",
    "        res = []\n",
    "        N = len(nums)\n",
    "        if N < 3:\n",
    "          return []\n",
    "        nums.sort()\n",
    "        for i_ind, i in enumerate(nums):\n",
    "          if i_ind > 0 and i == nums[i_ind-1]:\n",
    "              continue\n",
    "          target = -i\n",
    "          l_ind, r_ind = i_ind + 1, N - 1\n",
    "          while l_ind < r_ind:\n",
    "            if nums[l_ind] + nums[r_ind] == target:\n",
    "              res.append([i, nums[l_ind], nums[r_ind]])\n",
    "              l_ind += 1\n",
    "              while l_ind < r_ind and nums[l_ind] == nums[l_ind-1]:\n",
    "                l_ind += 1\n",
    "            elif nums[l_ind] + nums[r_ind] > target:\n",
    "              r_ind -= 1\n",
    "            elif nums[l_ind] + nums[r_ind] < target:\n",
    "              l_ind += 1\n",
    "        return res\n",
    "              \n",
    "          \n",
    "print(Solution().threeSum([-1, 0, 1, 2, -1, -4]))"
   ]
  },
  {
   "cell_type": "markdown",
   "metadata": {
    "collapsed": true
   },
   "source": [
    "## 2. Palindrome Number (leetcode.com 9)"
   ]
  },
  {
   "cell_type": "raw",
   "metadata": {},
   "source": [
    "Determine whether an integer is a palindrome. An integer is a palindrome when it reads the same backward as forward.\n",
    "\n",
    "Example 1:\n",
    "\n",
    "Input: 121\n",
    "Output: true\n",
    "Example 2:\n",
    "\n",
    "Input: -121\n",
    "Output: false\n",
    "Explanation: From left to right, it reads -121. From right to left, it becomes 121-. Therefore it is not a palindrome."
   ]
  },
  {
   "cell_type": "code",
   "execution_count": 2,
   "metadata": {},
   "outputs": [
    {
     "name": "stdout",
     "output_type": "stream",
     "text": [
      "True\n"
     ]
    }
   ],
   "source": [
    "class Solution:\n",
    "    def isPalindrome(self, x):\n",
    "        \"\"\"\n",
    "        :type x: int\n",
    "        :rtype: bool\n",
    "        \"\"\"\n",
    "        # // Special cases:\n",
    "        # // As discussed above, when x < 0, x is not a palindrome.\n",
    "        # // Also if the last digit of the number is 0, in order to be a palindrome,\n",
    "        # // the first digit of the number also needs to be 0.\n",
    "        # // Only 0 satisfy this property.\n",
    "        # check args\n",
    "        # // When the length is an odd number, we can get rid of the middle digit by revertedNumber/10\n",
    "        # // For example when the input is 12321, at the end of the while loop we get x = 12, revertedNumber = 123,\n",
    "        # // since the middle digit doesn't matter in palidrome(it will always equal to itself), we can simply get rid of it.\n",
    "        if (x < 0) or (x % 10 == 0 and x != 0):\n",
    "          return False\n",
    "        \n",
    "        num = 0\n",
    "        while num < x:\n",
    "          num = num * 10 + x % 10\n",
    "          x = x // 10\n",
    "        \n",
    "        return (x == num) or (x == num // 10)\n",
    "    \n",
    "# Complexity Analysis:\n",
    "# Time complexity : O(\\log_{10}(n))O(log 10(n)). We divided the input by 10 for every iteration, so the time complexity is O(\\log_{10}(n))O(log 10(n))\n",
    "# Space complexity : O(1)O(1).\n",
    "\n",
    "print(Solution().isPalindrome(1234554321))"
   ]
  },
  {
   "cell_type": "markdown",
   "metadata": {},
   "source": [
    "### 3. Valid Palindrome (leetcode.come 125)"
   ]
  },
  {
   "cell_type": "raw",
   "metadata": {},
   "source": [
    "Given a string, determine if it is a palindrome, considering only alphanumeric characters and ignoring cases.\n",
    "\n",
    "Note: For the purpose of this problem, we define empty string as valid palindrome.\n",
    "\n",
    "Example 1:\n",
    "\n",
    "Input: \"A man, a plan, a canal: Panama\"\n",
    "Output: true\n",
    "\n",
    "T = O(N), S= O(1)\n",
    "\n",
    "// ASK if String could contain special characters and integers.!!!"
   ]
  },
  {
   "cell_type": "code",
   "execution_count": 4,
   "metadata": {
    "collapsed": true
   },
   "outputs": [],
   "source": [
    "class Solution:\n",
    "    def isPalindrome(self, s):\n",
    "        \"\"\"\n",
    "        :type s: str\n",
    "        :rtype: bool\n",
    "        \"\"\"\n",
    "        s = s.lower()\n",
    "        size = len(s)\n",
    "        if size <= 1:\n",
    "          return True\n",
    "        l_ind, r_ind = 0, size - 1\n",
    "        while l_ind < r_ind:\n",
    "          while l_ind < r_ind and not s[r_ind].isalnum():\n",
    "            r_ind -= 1\n",
    "          while l_ind < r_ind and not s[l_ind].isalnum():\n",
    "            l_ind += 1\n",
    "            \n",
    "          if s[l_ind] == s[r_ind]:\n",
    "            l_ind += 1\n",
    "            r_ind -= 1\n",
    "          else:\n",
    "            return False\n",
    "        return True"
   ]
  },
  {
   "cell_type": "markdown",
   "metadata": {},
   "source": [
    "### 4. Valid Palindrome II (leetcode.com 680)"
   ]
  },
  {
   "cell_type": "raw",
   "metadata": {},
   "source": [
    "Given a non-empty string s, you may delete at most one character. Judge whether you can make it a palindrome.\n",
    "\n",
    "Example 1:\n",
    "Input: \"aba\"\n",
    "Output: True\n",
    "Example 2:\n",
    "Input: \"abca\"\n",
    "Output: True\n",
    "Explanation: You could delete the character 'c'.\n",
    "Note:\n",
    "The string will only contain lowercase characters a-z. The maximum length of the string is 50000."
   ]
  },
  {
   "cell_type": "raw",
   "metadata": {},
   "source": [
    "Soilution:\n",
    "ASK if String could contain special characters and integers.!!!\n",
    "Just maintain 2 pointers i.e for start and end of string\n",
    "Keep checking if they are same\n",
    "\n",
    "If they are Same - then just check inside and keep going till you reach the center(left==right)(if odd string) or left>right (if even string)\n",
    "If they are NOT same : You now have 2 options\n",
    "2.1) Remove Left Element and Check for the Rest of String OR\n",
    "2.2) Remove Right Element and Check for the Rest of the string.\n",
    "If either of them dont give palindrome then its not a palindorme.\n",
    "\n",
    "T=O(N), S=O(1)"
   ]
  },
  {
   "cell_type": "code",
   "execution_count": 5,
   "metadata": {},
   "outputs": [
    {
     "name": "stdout",
     "output_type": "stream",
     "text": [
      "True\n"
     ]
    }
   ],
   "source": [
    "class Solution:\n",
    "    def validPalindrome(self, s):\n",
    "        \"\"\"\n",
    "        :type s: str\n",
    "        :rtype: bool\n",
    "        \"\"\"\n",
    "        size = len(s)\n",
    "        if size < 3:\n",
    "          return True\n",
    "        \n",
    "        l, r = 0, size - 1\n",
    "        while l < r:\n",
    "          if s[l] != s[r]:\n",
    "            return self.is_valid_palindrom(s, l, r - 1) or self.is_valid_palindrom(s, l + 1, r)\n",
    "          l += 1\n",
    "          r -= 1\n",
    "        return True\n",
    "      \n",
    "    def is_valid_palindrom(self, s, l, r):\n",
    "      size = len(s)\n",
    "      if r - l < 1:\n",
    "        return True\n",
    "      while l < r:\n",
    "        if s[l] != s[r]:\n",
    "          return False\n",
    "        l += 1\n",
    "        r -= 1\n",
    "      return True\n",
    "      \n",
    "          \n",
    "print(Solution().validPalindrome(\"abcdcba\"))"
   ]
  },
  {
   "cell_type": "markdown",
   "metadata": {},
   "source": [
    "### 5.  Longest Palindromic Substring (leetcode.com 5)"
   ]
  },
  {
   "cell_type": "raw",
   "metadata": {},
   "source": [
    "Given a string s, find the longest palindromic substring in s. You may assume that the maximum length of s is 1000.\n",
    "\n",
    "Example 1:\n",
    "\n",
    "Input: \"babad\"\n",
    "Output: \"bab\"\n",
    "Note: \"aba\" is also a valid answer.\n",
    "Example 2:\n",
    "\n",
    "Input: \"cbbd\"\n",
    "Output: \"bb\"\n",
    "\n",
    "\n",
    "Solution: Iterate over the entire string and expand from that position to the left and right is what you are forming is a palindrome and also check if that new string's length is bigger than what you already have. \n",
    "T = O(N^2), S=O(1)\n",
    "\n",
    "PS. Also can sole in T=O(N) using manchester's algorithm"
   ]
  },
  {
   "cell_type": "code",
   "execution_count": 7,
   "metadata": {},
   "outputs": [
    {
     "name": "stdout",
     "output_type": "stream",
     "text": [
      "bab\n"
     ]
    }
   ],
   "source": [
    "class Solution:\n",
    "    def longestPalindrome(self, s):\n",
    "      # check args\n",
    "      if not isinstance(s, str):\n",
    "        raise TypeError('input not a string')\n",
    "      if len(s) < 2:\n",
    "          return s\n",
    "        \n",
    "      res = (0, 0)\n",
    "      for i in range(len(s)):\n",
    "          # odd case, like \"aba\"\n",
    "          l, r = self.helper(s, i, i)\n",
    "          if r - l + 1 > res[1] - res[0] + 1:\n",
    "              res = (l, r)\n",
    "          # even case, like \"abba\"\n",
    "          l, r = self.helper(s, i, i+1)\n",
    "          if r - l + 1 > res[1] - res[0] + 1:\n",
    "              res = (l, r)\n",
    "      return s[res[0]: res[1]+1]\n",
    "\n",
    "    # get the longest palindrome, l, r are the middle indexes   \n",
    "    # from inner to outer\n",
    "    def helper(self, s, l, r):\n",
    "        while l >= 0 and r < len(s) and s[l] == s[r]:\n",
    "            l -= 1; r += 1\n",
    "        return l + 1, r - 1  \n",
    "\n",
    "print(Solution().longestPalindrome(\"babad\"))"
   ]
  },
  {
   "cell_type": "code",
   "execution_count": null,
   "metadata": {
    "collapsed": true
   },
   "outputs": [],
   "source": []
  }
 ],
 "metadata": {
  "kernelspec": {
   "display_name": "Python 3",
   "language": "python",
   "name": "python3"
  },
  "language_info": {
   "codemirror_mode": {
    "name": "ipython",
    "version": 3
   },
   "file_extension": ".py",
   "mimetype": "text/x-python",
   "name": "python",
   "nbconvert_exporter": "python",
   "pygments_lexer": "ipython3",
   "version": "3.6.3"
  }
 },
 "nbformat": 4,
 "nbformat_minor": 2
}
