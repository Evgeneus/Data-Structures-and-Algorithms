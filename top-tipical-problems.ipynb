{
 "cells": [
  {
   "cell_type": "markdown",
   "metadata": {},
   "source": [
    "# top-tipical-problems"
   ]
  },
  {
   "cell_type": "markdown",
   "metadata": {},
   "source": [
    "## 1. 3Sum (Leetcod.com)"
   ]
  },
  {
   "cell_type": "raw",
   "metadata": {},
   "source": [
    "\n",
    "Given an array nums of n integers, are there elements a, b, c in nums such that a + b + c = 0? Find all unique triplets in the array which gives the sum of zero.\n",
    "\n",
    "Note:\n",
    "\n",
    "The solution set must not contain duplicate triplets.\n",
    "\n",
    "Example:\n",
    "\n",
    "Given array nums = [-1, 0, 1, 2, -1, -4],\n",
    "\n",
    "A solution set is:\n",
    "[\n",
    "  [-1, 0, 1],\n",
    "  [-1, -1, 2]\n",
    "]\n",
    "\n",
    "T=O(N^2)"
   ]
  },
  {
   "cell_type": "code",
   "execution_count": 1,
   "metadata": {},
   "outputs": [
    {
     "name": "stdout",
     "output_type": "stream",
     "text": [
      "[[-1, -1, 2], [-1, 0, 1]]\n"
     ]
    }
   ],
   "source": [
    "class Solution:\n",
    "    def threeSum(self, nums):\n",
    "        \"\"\"\n",
    "        :type nums: List[int]\n",
    "        :rtype: List[List[int]]\n",
    "        \"\"\"\n",
    "        res = []\n",
    "        N = len(nums)\n",
    "        if N < 3:\n",
    "          return []\n",
    "        nums.sort()\n",
    "        for i_ind, i in enumerate(nums):\n",
    "          if i_ind > 0 and i == nums[i_ind-1]:\n",
    "              continue\n",
    "          target = -i\n",
    "          l_ind, r_ind = i_ind + 1, N - 1\n",
    "          while l_ind < r_ind:\n",
    "            if nums[l_ind] + nums[r_ind] == target:\n",
    "              res.append([i, nums[l_ind], nums[r_ind]])\n",
    "              l_ind += 1\n",
    "              while l_ind < r_ind and nums[l_ind] == nums[l_ind-1]:\n",
    "                l_ind += 1\n",
    "            elif nums[l_ind] + nums[r_ind] > target:\n",
    "              r_ind -= 1\n",
    "            elif nums[l_ind] + nums[r_ind] < target:\n",
    "              l_ind += 1\n",
    "        return res\n",
    "              \n",
    "          \n",
    "print(Solution().threeSum([-1, 0, 1, 2, -1, -4]))"
   ]
  },
  {
   "cell_type": "markdown",
   "metadata": {
    "collapsed": true
   },
   "source": [
    "## 2. Palindrome Number (leetcode.com 9)"
   ]
  },
  {
   "cell_type": "raw",
   "metadata": {},
   "source": [
    "Determine whether an integer is a palindrome. An integer is a palindrome when it reads the same backward as forward.\n",
    "\n",
    "Example 1:\n",
    "\n",
    "Input: 121\n",
    "Output: true\n",
    "Example 2:\n",
    "\n",
    "Input: -121\n",
    "Output: false\n",
    "Explanation: From left to right, it reads -121. From right to left, it becomes 121-. Therefore it is not a palindrome."
   ]
  },
  {
   "cell_type": "code",
   "execution_count": 2,
   "metadata": {},
   "outputs": [
    {
     "name": "stdout",
     "output_type": "stream",
     "text": [
      "True\n"
     ]
    }
   ],
   "source": [
    "class Solution:\n",
    "    def isPalindrome(self, x):\n",
    "        \"\"\"\n",
    "        :type x: int\n",
    "        :rtype: bool\n",
    "        \"\"\"\n",
    "        # // Special cases:\n",
    "        # // As discussed above, when x < 0, x is not a palindrome.\n",
    "        # // Also if the last digit of the number is 0, in order to be a palindrome,\n",
    "        # // the first digit of the number also needs to be 0.\n",
    "        # // Only 0 satisfy this property.\n",
    "        # check args\n",
    "        # // When the length is an odd number, we can get rid of the middle digit by revertedNumber/10\n",
    "        # // For example when the input is 12321, at the end of the while loop we get x = 12, revertedNumber = 123,\n",
    "        # // since the middle digit doesn't matter in palidrome(it will always equal to itself), we can simply get rid of it.\n",
    "        if (x < 0) or (x % 10 == 0 and x != 0):\n",
    "          return False\n",
    "        \n",
    "        num = 0\n",
    "        while num < x:\n",
    "          num = num * 10 + x % 10\n",
    "          x = x // 10\n",
    "        \n",
    "        return (x == num) or (x == num // 10)\n",
    "    \n",
    "# Complexity Analysis:\n",
    "# Time complexity : O(\\log_{10}(n))O(log 10(n)). We divided the input by 10 for every iteration, so the time complexity is O(\\log_{10}(n))O(log 10(n))\n",
    "# Space complexity : O(1)O(1).\n",
    "\n",
    "print(Solution().isPalindrome(1234554321))"
   ]
  },
  {
   "cell_type": "markdown",
   "metadata": {},
   "source": [
    "### 3. Valid Palindrome (leetcode.come 125)"
   ]
  },
  {
   "cell_type": "raw",
   "metadata": {},
   "source": [
    "Given a string, determine if it is a palindrome, considering only alphanumeric characters and ignoring cases.\n",
    "\n",
    "Note: For the purpose of this problem, we define empty string as valid palindrome.\n",
    "\n",
    "Example 1:\n",
    "\n",
    "Input: \"A man, a plan, a canal: Panama\"\n",
    "Output: true\n",
    "\n",
    "T = O(N), S= O(1)\n",
    "\n",
    "// ASK if String could contain special characters and integers.!!!"
   ]
  },
  {
   "cell_type": "code",
   "execution_count": 4,
   "metadata": {
    "collapsed": true
   },
   "outputs": [],
   "source": [
    "class Solution:\n",
    "    def isPalindrome(self, s):\n",
    "        \"\"\"\n",
    "        :type s: str\n",
    "        :rtype: bool\n",
    "        \"\"\"\n",
    "        s = s.lower()\n",
    "        size = len(s)\n",
    "        if size <= 1:\n",
    "          return True\n",
    "        l_ind, r_ind = 0, size - 1\n",
    "        while l_ind < r_ind:\n",
    "          while l_ind < r_ind and not s[r_ind].isalnum():\n",
    "            r_ind -= 1\n",
    "          while l_ind < r_ind and not s[l_ind].isalnum():\n",
    "            l_ind += 1\n",
    "            \n",
    "          if s[l_ind] == s[r_ind]:\n",
    "            l_ind += 1\n",
    "            r_ind -= 1\n",
    "          else:\n",
    "            return False\n",
    "        return True"
   ]
  },
  {
   "cell_type": "markdown",
   "metadata": {},
   "source": [
    "### 4. Valid Palindrome II (leetcode.com 680)"
   ]
  },
  {
   "cell_type": "raw",
   "metadata": {},
   "source": [
    "Given a non-empty string s, you may delete at most one character. Judge whether you can make it a palindrome.\n",
    "\n",
    "Example 1:\n",
    "Input: \"aba\"\n",
    "Output: True\n",
    "Example 2:\n",
    "Input: \"abca\"\n",
    "Output: True\n",
    "Explanation: You could delete the character 'c'.\n",
    "Note:\n",
    "The string will only contain lowercase characters a-z. The maximum length of the string is 50000."
   ]
  },
  {
   "cell_type": "raw",
   "metadata": {},
   "source": [
    "Soilution:\n",
    "ASK if String could contain special characters and integers.!!!\n",
    "Just maintain 2 pointers i.e for start and end of string\n",
    "Keep checking if they are same\n",
    "\n",
    "If they are Same - then just check inside and keep going till you reach the center(left==right)(if odd string) or left>right (if even string)\n",
    "If they are NOT same : You now have 2 options\n",
    "2.1) Remove Left Element and Check for the Rest of String OR\n",
    "2.2) Remove Right Element and Check for the Rest of the string.\n",
    "If either of them dont give palindrome then its not a palindorme.\n",
    "\n",
    "T=O(N), S=O(1)"
   ]
  },
  {
   "cell_type": "code",
   "execution_count": 5,
   "metadata": {},
   "outputs": [
    {
     "name": "stdout",
     "output_type": "stream",
     "text": [
      "True\n"
     ]
    }
   ],
   "source": [
    "class Solution:\n",
    "    def validPalindrome(self, s):\n",
    "        \"\"\"\n",
    "        :type s: str\n",
    "        :rtype: bool\n",
    "        \"\"\"\n",
    "        size = len(s)\n",
    "        if size < 3:\n",
    "          return True\n",
    "        \n",
    "        l, r = 0, size - 1\n",
    "        while l < r:\n",
    "          if s[l] != s[r]:\n",
    "            return self.is_valid_palindrom(s, l, r - 1) or self.is_valid_palindrom(s, l + 1, r)\n",
    "          l += 1\n",
    "          r -= 1\n",
    "        return True\n",
    "      \n",
    "    def is_valid_palindrom(self, s, l, r):\n",
    "      size = len(s)\n",
    "      if r - l < 1:\n",
    "        return True\n",
    "      while l < r:\n",
    "        if s[l] != s[r]:\n",
    "          return False\n",
    "        l += 1\n",
    "        r -= 1\n",
    "      return True\n",
    "      \n",
    "          \n",
    "print(Solution().validPalindrome(\"abcdcba\"))"
   ]
  },
  {
   "cell_type": "markdown",
   "metadata": {},
   "source": [
    "### 5.  Longest Palindromic Substring (leetcode.com 5)"
   ]
  },
  {
   "cell_type": "raw",
   "metadata": {},
   "source": [
    "Given a string s, find the longest palindromic substring in s. You may assume that the maximum length of s is 1000.\n",
    "\n",
    "Example 1:\n",
    "\n",
    "Input: \"babad\"\n",
    "Output: \"bab\"\n",
    "Note: \"aba\" is also a valid answer.\n",
    "Example 2:\n",
    "\n",
    "Input: \"cbbd\"\n",
    "Output: \"bb\"\n",
    "\n",
    "\n",
    "Solution: Iterate over the entire string and expand from that position to the left and right is what you are forming is a palindrome and also check if that new string's length is bigger than what you already have. \n",
    "T = O(N^2), S=O(1)\n",
    "\n",
    "PS. Also can sole in T=O(N) using manchester's algorithm"
   ]
  },
  {
   "cell_type": "code",
   "execution_count": 7,
   "metadata": {},
   "outputs": [
    {
     "name": "stdout",
     "output_type": "stream",
     "text": [
      "bab\n"
     ]
    }
   ],
   "source": [
    "class Solution:\n",
    "    def longestPalindrome(self, s):\n",
    "      # check args\n",
    "      if not isinstance(s, str):\n",
    "        raise TypeError('input not a string')\n",
    "      if len(s) < 2:\n",
    "          return s\n",
    "        \n",
    "      res = (0, 0)\n",
    "      for i in range(len(s)):\n",
    "          # odd case, like \"aba\"\n",
    "          l, r = self.helper(s, i, i)\n",
    "          if r - l + 1 > res[1] - res[0] + 1:\n",
    "              res = (l, r)\n",
    "          # even case, like \"abba\"\n",
    "          l, r = self.helper(s, i, i+1)\n",
    "          if r - l + 1 > res[1] - res[0] + 1:\n",
    "              res = (l, r)\n",
    "      return s[res[0]: res[1]+1]\n",
    "\n",
    "    # get the longest palindrome, l, r are the middle indexes   \n",
    "    # from inner to outer\n",
    "    def helper(self, s, l, r):\n",
    "        while l >= 0 and r < len(s) and s[l] == s[r]:\n",
    "            l -= 1; r += 1\n",
    "        return l + 1, r - 1  \n",
    "\n",
    "print(Solution().longestPalindrome(\"babad\"))"
   ]
  },
  {
   "cell_type": "markdown",
   "metadata": {},
   "source": [
    "### 6. Longest Palindrome (leetcode.com 409)"
   ]
  },
  {
   "cell_type": "raw",
   "metadata": {},
   "source": [
    "Given a string which consists of lowercase or uppercase letters, find the length of the longest palindromes that can be built with those letters.\n",
    "\n",
    "This is case sensitive, for example \"Aa\" is not considered a palindrome here.\n",
    "\n",
    "Note:\n",
    "Assume the length of given string will not exceed 1,010.\n",
    "\n",
    "Example:\n",
    "\n",
    "Input:\n",
    "\"abccccdd\"\n",
    "\n",
    "Output:\n",
    "7\n",
    "\n",
    "Explanation:\n",
    "One longest palindrome that can be built is \"dccaccd\", whose length is 7.\n",
    "\n",
    "T=O(N), S=O(N)"
   ]
  },
  {
   "cell_type": "code",
   "execution_count": 10,
   "metadata": {},
   "outputs": [
    {
     "name": "stdout",
     "output_type": "stream",
     "text": [
      "7\n"
     ]
    }
   ],
   "source": [
    "import collections\n",
    "class Solution:\n",
    "    # create a dict with counts\n",
    "    def longestPalindrome(self, s):\n",
    "        ans = 0\n",
    "        for v in collections.Counter(s).values():\n",
    "            ans += v // 2 * 2\n",
    "            # if the number of characters is even than we can add a middle character\n",
    "            if ans % 2 == 0 and v % 2 == 1:\n",
    "                ans += 1\n",
    "        return ans\n",
    "print(Solution().longestPalindrome(\"abccccdd\"))"
   ]
  },
  {
   "cell_type": "markdown",
   "metadata": {
    "collapsed": true
   },
   "source": [
    "### 7. Dot product (Facebook)"
   ]
  },
  {
   "cell_type": "raw",
   "metadata": {},
   "source": [
    "Suppose we have very large sparse vectors, which contains a lot of zeros and double .\n",
    "\n",
    "1)find a data structure to store them\n",
    "2)get the dot product of them"
   ]
  },
  {
   "cell_type": "code",
   "execution_count": 1,
   "metadata": {},
   "outputs": [
    {
     "name": "stdout",
     "output_type": "stream",
     "text": [
      "5\n"
     ]
    }
   ],
   "source": [
    "def sparse2dense(v):\n",
    "    # we need to keep the incrimented order of indixes\n",
    "    # we can use also dict\n",
    "    return [(ind, val)for ind, val in enumerate(v) if val]\n",
    "\n",
    "def dot_product(v1, v2):\n",
    "    # check args TO DO:\n",
    "    if len(v1) != len(v2):\n",
    "        raise Exception()\n",
    "    v1_d, v2_d = sparse2dense(v1), sparse2dense(v2)\n",
    "    \n",
    "    prod = 0\n",
    "    i = j = 0\n",
    "    while i < len(v1_d) and j < len(v2_d):\n",
    "        if v1_d[i][0] == v2_d[j][0]:\n",
    "            prod += v1_d[i][1] * v2_d[j][1]\n",
    "            i += 1\n",
    "            j += 1\n",
    "        elif v1_d[i][0] > v2_d[j][0]:\n",
    "            j += 1\n",
    "        else:\n",
    "            i += 1\n",
    "    return prod\n",
    "\n",
    "print(dot_product([1,1,2], [2,1,1]))"
   ]
  },
  {
   "cell_type": "markdown",
   "metadata": {},
   "source": [
    "#### 8. Sparse Matrix Multiplication (Leetcode)"
   ]
  },
  {
   "cell_type": "raw",
   "metadata": {},
   "source": [
    "Given two sparse matrices A and B, return the result of AB.\n",
    "You may assume that A's column number is equal to B's row number.\n",
    "Example:\n",
    "A = [\n",
    "  [ 1, 0, 0],\n",
    "  [-1, 0, 3]\n",
    "]\n",
    "\n",
    "B = [\n",
    "  [ 7, 0, 0 ],\n",
    "  [ 0, 0, 0 ],\n",
    "  [ 0, 0, 1 ]\n",
    "]\n",
    "\n",
    "\n",
    "     |  1 0 0 |   | 7 0 0 |   |  7 0 0 |\n",
    "AB = | -1 0 3 | x | 0 0 0 | = | -7 0 3 |\n",
    "                  | 0 0 1 |"
   ]
  },
  {
   "cell_type": "code",
   "execution_count": 5,
   "metadata": {},
   "outputs": [
    {
     "name": "stdout",
     "output_type": "stream",
     "text": [
      "[[7, 0, 0], [-7, 0, 3]]\n"
     ]
    }
   ],
   "source": [
    "def multiply(M1, M2):\n",
    "    M3 = [[0]*len(M2[0]) for _ in range(len(M1))]\n",
    "    for r1 in range(len(M1)):\n",
    "        for c2 in range(len(M2[0])):\n",
    "            for r2 in range(len(M2)):\n",
    "                # !!! If A[i][j] == 0, I can just skip the calculation.\n",
    "                if M1[r1][r2] == 0:\n",
    "                    continue\n",
    "                M3[r1][c2] += M1[r1][r2] * M2[r2][c2]\n",
    "    return M3\n",
    "\n",
    "A = [\n",
    "  [ 1, 0, 0],\n",
    "  [-1, 0, 3]\n",
    "]\n",
    "\n",
    "B = [\n",
    "  [ 7, 0, 0 ],\n",
    "  [ 0, 0, 0 ],\n",
    "  [ 0, 0, 1 ]\n",
    "]\n",
    "\n",
    "print(multiply(A, B))"
   ]
  },
  {
   "cell_type": "markdown",
   "metadata": {
    "collapsed": true
   },
   "source": [
    "#### 9. Move Zeroes (leetcode.com 283 Facebook)"
   ]
  },
  {
   "cell_type": "raw",
   "metadata": {},
   "source": [
    "Given an array nums, write a function to move all 0's to the end of it while maintaining the relative order of the non-zero elements.\n",
    "\n",
    "Example:\n",
    "\n",
    "Input: [0,1,0,3,12]\n",
    "Output: [1,3,12,0,0]\n",
    "Note:\n",
    "\n",
    "You must do this in-place without making a copy of the array.\n",
    "Minimize the total number of operations."
   ]
  },
  {
   "cell_type": "code",
   "execution_count": 1,
   "metadata": {},
   "outputs": [
    {
     "name": "stdout",
     "output_type": "stream",
     "text": [
      "[1, 3, 12, 0, 0]\n"
     ]
    }
   ],
   "source": [
    "class Solution:\n",
    "    def moveZeroes(self, nums):\n",
    "        \"\"\"\n",
    "        :type nums: List[int]\n",
    "        :rtype: void Do not return anything, modify nums in-place instead.\n",
    "        \"\"\"\n",
    "        # check args\n",
    "        if not isinstance(nums, list):\n",
    "          raise TypeError()\n",
    "        if not nums:\n",
    "          return \n",
    "        \n",
    "        first_zero = 0\n",
    "        for i in range(len(nums)):\n",
    "          if nums[i] != 0:\n",
    "            nums[first_zero], nums[i] = nums[i], nums[first_zero]\n",
    "            first_zero += 1\n",
    "\n",
    "nums = [0,1,0,3,12]\n",
    "Solution().moveZeroes(nums)\n",
    "print(nums)"
   ]
  },
  {
   "cell_type": "markdown",
   "metadata": {},
   "source": [
    "#### 10. Regular Expression Matching (Leetcode.com, Fasebook)"
   ]
  },
  {
   "cell_type": "raw",
   "metadata": {},
   "source": [
    "Given an input string (s) and a pattern (p), implement regular expression matching with support for '.' and '*'.\n",
    "\n",
    "'.' Matches any single character.\n",
    "'*' Matches zero or more of the preceding element.\n",
    "The matching should cover the entire input string (not partial).\n",
    "\n",
    "Note:\n",
    "\n",
    "s could be empty and contains only lowercase letters a-z.\n",
    "p could be empty and contains only lowercase letters a-z, and characters like . or *.\n",
    "Example 1:\n",
    "\n",
    "Input:\n",
    "s = \"aa\"\n",
    "p = \"a\"\n",
    "Output: false\n",
    "Explanation: \"a\" does not match the entire string \"aa\".\n",
    "Example 2:\n",
    "\n",
    "Input:\n",
    "s = \"aa\"\n",
    "p = \"a*\"\n",
    "Output: true\n",
    "Explanation: '*' means zero or more of the precedeng element, 'a'. Therefore, by repeating 'a' once, it becomes \"aa\".\n",
    "Example 3:\n",
    "\n",
    "Input:\n",
    "s = \"ab\"\n",
    "p = \".*\"\n",
    "Output: true\n",
    "Explanation: \".*\" means \"zero or more (*) of any character (.)\".\n",
    "Example 4:\n",
    "\n",
    "Input:\n",
    "s = \"aab\"\n",
    "p = \"c*a*b\"\n",
    "Output: true\n",
    "Explanation: c can be repeated 0 times, a can be repeated 1 time. Therefore it matches \"aab\".\n",
    "\n",
    "----------------------\n",
    "COMPLEXITY T(2^n):\n",
    "Let's first suppose that\n",
    "\n",
    "the length of s is n\n",
    "length of p is m\n",
    "The typical recursive solution will be as follows. One thing should be pointed out the searching tree of the recursion (each node will have one child or two at most):\n",
    "\n",
    "no matter what is to happen the index of either s or p will be incremented in the next recursive function so the worst case of the depth will be n+m\n",
    "\n",
    "but as we can clearly spot it that only when the *(p+1)=='*' there will be two sub-traversals and only when the isMatch(s, p+2) is false the second part will be checked - since they are connected by or; so the worst traversing case will be O(2^n)."
   ]
  },
  {
   "cell_type": "code",
   "execution_count": 2,
   "metadata": {},
   "outputs": [
    {
     "name": "stdout",
     "output_type": "stream",
     "text": [
      "True\n"
     ]
    }
   ],
   "source": [
    "class Solution:\n",
    "    def isMatch(self, s, p):\n",
    "        if not p:\n",
    "            return not s\n",
    "\n",
    "        first_match = bool(s) and p[0] in [s[0], '.']\n",
    "        if len(p) >= 2 and p[1] == '*':\n",
    "            return self.isMatch(s, p[2:]) or (first_match and self.isMatch(s[1:], p))     \n",
    "        # 1)delete a char before '*' in the pattern; 2)copy a char before '*' in the pattern\n",
    "        else:\n",
    "            return first_match and self.isMatch(s[1:], p[1:])\n",
    "        \n",
    "print(Solution().isMatch('aab', 'c*a*b'))"
   ]
  },
  {
   "cell_type": "raw",
   "metadata": {},
   "source": [
    "Diynamic Programming - saving intermediate results in memo\n",
    "Complexity Analysis\n",
    "\n",
    "Time Complexity: Let T, PT,P be the lengths of the text and the pattern respectively. The work for every call to dp(i, j) for i=0, ... ,Ti=0,...,T; j=0, ... ,Pj=0,...,P is done once, and it is O(1)O(1) work. Hence, the time complexity is O(TP)O(TP).\n",
    "\n",
    "Space Complexity: The only memory we use is the O(TP)O(TP) boolean entries in our cache. Hence, the space complexity is O(TP)O(TP)."
   ]
  },
  {
   "cell_type": "code",
   "execution_count": 3,
   "metadata": {},
   "outputs": [],
   "source": [
    "# using Diynamic Programming - saving intermediate results in memo\n",
    "class Solution:\n",
    "    def isMatch(self, s, p):\n",
    "        memo = {}\n",
    "        def run(i, j):\n",
    "            # i for string ind, j for pattern ind\n",
    "            if memo.get((i,j)) != None:\n",
    "                return memo.get((i,j))\n",
    "            if j == len(p):\n",
    "                ans = i == len(s)\n",
    "                memo[(i, j)] = ans\n",
    "                return ans\n",
    "            first_match = i < len(s) and p[j] in [s[i], '.']\n",
    "            if len(p) - j >= 2 and p[j+1] == '*':\n",
    "                ans = run(i, j+2) or (first_match and run(i+1, j))\n",
    "            else:\n",
    "                ans = first_match and run(i+1, j+1)\n",
    "            memo[(i, j)] = ans\n",
    "            return ans\n",
    "        return run(0, 0)"
   ]
  },
  {
   "cell_type": "markdown",
   "metadata": {},
   "source": [
    "#### 11. Subarray Sum Equals K (Leetcode 560, Facebook)"
   ]
  },
  {
   "cell_type": "raw",
   "metadata": {},
   "source": [
    "Given an array of integers and an integer k, you need to find the total number of continuous subarrays whose sum equals to k.\n",
    "\n",
    "Example 1:\n",
    "Input:nums = [1,1,1], k = 2\n",
    "Output: 2"
   ]
  },
  {
   "cell_type": "raw",
   "metadata": {},
   "source": [
    "SOLUTION Using hashmap\n",
    "Algorithm\n",
    "The idea behind this approach is as follows: If the cumulative sum(repreesnted by sum[i]sum[i] for sum upto i^{th}i \n",
    "th\n",
    "  index) upto two indices is the same, the sum of the elements lying in between those indices is zero. Extending the same thought further, if the cumulative sum upto two indices, say ii and jj is at a difference of kk i.e. if sum[i] - sum[j] = ksum[i]−sum[j]=k, the sum of elements lying between indices ii and jj is kk.\n",
    "\n",
    "Based on these thoughts, we make use of a hashmap mapmap which is used to store the cumulative sum upto all the indices possible along with the number of times the same sum occurs. We store the data in the form: (sum_i, no. of occurences of sum_i)(sum \n",
    "i\n",
    "​\t\n",
    " ,no.ofoccurencesofsum \n",
    "i\n",
    "​\t\n",
    " ). We traverse over the array numsnums and keep on finding the cumulative sum. Every time we encounter a new sum, we make a new entry in the hashmap corresponding to that sum. If the same sum occurs again, we increment the count corresponding to that sum in the hashmap. Further, for every sum encountered, we also determine the number of times the sum sum-ksum−k has occured already, since it will determine the number of times a subarray with sum kk has occured upto the current index. We increment the countcount by the same amount."
   ]
  },
  {
   "cell_type": "code",
   "execution_count": 4,
   "metadata": {},
   "outputs": [
    {
     "name": "stdout",
     "output_type": "stream",
     "text": [
      "2\n"
     ]
    }
   ],
   "source": [
    "class SolutionHash:\n",
    "    def subarraySum(self, nums: 'List[int]', k: 'int') -> 'int':\n",
    "        # T = O(N), S=O(N)\n",
    "        from collections import defaultdict\n",
    "        stat = defaultdict(lambda: 0)\n",
    "        stat[0] = 1\n",
    "        c = 0\n",
    "        sum_ = 0\n",
    "        for i in nums:\n",
    "            sum_ += i\n",
    "            if sum_ - k in stat:\n",
    "                c += stat[sum_ - k]\n",
    "            stat[sum_] += 1\n",
    "        return c\n",
    "    \n",
    "class Solution:\n",
    "    def subarraySum(self, nums: 'List[int]', k: 'int') -> 'int':\n",
    "        # T = O(N^2), S = O(1)\n",
    "        c = 0\n",
    "        for i in range(len(nums)):\n",
    "            sum_ = nums[i]\n",
    "            if sum_ == k: c += 1\n",
    "            for j in nums[i+1:]:\n",
    "                sum_ += j\n",
    "                if sum_ == k:\n",
    "                    c += 1\n",
    "        return c\n",
    "    \n",
    "print(SolutionHash().subarraySum([1,1,1], 2))"
   ]
  },
  {
   "cell_type": "markdown",
   "metadata": {},
   "source": [
    "#### 12. Best Time to Buy and Sell Stock (Leetcode 121, Facebook)"
   ]
  },
  {
   "cell_type": "raw",
   "metadata": {},
   "source": [
    "Say you have an array for which the ith element is the price of a given stock on day i.\n",
    "\n",
    "If you were only permitted to complete at most one transaction (i.e., buy one and sell one share of the stock), design an algorithm to find the maximum profit.\n",
    "\n",
    "Note that you cannot sell a stock before you buy one.\n",
    "\n",
    "Example 1:\n",
    "\n",
    "Input: [7,1,5,3,6,4]\n",
    "Output: 5\n",
    "Explanation: Buy on day 2 (price = 1) and sell on day 5 (price = 6), profit = 6-1 = 5.\n",
    "             Not 7-1 = 6, as selling price needs to be larger than buying price."
   ]
  },
  {
   "cell_type": "code",
   "execution_count": 6,
   "metadata": {},
   "outputs": [],
   "source": [
    "class Solution:\n",
    "    def maxProfit(self, prices):\n",
    "        \"\"\"\n",
    "        :type prices: List[int]\n",
    "        :rtype: int\n",
    "        \"\"\"\n",
    "        # T = O(N), S = O(1)\n",
    "        if not prices:\n",
    "            return 0\n",
    "        min_p = prices[0]\n",
    "        max_profit = 0\n",
    "        for p in prices[1:]:\n",
    "          if p < min_p:\n",
    "            min_p = p\n",
    "            continue\n",
    "          if p - min_p > max_profit:\n",
    "            max_profit = p - min_p\n",
    "        return max_profit"
   ]
  },
  {
   "cell_type": "code",
   "execution_count": null,
   "metadata": {},
   "outputs": [],
   "source": []
  }
 ],
 "metadata": {
  "kernelspec": {
   "display_name": "Python 3",
   "language": "python",
   "name": "python3"
  },
  "language_info": {
   "codemirror_mode": {
    "name": "ipython",
    "version": 3
   },
   "file_extension": ".py",
   "mimetype": "text/x-python",
   "name": "python",
   "nbconvert_exporter": "python",
   "pygments_lexer": "ipython3",
   "version": "3.6.4"
  }
 },
 "nbformat": 4,
 "nbformat_minor": 2
}
