{
 "cells": [
  {
   "cell_type": "markdown",
   "metadata": {},
   "source": [
    "# top-tipical-problems"
   ]
  },
  {
   "cell_type": "markdown",
   "metadata": {},
   "source": [
    "## 1. 3Sum (Leetcod.com)"
   ]
  },
  {
   "cell_type": "raw",
   "metadata": {},
   "source": [
    "\n",
    "Given an array nums of n integers, are there elements a, b, c in nums such that a + b + c = 0? Find all unique triplets in the array which gives the sum of zero.\n",
    "\n",
    "Note:\n",
    "\n",
    "The solution set must not contain duplicate triplets.\n",
    "\n",
    "Example:\n",
    "\n",
    "Given array nums = [-1, 0, 1, 2, -1, -4],\n",
    "\n",
    "A solution set is:\n",
    "[\n",
    "  [-1, 0, 1],\n",
    "  [-1, -1, 2]\n",
    "]"
   ]
  },
  {
   "cell_type": "code",
   "execution_count": 1,
   "metadata": {},
   "outputs": [
    {
     "name": "stdout",
     "output_type": "stream",
     "text": [
      "[[-1, -1, 2], [-1, 0, 1]]\n"
     ]
    }
   ],
   "source": [
    "class Solution:\n",
    "    def threeSum(self, nums):\n",
    "        \"\"\"\n",
    "        :type nums: List[int]\n",
    "        :rtype: List[List[int]]\n",
    "        \"\"\"\n",
    "        res = []\n",
    "        N = len(nums)\n",
    "        if N < 3:\n",
    "          return []\n",
    "        nums.sort()\n",
    "        for i_ind, i in enumerate(nums):\n",
    "          if i_ind > 0 and i == nums[i_ind-1]:\n",
    "              continue\n",
    "          target = -i\n",
    "          l_ind, r_ind = i_ind + 1, N - 1\n",
    "          while l_ind < r_ind:\n",
    "            if nums[l_ind] + nums[r_ind] == target:\n",
    "              res.append([i, nums[l_ind], nums[r_ind]])\n",
    "              l_ind += 1\n",
    "              while l_ind < r_ind and nums[l_ind] == nums[l_ind-1]:\n",
    "                l_ind += 1\n",
    "            elif nums[l_ind] + nums[r_ind] > target:\n",
    "              r_ind -= 1\n",
    "            elif nums[l_ind] + nums[r_ind] < target:\n",
    "              l_ind += 1\n",
    "        return res\n",
    "              \n",
    "          \n",
    "print(Solution().threeSum([-1, 0, 1, 2, -1, -4]))"
   ]
  },
  {
   "cell_type": "code",
   "execution_count": null,
   "metadata": {
    "collapsed": true
   },
   "outputs": [],
   "source": []
  }
 ],
 "metadata": {
  "kernelspec": {
   "display_name": "Python 3",
   "language": "python",
   "name": "python3"
  },
  "language_info": {
   "codemirror_mode": {
    "name": "ipython",
    "version": 3
   },
   "file_extension": ".py",
   "mimetype": "text/x-python",
   "name": "python",
   "nbconvert_exporter": "python",
   "pygments_lexer": "ipython3",
   "version": "3.6.3"
  }
 },
 "nbformat": 4,
 "nbformat_minor": 2
}
