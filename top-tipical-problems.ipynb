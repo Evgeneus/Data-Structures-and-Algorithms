{
 "cells": [
  {
   "cell_type": "markdown",
   "metadata": {},
   "source": [
    "# top-tipical-problems"
   ]
  },
  {
   "cell_type": "markdown",
   "metadata": {},
   "source": [
    "## 1. 3Sum (Leetcod.com)"
   ]
  },
  {
   "cell_type": "raw",
   "metadata": {},
   "source": [
    "\n",
    "Given an array nums of n integers, are there elements a, b, c in nums such that a + b + c = 0? Find all unique triplets in the array which gives the sum of zero.\n",
    "\n",
    "Note:\n",
    "\n",
    "The solution set must not contain duplicate triplets.\n",
    "\n",
    "Example:\n",
    "\n",
    "Given array nums = [-1, 0, 1, 2, -1, -4],\n",
    "\n",
    "A solution set is:\n",
    "[\n",
    "  [-1, 0, 1],\n",
    "  [-1, -1, 2]\n",
    "]"
   ]
  },
  {
   "cell_type": "code",
   "execution_count": 1,
   "metadata": {},
   "outputs": [
    {
     "name": "stdout",
     "output_type": "stream",
     "text": [
      "[[-1, -1, 2], [-1, 0, 1]]\n"
     ]
    }
   ],
   "source": [
    "class Solution:\n",
    "    def threeSum(self, nums):\n",
    "        \"\"\"\n",
    "        :type nums: List[int]\n",
    "        :rtype: List[List[int]]\n",
    "        \"\"\"\n",
    "        res = []\n",
    "        N = len(nums)\n",
    "        if N < 3:\n",
    "          return []\n",
    "        nums.sort()\n",
    "        for i_ind, i in enumerate(nums):\n",
    "          if i_ind > 0 and i == nums[i_ind-1]:\n",
    "              continue\n",
    "          target = -i\n",
    "          l_ind, r_ind = i_ind + 1, N - 1\n",
    "          while l_ind < r_ind:\n",
    "            if nums[l_ind] + nums[r_ind] == target:\n",
    "              res.append([i, nums[l_ind], nums[r_ind]])\n",
    "              l_ind += 1\n",
    "              while l_ind < r_ind and nums[l_ind] == nums[l_ind-1]:\n",
    "                l_ind += 1\n",
    "            elif nums[l_ind] + nums[r_ind] > target:\n",
    "              r_ind -= 1\n",
    "            elif nums[l_ind] + nums[r_ind] < target:\n",
    "              l_ind += 1\n",
    "        return res\n",
    "              \n",
    "          \n",
    "print(Solution().threeSum([-1, 0, 1, 2, -1, -4]))"
   ]
  },
  {
   "cell_type": "code",
   "execution_count": 7,
   "metadata": {},
   "outputs": [
    {
     "name": "stdout",
     "output_type": "stream",
     "text": [
      "0 0\n",
      "True\n"
     ]
    }
   ],
   "source": [
    "class Solution:\n",
    "    def isPalindrome(self, s):\n",
    "        \"\"\"\n",
    "        :type s: str\n",
    "        :rtype: bool\n",
    "        \"\"\"\n",
    "        s = s.lower()\n",
    "        size = len(s)\n",
    "        if size <= 1:\n",
    "          return True\n",
    "        l_ind, r_ind = 0, size - 1\n",
    "        while l_ind < r_ind:\n",
    "          while l_ind < r_ind and not s[r_ind].isalnum():\n",
    "            r_ind -= 1\n",
    "          while l_ind < r_ind and not s[l_ind].isalnum():\n",
    "            l_ind += 1\n",
    "          print(l_ind, r_ind)\n",
    "          if s[l_ind] == s[r_ind]:\n",
    "            l_ind += 1\n",
    "            r_ind -= 1\n",
    "          else:\n",
    "            return False\n",
    "        return True\n",
    "print(Solution().isPalindrome('.-'))"
   ]
  },
  {
   "cell_type": "markdown",
   "metadata": {
    "collapsed": true
   },
   "source": [
    "## 2. Palindrome Number (leetcode.com 9)"
   ]
  },
  {
   "cell_type": "raw",
   "metadata": {},
   "source": [
    "Determine whether an integer is a palindrome. An integer is a palindrome when it reads the same backward as forward.\n",
    "\n",
    "Example 1:\n",
    "\n",
    "Input: 121\n",
    "Output: true\n",
    "Example 2:\n",
    "\n",
    "Input: -121\n",
    "Output: false\n",
    "Explanation: From left to right, it reads -121. From right to left, it becomes 121-. Therefore it is not a palindrome."
   ]
  },
  {
   "cell_type": "code",
   "execution_count": 2,
   "metadata": {},
   "outputs": [
    {
     "name": "stdout",
     "output_type": "stream",
     "text": [
      "True\n"
     ]
    }
   ],
   "source": [
    "class Solution:\n",
    "    def isPalindrome(self, x):\n",
    "        \"\"\"\n",
    "        :type x: int\n",
    "        :rtype: bool\n",
    "        \"\"\"\n",
    "        # // Special cases:\n",
    "        # // As discussed above, when x < 0, x is not a palindrome.\n",
    "        # // Also if the last digit of the number is 0, in order to be a palindrome,\n",
    "        # // the first digit of the number also needs to be 0.\n",
    "        # // Only 0 satisfy this property.\n",
    "        # check args\n",
    "        # // When the length is an odd number, we can get rid of the middle digit by revertedNumber/10\n",
    "        # // For example when the input is 12321, at the end of the while loop we get x = 12, revertedNumber = 123,\n",
    "        # // since the middle digit doesn't matter in palidrome(it will always equal to itself), we can simply get rid of it.\n",
    "        if (x < 0) or (x % 10 == 0 and x != 0):\n",
    "          return False\n",
    "        \n",
    "        num = 0\n",
    "        while num < x:\n",
    "          num = num * 10 + x % 10\n",
    "          x = x // 10\n",
    "        \n",
    "        return (x == num) or (x == num // 10)\n",
    "    \n",
    "# Complexity Analysis:\n",
    "# Time complexity : O(\\log_{10}(n))O(log 10(n)). We divided the input by 10 for every iteration, so the time complexity is O(\\log_{10}(n))O(log 10(n))\n",
    "# Space complexity : O(1)O(1).\n",
    "\n",
    "print(Solution().isPalindrome(1234554321))"
   ]
  },
  {
   "cell_type": "markdown",
   "metadata": {},
   "source": [
    "### 3. Valid Palindrome (leetcode.come 125)"
   ]
  },
  {
   "cell_type": "raw",
   "metadata": {},
   "source": [
    "Given a string, determine if it is a palindrome, considering only alphanumeric characters and ignoring cases.\n",
    "\n",
    "Note: For the purpose of this problem, we define empty string as valid palindrome.\n",
    "\n",
    "Example 1:\n",
    "\n",
    "Input: \"A man, a plan, a canal: Panama\"\n",
    "Output: true"
   ]
  },
  {
   "cell_type": "code",
   "execution_count": 4,
   "metadata": {
    "collapsed": true
   },
   "outputs": [],
   "source": [
    "class Solution:\n",
    "    def isPalindrome(self, s):\n",
    "        \"\"\"\n",
    "        :type s: str\n",
    "        :rtype: bool\n",
    "        \"\"\"\n",
    "        s = s.lower()\n",
    "        size = len(s)\n",
    "        if size <= 1:\n",
    "          return True\n",
    "        l_ind, r_ind = 0, size - 1\n",
    "        while l_ind < r_ind:\n",
    "          while l_ind < r_ind and not s[r_ind].isalnum():\n",
    "            r_ind -= 1\n",
    "          while l_ind < r_ind and not s[l_ind].isalnum():\n",
    "            l_ind += 1\n",
    "            \n",
    "          if s[l_ind] == s[r_ind]:\n",
    "            l_ind += 1\n",
    "            r_ind -= 1\n",
    "          else:\n",
    "            return False\n",
    "        return True"
   ]
  },
  {
   "cell_type": "code",
   "execution_count": null,
   "metadata": {
    "collapsed": true
   },
   "outputs": [],
   "source": []
  }
 ],
 "metadata": {
  "kernelspec": {
   "display_name": "Python 3",
   "language": "python",
   "name": "python3"
  },
  "language_info": {
   "codemirror_mode": {
    "name": "ipython",
    "version": 3
   },
   "file_extension": ".py",
   "mimetype": "text/x-python",
   "name": "python",
   "nbconvert_exporter": "python",
   "pygments_lexer": "ipython3",
   "version": "3.6.3"
  }
 },
 "nbformat": 4,
 "nbformat_minor": 2
}
